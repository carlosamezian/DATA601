{
 "cells": [
  {
   "cell_type": "markdown",
   "metadata": {
    "colab_type": "text",
    "id": "view-in-github"
   },
   "source": [
    "<a href=\"https://github.com/fgonzaleumbc/DATA601/tree/main/Projects/Project_1/DATA601_Project1\" target=\"_parent\"><img src=\"https://colab.research.google.com/assets/colab-badge.svg\" alt=\"Open In Colab\"/></a>"
   ]
  },
  {
   "cell_type": "markdown",
   "metadata": {
    "id": "Nt2eGmdOKCmL"
   },
   "source": [
    "## DATA 601 Project-1\n",
    "### Deadline: April 24, 2023, 23:59pm"
   ]
  },
  {
   "cell_type": "markdown",
   "metadata": {},
   "source": [
    "### Instructions\n",
    "Please download the specified data as csv files: <br>\n",
    "\n",
    "File-1: Maryland Statewide Vehicle Crashes:  <br>\n",
    "https://opendata.maryland.gov/Public-Safety/Maryland-Statewide-Vehicle-Crashes/65du-s3qu\n",
    "\n",
    "File-2: Person Details:  <br>\n",
    "https://opendata.maryland.gov/Public-Safety/Maryland-Statewide-Vehicle-Crashes-Person-Details-/py4c-dicf\n",
    "\n",
    "File-3: Vehicle Details:  <br>\n",
    "https://opendata.maryland.gov/Public-Safety/Maryland-Statewide-Vehicle-Crashes-Vehicle-Details/mhft-5t5y\n",
    "\n",
    "<br>\n",
    "We will only use \"Accident Year = 2020\" data. Please remove all the unncessary rows. Names these files as \"crashes.csv\", \"persons.csv\", and \"vehicles.csv\", respetively. Your notebook will be tested with the files I created. If you have a different naming, your code won't work.\n",
    "\n",
    "Notes, in the MD Opendata website, you may be able to obtain the data in various ways all which are acceptable. \n",
    "1) Using the API and downloading the CSV files then filtering as needed either in Excel or in Python. \n",
    "2) Use their user interface to perform initial filtering (i.e., Question one requires only calendar year 2020 and exporting the 2020 data as a CSV. Both are acceptable."
   ]
  },
  {
   "cell_type": "markdown",
   "metadata": {
    "id": "2Cm77Wu6KCmN"
   },
   "source": [
    "### Question 1 (15 points)\n",
    "From these three csv files, create a single dataframe which will include following columns only <br>\n",
    "- from the \"crashes.csv\", accident date, accident time, weather description, report_no, county, latittude, and longitude\n",
    "- from the \"persons.csv\", report_no, gender, date of birth, and state code\n",
    "- from the \"vehicles.csv\", report_no, vehicle year, vehicle make, speed limit\n",
    "<br>\n",
    "\n",
    "Save your dataframe as a new csv file called \"md_crash_2020.csv\".\n",
    "Note: All these csv files have the 'REPORT_NO' column. You need to use that column to combine these datasets."
   ]
  },
  {
   "cell_type": "markdown",
   "metadata": {},
   "source": [
    "### Question 2 (15 points)\n",
    "Use the .info(), .describe(), .hist() and sns.pairplot() functions to explore the consolidated data. Comment on any observations and identify any features that may be worth plotting and looking in more detail. (Note that the last question requires to develop a visualization)."
   ]
  },
  {
   "cell_type": "markdown",
   "metadata": {},
   "source": [
    "### Question 3 (15 points)\n",
    "Clean the data as you seem necessary. For example, evaluate the need to remove null or duplicate values. Note there may be datasets where it may be appropriate to have null or duplicates values. Document your reasoning."
   ]
  },
  {
   "cell_type": "markdown",
   "metadata": {
    "id": "7akHII8bKCmO"
   },
   "source": [
    "### Question 4 (15 points)\n",
    "a. For each county, determine the average age of the drivers who were involved in these accidents <br>\n",
    "b. Then list the sorted averages (from youngest to oldest)"
   ]
  },
  {
   "cell_type": "markdown",
   "metadata": {
    "id": "Yh9NLokhKCmO"
   },
   "source": [
    "### Question 5 (15 points)\n",
    "a. Determine the total number of crashes per \"vehicle make\". List the sorted values (e.g. Honda, Chevrloet, Ford, etc.). <br>\n",
    "b. Determine average age of the car involved in these accidents for each \"vehicle make\"."
   ]
  },
  {
   "cell_type": "markdown",
   "metadata": {
    "id": "33AowxTGKCmP"
   },
   "source": [
    "### Question 6 (15 points)\n",
    "a. Determine all the accidents that happened in a circle centered at (39.016149, -77.117942) with a radius of 5 km.<br>\n",
    "b. Determine the number of accidents where the speed limit was above 51 miles per hour within the 5 km circle. <br>\n",
    "c. Determine the number of accidents where the speed limit was below 41 miles per hour within the 5 km circle.  <br>\n",
    "<br>\n",
    "Hint: Please see the \"P1_Helper_Distance_From_Coordinates.ipynb\" that can be found in the Project1 folder."
   ]
  },
  {
   "cell_type": "markdown",
   "metadata": {
    "id": "jb7JLx1YKCmP"
   },
   "source": [
    "### Question 7 (15 points)\n",
    "Download \"Licensed Drivers By Sex\" data from the states_drivers.csv (see input_data folder) <br>\n",
    "\n",
    "a. Determine the number of drivers, who got in a car crash, from non-DMV states as a function of gender and list them <br>\n",
    "`St Male Female` <br>\n",
    "`NY 1510  622` <br>\n",
    "`PA 1251 1312` <br>\n",
    "... <br>\n",
    "Note: DMV states: DC, MD, and VA  <br>\n",
    " <br>\n",
    "b. Normalize the previous list with number of male drivers and female drivers for each state. e.g. There are 1 million male drivers in NY and 2 million female drivers, then the normalized numbers should be <br>\n",
    "<br>\n",
    "`St    Male_Norm  Female_Norm` <br>\n",
    "`NY    1.510e-3  0.311e-3` <br>"
   ]
  },
  {
   "cell_type": "markdown",
   "metadata": {
    "id": "ZP0MT6tyKCmQ"
   },
   "source": [
    "### Question 8 (15 points)\n",
    "a. On which day of the week (Monday through Sunday) do the most of the crashes happen? <br>\n",
    "b. On which hour of the day (00 - 24) do the most of the crashes happen?"
   ]
  },
  {
   "cell_type": "markdown",
   "metadata": {
    "id": "T4w7e3vLKCmQ"
   },
   "source": [
    "### Question 9 (15 points)\n",
    "Download \"Maryland Average Precipitation and Snow 2020\" data from MD2020_Rain_Snow.csv <br>\n",
    "\n",
    "You need assume that it is a rainy/snowy day if the second column is bigger than 0.05 or if the third column is bigger than 1; otherwise take that day as a non-rainy/snowy day. <br>\n",
    "a. What is the ratio of the number of accidents happened in rainy/snowy days to the number of accidents happened in non-rainy/snowy days? <br>\n",
    "b. What does this ratio tell us?"
   ]
  },
  {
   "cell_type": "markdown",
   "metadata": {
    "id": "HkVa5g4dMRO9"
   },
   "source": [
    "### Question 10 (10 points)\n",
    "Use matplotlib and/or seaborn and show your talent in data visualization. You are free to visualize anything you want regarding this dataset."
   ]
  },
  {
   "cell_type": "markdown",
   "metadata": {},
   "source": [
    "# NOTEBOOK END"
   ]
  },
  {
   "cell_type": "code",
   "execution_count": null,
   "metadata": {},
   "outputs": [],
   "source": []
  },
  {
   "cell_type": "code",
   "execution_count": null,
   "metadata": {},
   "outputs": [],
   "source": []
  },
  {
   "cell_type": "code",
   "execution_count": null,
   "metadata": {
    "id": "A_H1rO_6KCmR"
   },
   "outputs": [],
   "source": []
  }
 ],
 "metadata": {
  "colab": {
   "include_colab_link": true,
   "name": "DATA601_Project1.ipynb",
   "provenance": []
  },
  "kernelspec": {
   "display_name": "Python 3 (ipykernel)",
   "language": "python",
   "name": "python3"
  },
  "language_info": {
   "codemirror_mode": {
    "name": "ipython",
    "version": 3
   },
   "file_extension": ".py",
   "mimetype": "text/x-python",
   "name": "python",
   "nbconvert_exporter": "python",
   "pygments_lexer": "ipython3",
   "version": "3.9.13"
  }
 },
 "nbformat": 4,
 "nbformat_minor": 1
}
