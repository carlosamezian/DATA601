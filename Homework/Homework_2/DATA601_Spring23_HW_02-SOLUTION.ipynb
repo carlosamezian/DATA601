{
 "cells": [
  {
   "cell_type": "markdown",
   "metadata": {
    "colab_type": "text",
    "id": "view-in-github"
   },
   "source": [
    "<a href=\"https://github.com/fgonzaleumbc/DATA601/blob/main/Homework/Homework_2/DATA601_Spring23_HW_02.ipynb\" target=\"_parent\"><img src=\"https://colab.research.google.com/assets/colab-badge.svg\" alt=\"Open In Colab\"/></a>"
   ]
  },
  {
   "cell_type": "markdown",
   "metadata": {
    "id": "Goo3q0wMNfTX"
   },
   "source": [
    "## DATA 601 - Spring 2023\n",
    "### Homework Assignment 2\n",
    "\n",
    "#### Due-date: Monday 2/20/2023 midnight.\n",
    "\n",
    "Please Save a copy of this notebook to modify and submit your homework. Rename the file accordingly. If using Colab, \"Open in Colab\" link on the left top of this notebook to save a copy of this notebook to your \"Colab Notebooks\" under your Google Drive, and rename it. \n",
    "\n",
    "Please provide your solutions cells after each question. You can create new cells as needed. <br>\n",
    "\n",
    "Please return your notebook by the due date via by emailing the grader and CC instructor.  as a *.ipynb file) via Blackboard. The name of your notebook should be in the following format: YourLastname_HW01.ipynb (e.g. Simsek_HW01.ipyn).\n",
    "\n",
    "Make sure that your code is in a working condition when you restart the kernel. Notebooks are great tools for exploration but we should be very careful as we are writing codes.\n",
    "\n",
    "<b>Intro:</b> For this homework, you will install a module called \"names\". Please visit [https://pypi.org/project/names/](https://pypi.org/project/names/) and see section \"Python Package Usage\" to learn how to use this module to create random names. To install and import this \"names\" module, we do the following"
   ]
  },
  {
   "cell_type": "code",
   "execution_count": 1,
   "metadata": {
    "colab": {
     "base_uri": "https://localhost:8080/"
    },
    "id": "8lJtTfpFkYBR",
    "outputId": "46277237-1357-4dd8-9d9f-fa5172805259"
   },
   "outputs": [],
   "source": [
    "# To install \"names\" library Uncomment and run this cell to install the Names library.\n",
    "#!pip install names\n",
    "\n",
    "# After installing comment out the line above."
   ]
  },
  {
   "cell_type": "code",
   "execution_count": 2,
   "metadata": {},
   "outputs": [],
   "source": [
    "# After installation import the \"names\" library.\n",
    "import names\n",
    "from random import randint\n",
    "from datetime import datetime"
   ]
  },
  {
   "cell_type": "markdown",
   "metadata": {
    "id": "TIXQsfmky_1m"
   },
   "source": [
    "Q1. [<span style=\"color: red;\"> 20 points</span>] After successful installation, import the module first, then use the \"get_first_name\" function in the \"names\" module and create a list of 8 first-names. Name of this list should be \"fname\". \n",
    "- Print your list and make sure that you indeed have 8 names in your list.\n",
    "- (i) Remove the last \"first-name\" from your \"fname\" list. \n",
    "- (ii) Insert a new first-name between the first and second first-names in the list. \n",
    "- (iii) Remove the third \"first-name\". \n",
    "- (iv)  Generate three random first names, print them, and then add three first names at the end of your \"fname\" list using the \"append\" command.\n",
    "- (v) Remove those last three first names. Create a secondary a list of first-names with three new first-names. Add these three at the end of your \"fname\" list with the \"extend\" method. Comment when we should use \"append\" and when we should use \"extend\"."
   ]
  },
  {
   "cell_type": "code",
   "execution_count": 3,
   "metadata": {
    "id": "cOP6c2uSvrHu"
   },
   "outputs": [
    {
     "name": "stdout",
     "output_type": "stream",
     "text": [
      "['Rosa', 'Kimberly', 'Meagan', 'Belinda', 'Anna', 'Charles', 'Matthew', 'Lydia']\n"
     ]
    }
   ],
   "source": [
    "# Q1\n",
    "fnames = []\n",
    "for i in range(8):\n",
    "    fnames.append(names.get_first_name())\n",
    "print(fnames)"
   ]
  },
  {
   "cell_type": "code",
   "execution_count": 4,
   "metadata": {},
   "outputs": [],
   "source": [
    "# We can also use a function that we use later.\n",
    "def first_names_functions(number_names): \n",
    "    #global fnames_funct # Global variable can be called outside of function.\n",
    "    fnames_funct = []\n",
    "    for i in range(number_names):\n",
    "        fnames_funct.append(names.get_first_name())\n",
    "    return(fnames_funct)"
   ]
  },
  {
   "cell_type": "code",
   "execution_count": 5,
   "metadata": {},
   "outputs": [
    {
     "name": "stdout",
     "output_type": "stream",
     "text": [
      "['Jason', 'Charles', 'Janet', 'Michael', 'Courtney', 'Julio', 'Glenn', 'Jene']\n"
     ]
    }
   ],
   "source": [
    "fnames = first_names_functions(number_names = 8) \n",
    "# Could have defined fnames as global in the function and woulnd avoided this step.\n",
    "# If defined as global we don't need the \"fnames =\" and can only call the function with the specified parameter.\n",
    "print(fnames)"
   ]
  },
  {
   "cell_type": "code",
   "execution_count": 6,
   "metadata": {},
   "outputs": [
    {
     "data": {
      "text/plain": [
       "['Jason', 'Charles', 'Janet', 'Michael', 'Courtney', 'Julio', 'Glenn']"
      ]
     },
     "execution_count": 6,
     "metadata": {},
     "output_type": "execute_result"
    }
   ],
   "source": [
    "# Q1(i) # There are various ways to remove elements in a list.\n",
    "\n",
    "# Option 1: Slicing Selection\n",
    "fnames_opt1 = fnames.copy() # Copying list to show the method.\n",
    "fnames_opt1 = fnames_opt1[:-1] # Using slicing, selects everything except the last name and redefine the variable.\n",
    "fnames_opt1"
   ]
  },
  {
   "cell_type": "code",
   "execution_count": 7,
   "metadata": {},
   "outputs": [
    {
     "data": {
      "text/plain": [
       "['Jason', 'Charles', 'Janet', 'Michael', 'Courtney', 'Julio', 'Glenn']"
      ]
     },
     "execution_count": 7,
     "metadata": {},
     "output_type": "execute_result"
    }
   ],
   "source": [
    "# Option 2: Delete method.\n",
    "fnames_opt2 = fnames.copy() # Copying list to show the method\n",
    "del fnames_opt2[-1] # Deletes the last element from list.\n",
    "fnames_opt2"
   ]
  },
  {
   "cell_type": "code",
   "execution_count": 8,
   "metadata": {},
   "outputs": [
    {
     "data": {
      "text/plain": [
       "['Jason', 'Charles', 'Janet', 'Michael', 'Courtney', 'Julio', 'Glenn']"
      ]
     },
     "execution_count": 8,
     "metadata": {},
     "output_type": "execute_result"
    }
   ],
   "source": [
    "# Option 3: Pop method.\n",
    "fnames.pop(-1) # Deletes the last element from list. Pop removes by default the last element\n",
    "fnames"
   ]
  },
  {
   "cell_type": "code",
   "execution_count": 9,
   "metadata": {},
   "outputs": [
    {
     "name": "stdout",
     "output_type": "stream",
     "text": [
      "['Jason', 'Orville', 'Charles', 'Janet', 'Michael', 'Courtney', 'Julio', 'Glenn']\n"
     ]
    }
   ],
   "source": [
    "# Q1(ii)\n",
    "fnames.insert(1,names.get_first_name())\n",
    "print(fnames)"
   ]
  },
  {
   "cell_type": "code",
   "execution_count": 10,
   "metadata": {},
   "outputs": [
    {
     "data": {
      "text/plain": [
       "['Jason', 'Orville', 'Janet', 'Michael', 'Courtney', 'Julio', 'Glenn']"
      ]
     },
     "execution_count": 10,
     "metadata": {},
     "output_type": "execute_result"
    }
   ],
   "source": [
    "# Q1(iii) Various methods. The Delete and Pop would be the same but changing the element index.\n",
    "# Slicing is somewhat different. Let's do that.\n",
    "fnames = fnames[:2]+fnames[3:] # First slice selects elements 0 and 1 and second slice 3 and above. \n",
    "fnames"
   ]
  },
  {
   "cell_type": "code",
   "execution_count": 11,
   "metadata": {},
   "outputs": [
    {
     "data": {
      "text/plain": [
       "['Princess', 'Lanny', 'Albert']"
      ]
     },
     "execution_count": 11,
     "metadata": {},
     "output_type": "execute_result"
    }
   ],
   "source": [
    "# Q1(iv)\n",
    "# Because we are generating first names using the created function we can take advantage of that to create three names.\n",
    "fnames_2 = first_names_functions(number_names = 3) \n",
    "fnames_2"
   ]
  },
  {
   "cell_type": "code",
   "execution_count": 12,
   "metadata": {},
   "outputs": [
    {
     "name": "stdout",
     "output_type": "stream",
     "text": [
      "['Jason', 'Orville', 'Janet', 'Michael', 'Courtney', 'Julio', 'Glenn', ['Princess', 'Lanny', 'Albert']]\n"
     ]
    }
   ],
   "source": [
    "fnames.append(fnames_2)\n",
    "print(fnames)"
   ]
  },
  {
   "cell_type": "code",
   "execution_count": 13,
   "metadata": {},
   "outputs": [
    {
     "data": {
      "text/plain": [
       "8"
      ]
     },
     "execution_count": 13,
     "metadata": {},
     "output_type": "execute_result"
    }
   ],
   "source": [
    "len(fnames) # We can check our new list has 10 elements or 10 first names.\n",
    "# Note that append added the three names as a list within a list."
   ]
  },
  {
   "cell_type": "code",
   "execution_count": 14,
   "metadata": {},
   "outputs": [
    {
     "data": {
      "text/plain": [
       "['Jason', 'Orville', 'Janet', 'Michael', 'Courtney', 'Julio', 'Glenn']"
      ]
     },
     "execution_count": 14,
     "metadata": {},
     "output_type": "execute_result"
    }
   ],
   "source": [
    "# Lets remove the last list which contains the last three elements.\n",
    "fnames = fnames[:-1]\n",
    "fnames"
   ]
  },
  {
   "cell_type": "code",
   "execution_count": 15,
   "metadata": {},
   "outputs": [
    {
     "name": "stdout",
     "output_type": "stream",
     "text": [
      "['Jason', 'Orville', 'Janet', 'Michael', 'Courtney', 'Julio', 'Glenn', 'Katherine', 'Troy', 'Mildred']\n"
     ]
    }
   ],
   "source": [
    "# Q1(v)\n",
    "fnames_2 = first_names_functions(number_names = 3) \n",
    "fnames = fnames + fnames_2 # We can reuse the initial fnames variable or create a new one.\n",
    "print(fnames)"
   ]
  },
  {
   "cell_type": "code",
   "execution_count": 16,
   "metadata": {},
   "outputs": [
    {
     "data": {
      "text/plain": [
       "10"
      ]
     },
     "execution_count": 16,
     "metadata": {},
     "output_type": "execute_result"
    }
   ],
   "source": [
    "len(fnames)"
   ]
  },
  {
   "cell_type": "code",
   "execution_count": 17,
   "metadata": {},
   "outputs": [],
   "source": [
    "# Append added the last three names as a list within a list.\n",
    "# Extend added each name as its own element. "
   ]
  },
  {
   "cell_type": "code",
   "execution_count": 18,
   "metadata": {},
   "outputs": [],
   "source": [
    "# Another method to add the lists could have been using the + operator and the two lists.\n",
    "#fnames = fnames + fnames_2 # We can reuse the initial fnames variable or create a new one."
   ]
  },
  {
   "cell_type": "markdown",
   "metadata": {
    "id": "x4G_nlSYyeNv"
   },
   "source": [
    "Q2. [<span style=\"color: red;\">5 points</span>] Use the \"get_last_name\" function in the \"names\" module and create a list of 10 last names. Name it \"lnames\". Sort it alphabetically."
   ]
  },
  {
   "cell_type": "code",
   "execution_count": 19,
   "metadata": {
    "id": "ap38ArkwNv36"
   },
   "outputs": [
    {
     "name": "stdout",
     "output_type": "stream",
     "text": [
      "['Weese', 'Schauble', 'Marks', 'Doak', 'Eason', 'Lewis', 'Gentry', 'Williams', 'Briel', 'Castillo']\n"
     ]
    }
   ],
   "source": [
    "lnames = []\n",
    "for i in range(10):\n",
    "    lnames.append(names.get_last_name())\n",
    "print(lnames)"
   ]
  },
  {
   "cell_type": "code",
   "execution_count": 20,
   "metadata": {},
   "outputs": [
    {
     "data": {
      "text/plain": [
       "10"
      ]
     },
     "execution_count": 20,
     "metadata": {},
     "output_type": "execute_result"
    }
   ],
   "source": [
    "len(lnames) # We got 10 last names."
   ]
  },
  {
   "cell_type": "code",
   "execution_count": 21,
   "metadata": {},
   "outputs": [
    {
     "name": "stdout",
     "output_type": "stream",
     "text": [
      "['Briel', 'Castillo', 'Doak', 'Eason', 'Gentry', 'Lewis', 'Marks', 'Schauble', 'Weese', 'Williams']\n"
     ]
    }
   ],
   "source": [
    "lnames.sort()\n",
    "print(lnames)"
   ]
  },
  {
   "cell_type": "markdown",
   "metadata": {
    "id": "eLHHYiqKygmy"
   },
   "source": [
    "Q3. [<span style=\"color: red;\">20 points</span>] For this step, you will use the \"<code>randint</code>\" function from the \"<code>random</code>\" module to create random integers. You can learn more about this module at [https://docs.python.org/3/library/random.html](https://docs.python.org/3/library/random.html). To import the \"<code>randint</code>\" function from the \"<code>random</code>\" module, please type <code> from random import randit</code> in a cell, and press shift+enter.\n",
    "\n",
    "Then\n",
    " - (i) Create 10 random birth-years between 1950 and 2021. Name it \"byears\".\n",
    " - (ii) Create 10 random birth-months between 1 and 12. Name it \"bmonths\".\n",
    " - (iii) Create 10 random Credit-Scores between 100 and 800. Create a list of \"CreditApproval\" with \"Yes\" if the credit-score is higher than 650, \"No\" otherwise. Make sure that someone can't get a credit if they are 17 years old or younger, even if their credit-score is higher than 650."
   ]
  },
  {
   "cell_type": "code",
   "execution_count": 22,
   "metadata": {
    "id": "oho9siU9yhOs"
   },
   "outputs": [
    {
     "data": {
      "text/plain": [
       "[2003, 1981, 2020, 1962, 1965, 1961, 1960, 1956, 2003, 1966]"
      ]
     },
     "execution_count": 22,
     "metadata": {},
     "output_type": "execute_result"
    }
   ],
   "source": [
    "# (i) Create 10 random birth-years between 1950 and 2021. Name it \"byears\".\n",
    "byears = [randint(1950,2021) for i in range(10)]\n",
    "byears"
   ]
  },
  {
   "cell_type": "code",
   "execution_count": 23,
   "metadata": {},
   "outputs": [
    {
     "data": {
      "text/plain": [
       "[6, 6, 9, 10, 5, 8, 11, 8, 2, 6]"
      ]
     },
     "execution_count": 23,
     "metadata": {},
     "output_type": "execute_result"
    }
   ],
   "source": [
    "#(ii) Create 10 random birth-months between 1 and 12. Name it \"bmonths\".\n",
    "bmonths = [randint(1,12) for j in range(10)]\n",
    "bmonths"
   ]
  },
  {
   "cell_type": "code",
   "execution_count": 24,
   "metadata": {},
   "outputs": [],
   "source": [
    "# (iii) Create 10 random Credit-Scores between 100 and 800\n",
    "credit_score = [randint(100,800) for k in range(10) ]"
   ]
  },
  {
   "cell_type": "markdown",
   "metadata": {
    "id": "KNBw55XRyhYA"
   },
   "source": [
    "BONUS QUESTION. [<span style=\"color: red;\">5 points</span>] Create a dictionary for these 10 people with first-name, last-name (again, you will need to use the <code>names</code> module to create random first and last names), birth-year, birth-month, Credit, CreditApproval (e.g. [fname: Michael, lname: Jackson, byear: 1958, bmonth: 8, bday: 29, creditapproval:yes],[...])\n",
    "\n",
    "The values of birth-year, birth-month, credit and credit approval can be any realistic values. Please document as a comment what you believe are realistic values for each of the categories."
   ]
  },
  {
   "cell_type": "code",
   "execution_count": 47,
   "metadata": {},
   "outputs": [],
   "source": [
    "person = {} # Blank dictionary.\n",
    "person['fnames'] = fnames # Names key and list of names.\n",
    "person['lnames'] = lnames # Names key and list of names.\n",
    "person['byears'] = byears # Birth year.\n",
    "person['bmonths'] = bmonths # Birth month.\n",
    "person['credit_score'] = credit_score # Credit Scores\n",
    "# We need to add a new key and corresponding list for age and credit approval."
   ]
  },
  {
   "cell_type": "code",
   "execution_count": 48,
   "metadata": {},
   "outputs": [
    {
     "data": {
      "text/plain": [
       "{'fnames': ['Jason',\n",
       "  'Orville',\n",
       "  'Janet',\n",
       "  'Michael',\n",
       "  'Courtney',\n",
       "  'Julio',\n",
       "  'Glenn',\n",
       "  'Katherine',\n",
       "  'Troy',\n",
       "  'Mildred'],\n",
       " 'lnames': ['Briel',\n",
       "  'Castillo',\n",
       "  'Doak',\n",
       "  'Eason',\n",
       "  'Gentry',\n",
       "  'Lewis',\n",
       "  'Marks',\n",
       "  'Schauble',\n",
       "  'Weese',\n",
       "  'Williams'],\n",
       " 'byears': [2003, 1981, 2020, 1962, 1965, 1961, 1960, 1956, 2003, 1966],\n",
       " 'bmonths': [6, 6, 9, 10, 5, 8, 11, 8, 2, 6],\n",
       " 'credit_score': [377, 207, 125, 445, 552, 508, 175, 563, 550, 171]}"
      ]
     },
     "execution_count": 48,
     "metadata": {},
     "output_type": "execute_result"
    }
   ],
   "source": [
    "person"
   ]
  },
  {
   "cell_type": "code",
   "execution_count": 44,
   "metadata": {},
   "outputs": [],
   "source": [
    "# To calculate the age could do a few approaches.\n",
    "# 1 to define a new variable of current day manually and use it to substract from bmonth/byear to estimate age.\n",
    "# 2 as done below using the datetime library to calculate the current date month/year\n",
    "# 3 Even more advanced would be to use the actual birth date and substract from the current date.\n",
    "# This woudl make the notebook dynamic as the days passes people who may be under 17 turn over 17."
   ]
  },
  {
   "cell_type": "code",
   "execution_count": 67,
   "metadata": {},
   "outputs": [
    {
     "data": {
      "text/plain": [
       "[19, 41, 2, 60, 57, 61, 62, 66, 20, 56]"
      ]
     },
     "execution_count": 67,
     "metadata": {},
     "output_type": "execute_result"
    }
   ],
   "source": [
    "# Let's calculate estimated age given year and month.\n",
    "estimated_age_list = []\n",
    "for i in range(len(person['fnames'])): # len(person['fname'] is the total number of people, in this case 10.\n",
    "    estimated_age = int(datetime.today().strftime(\"%Y\")) - person['byears'][i] # Substract current year and byear.\n",
    "    # If bmonth is larger than current date's month the person has not had their bdate yet.\n",
    "    if person['bmonths'][i] >= int(datetime.today().strftime(\"%m\")):  \n",
    "        estimated_age = estimated_age - 1 # If the birth month has still not passed this corrects the years of age.\n",
    "    else:\n",
    "        pass  \n",
    "    estimated_age_list.append(estimated_age)\n",
    "estimated_age_list"
   ]
  },
  {
   "cell_type": "code",
   "execution_count": 68,
   "metadata": {},
   "outputs": [
    {
     "data": {
      "text/plain": [
       "{'fnames': ['Jason',\n",
       "  'Orville',\n",
       "  'Janet',\n",
       "  'Michael',\n",
       "  'Courtney',\n",
       "  'Julio',\n",
       "  'Glenn',\n",
       "  'Katherine',\n",
       "  'Troy',\n",
       "  'Mildred'],\n",
       " 'lnames': ['Briel',\n",
       "  'Castillo',\n",
       "  'Doak',\n",
       "  'Eason',\n",
       "  'Gentry',\n",
       "  'Lewis',\n",
       "  'Marks',\n",
       "  'Schauble',\n",
       "  'Weese',\n",
       "  'Williams'],\n",
       " 'byears': [2003, 1981, 2020, 1962, 1965, 1961, 1960, 1956, 2003, 1966],\n",
       " 'bmonths': [6, 6, 9, 10, 5, 8, 11, 8, 2, 6],\n",
       " 'credit_score': [377, 207, 125, 445, 552, 508, 175, 563, 550, 171],\n",
       " 'estimated_age': [19, 41, 2, 60, 57, 61, 62, 66, 20, 56]}"
      ]
     },
     "execution_count": 68,
     "metadata": {},
     "output_type": "execute_result"
    }
   ],
   "source": [
    "person['estimated_age'] = estimated_age_list\n",
    "person"
   ]
  },
  {
   "cell_type": "code",
   "execution_count": 80,
   "metadata": {},
   "outputs": [],
   "source": [
    "credit_approval_list = []\n",
    "for i in range(len(person['fnames'])):\n",
    "    if person['estimated_age'][i] <= 17:\n",
    "        credit_approval_list.append('No')\n",
    "    if person['estimated_age'][i] > 17:\n",
    "        if person['credit_score'][i] > 650:\n",
    "            credit_approval_list.append('Yes')\n",
    "        else:\n",
    "            credit_approval_list.append('No')"
   ]
  },
  {
   "cell_type": "code",
   "execution_count": 81,
   "metadata": {},
   "outputs": [
    {
     "data": {
      "text/plain": [
       "['No', 'No', 'No', 'No', 'No', 'No', 'No', 'No', 'No', 'No']"
      ]
     },
     "execution_count": 81,
     "metadata": {},
     "output_type": "execute_result"
    }
   ],
   "source": [
    "credit_approval_list\n",
    "# Should give the same outputs as the credit_approval_list below."
   ]
  },
  {
   "cell_type": "code",
   "execution_count": 82,
   "metadata": {},
   "outputs": [],
   "source": [
    "# More concise approach.\n",
    "credit_approval_list = []\n",
    "for i in range(len(person['fnames'])):\n",
    "    if (person['estimated_age'][i] > 17) and (person['credit_score'][i] > 650):\n",
    "        credit_approval_list.append('Yes')\n",
    "    else:\n",
    "        credit_approval_list.append('No')"
   ]
  },
  {
   "cell_type": "code",
   "execution_count": 83,
   "metadata": {},
   "outputs": [
    {
     "data": {
      "text/plain": [
       "['No', 'No', 'No', 'No', 'No', 'No', 'No', 'No', 'No', 'No']"
      ]
     },
     "execution_count": 83,
     "metadata": {},
     "output_type": "execute_result"
    }
   ],
   "source": [
    "credit_approval_list"
   ]
  },
  {
   "cell_type": "code",
   "execution_count": 84,
   "metadata": {},
   "outputs": [],
   "source": [
    "person['credit_approval'] = credit_approval_list"
   ]
  },
  {
   "cell_type": "code",
   "execution_count": 85,
   "metadata": {},
   "outputs": [
    {
     "data": {
      "text/plain": [
       "{'fnames': ['Jason',\n",
       "  'Orville',\n",
       "  'Janet',\n",
       "  'Michael',\n",
       "  'Courtney',\n",
       "  'Julio',\n",
       "  'Glenn',\n",
       "  'Katherine',\n",
       "  'Troy',\n",
       "  'Mildred'],\n",
       " 'lnames': ['Briel',\n",
       "  'Castillo',\n",
       "  'Doak',\n",
       "  'Eason',\n",
       "  'Gentry',\n",
       "  'Lewis',\n",
       "  'Marks',\n",
       "  'Schauble',\n",
       "  'Weese',\n",
       "  'Williams'],\n",
       " 'byears': [2003, 1981, 2020, 1962, 1965, 1961, 1960, 1956, 2003, 1966],\n",
       " 'bmonths': [6, 6, 9, 10, 5, 8, 11, 8, 2, 6],\n",
       " 'credit_score': [377, 207, 125, 445, 552, 508, 175, 563, 550, 171],\n",
       " 'estimated_age': [19, 41, 2, 60, 57, 61, 62, 66, 20, 56],\n",
       " 'credit_approval': ['No',\n",
       "  'No',\n",
       "  'No',\n",
       "  'No',\n",
       "  'No',\n",
       "  'No',\n",
       "  'No',\n",
       "  'No',\n",
       "  'No',\n",
       "  'No']}"
      ]
     },
     "execution_count": 85,
     "metadata": {},
     "output_type": "execute_result"
    }
   ],
   "source": [
    "person"
   ]
  },
  {
   "cell_type": "code",
   "execution_count": 86,
   "metadata": {},
   "outputs": [
    {
     "data": {
      "text/plain": [
       "dict"
      ]
     },
     "execution_count": 86,
     "metadata": {},
     "output_type": "execute_result"
    }
   ],
   "source": [
    "type(person) # Final check that this is a dictionary."
   ]
  },
  {
   "cell_type": "markdown",
   "metadata": {
    "id": "nTMv1diFyjwE"
   },
   "source": [
    "# NOTEBOOK END."
   ]
  },
  {
   "cell_type": "code",
   "execution_count": null,
   "metadata": {},
   "outputs": [],
   "source": []
  },
  {
   "cell_type": "code",
   "execution_count": null,
   "metadata": {},
   "outputs": [],
   "source": []
  },
  {
   "cell_type": "code",
   "execution_count": null,
   "metadata": {},
   "outputs": [],
   "source": []
  }
 ],
 "metadata": {
  "colab": {
   "authorship_tag": "ABX9TyODZOQtTncp1L47rraRdA2J",
   "collapsed_sections": [],
   "include_colab_link": true,
   "name": "DATA601Sp22_HW01.ipynb",
   "provenance": []
  },
  "kernelspec": {
   "display_name": "Python 3 (ipykernel)",
   "language": "python",
   "name": "python3"
  },
  "language_info": {
   "codemirror_mode": {
    "name": "ipython",
    "version": 3
   },
   "file_extension": ".py",
   "mimetype": "text/x-python",
   "name": "python",
   "nbconvert_exporter": "python",
   "pygments_lexer": "ipython3",
   "version": "3.9.13"
  }
 },
 "nbformat": 4,
 "nbformat_minor": 1
}
