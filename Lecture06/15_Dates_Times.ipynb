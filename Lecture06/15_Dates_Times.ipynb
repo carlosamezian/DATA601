{
 "cells": [
  {
   "cell_type": "markdown",
   "id": "dec510c0",
   "metadata": {},
   "source": [
    "<a href=\"https://github.com/fgonzaleumbc/DATA601/blob/main/Lecture06/15_Dates_Times.ipynb\" target=\"_parent\"><img src=\"https://colab.research.google.com/assets/colab-badge.svg\" alt=\"Open In Colab\"/></a>"
   ]
  },
  {
   "cell_type": "markdown",
   "id": "573d2d68",
   "metadata": {},
   "source": [
    "<div class=\"alert alert-block alert-info\">\n",
    "Author:<br>Felix Gonzalez, P.E. <br> Adjunct Instructor, <br> Division of Professional Studies <br> Computer Science and Electrical Engineering <br> University of Maryland Baltimore County <br> fgonzale@umbc.edu\n",
    "</div>"
   ]
  },
  {
   "cell_type": "code",
   "execution_count": 1,
   "id": "9ce7ab20",
   "metadata": {},
   "outputs": [],
   "source": [
    "from datetime import datetime # Datetime module\n",
    "import numpy as np # Numpy module\n",
    "import pandas as pd # Pandas module\n",
    "from dateutil.relativedelta import relativedelta # Dateutil Module Relativedelta function \n",
    "\n",
    "%matplotlib inline\n",
    "import matplotlib.pyplot as plt # MatPlotLib Plotting Module\n",
    "import seaborn as sns # Seaborn Plotting Module"
   ]
  },
  {
   "cell_type": "markdown",
   "id": "31dd9617",
   "metadata": {},
   "source": [
    "This notebook provides an overview of working with dates, times and periods. Specifically working and manipulating dates/times using the datetime, numpy, and pandas modules.\n",
    "\n",
    "\n",
    "Content presented in this notebook is inspired by the following:\n",
    "- [Python Data Science Handbook](https://jakevdp.github.io/PythonDataScienceHandbook/03.11-working-with-time-series.html)\n",
    "- [Python Pandas Tutorial (Part 10): Working with Dates and Time Series Data](https://www.youtube.com/watch?v=UFuo7EHI8zc&ab_channel=CoreySchafer)\n",
    "\n",
    "Documentation Reference:\n",
    "- https://docs.python.org/3/library/datetime.html\n",
    "- https://docs.python.org/3/library/datetime.html#datetime.datetime\n",
    "- https://docs.python.org/3/library/datetime.html#strftime-and-strptime-behavior\n",
    "- https://numpy.org/doc/stable/reference/arrays.datetime.html\n",
    "- https://pandas.pydata.org/pandas-docs/stable/reference/api/pandas.to_datetime.html\n",
    "- https://pandas.pydata.org/pandas-docs/stable/reference/api/pandas.DataFrame.to_period.html\n",
    "\n",
    "Other References and examples on working with datetimes can be found in the following links:\n",
    "- [Exercise from Python Data Science Handbook: Visualizing Seattle Bicycle Counts](https://jakevdp.github.io/PythonDataScienceHandbook/03.11-working-with-time-series.html#Example:-Visualizing-Seattle-Bicycle-Counts)\n",
    "- [Blog on Seattle Really Seeing an Uptick in Cycling](https://jakevdp.github.io/blog/2014/06/10/is-seattle-really-seeing-an-uptick-in-cycling/)"
   ]
  },
  {
   "cell_type": "markdown",
   "id": "dc8f7eb9",
   "metadata": {},
   "source": [
    "# Table of Contents\n",
    "[Datetime Module: Datetime Objects](#Datetime-Module:-Datetime-Objects)\n",
    "\n",
    "[Numpy \"datetime64\" type](#Numpy-\"datetime64\"-type)\n",
    "\n",
    "[Pandas Datetime and Timestamp](#Pandas-Datetime-and-Timestamp)\n",
    "\n",
    "[Pandas Datetimes in a Dataframe](#Pandas-Datetimes-in-a-Dataframe)\n",
    "\n",
    "[Indexing by time](#Indexing-by-time)\n",
    "\n",
    "[Pandas To Period](#Pandas-To-Period)\n",
    "\n",
    "[Timestamp and Periods to Datetime](#Timestamp-and-Periods-to-Datetime)\n",
    "\n",
    "[Pandas Dates and Period Filtering](#Pandas-Dates-and-Period-Filtering)\n",
    "\n",
    "[Rolling Windows](#Rolling-Windows)"
   ]
  },
  {
   "cell_type": "markdown",
   "id": "72ab2ee6",
   "metadata": {},
   "source": [
    "# Datetime Module: Datetime Objects\n",
    "[Return to Table of Contents](#Table-of-Contents)\n",
    "\n",
    "Datetime objects contain various parts that include month, day of the month, year, hour, seconds minuts, and other attributes such as timezone. Datetime can be can be either aware or naive depending on use of timezones. Aware object can locate itself relative to other aware objects while naive object do not contain enough information to unambiguously locate itself relative to other date/time objects. Datetime aware and naive object categories (https://docs.python.org/3/library/datetime.html#aware-and-naive-objects)\n",
    "\n",
    "The datetime object can use one of the directives or codes below to convert or extract a section of the datetime object.\n",
    "\n",
    "Directive          |  Meaning\n",
    "-------------------|------------------\n",
    "%a                 | Weekday as locale’s abbreviated name.\n",
    "%A                 | Weekday as locale’s full name.\n",
    "%w                 | Weekday as a decimal number, where 0 is Sunday and 6 is Saturday.\n",
    "%d                 | Day of the month as a zero-padded decimal number.\n",
    "%b                 | Month as locale’s abbreviated name.\n",
    "%B                 | Month as locale’s full name.\n",
    "%m                 | Month as a zero-padded decimal number.\n",
    "%y                 | Year without century as a zero-padded decimal number.\n",
    "%Y                 | Year with century as a decimal number.\n",
    "%H                 | Hour (24-hour clock) as a zero-padded decimal number.\n",
    "%I                 | Hour (12-hour clock) as a zero-padded decimal number.\n",
    "%p                 | Locale’s equivalent of either AM or PM.\n",
    "%M                 | Minute as a zero-padded decimal number.\n",
    "%S                 | Second as a zero-padded decimal number.\n",
    "%j                 | Day of the year as a zero-padded decimal number."
   ]
  },
  {
   "cell_type": "code",
   "execution_count": 2,
   "id": "30a83eb9",
   "metadata": {},
   "outputs": [
    {
     "data": {
      "text/plain": [
       "datetime.datetime(2023, 3, 13, 19, 21, 23, 119912)"
      ]
     },
     "execution_count": 2,
     "metadata": {},
     "output_type": "execute_result"
    }
   ],
   "source": [
    "# Datetime object example and structure.\n",
    "datetime.now() # (year, month, day[, hour[, minute[, second[, microsecond[,tzinfo])"
   ]
  },
  {
   "cell_type": "code",
   "execution_count": 3,
   "id": "816854ab",
   "metadata": {},
   "outputs": [
    {
     "data": {
      "text/plain": [
       "'Thursday'"
      ]
     },
     "execution_count": 3,
     "metadata": {},
     "output_type": "execute_result"
    }
   ],
   "source": [
    "# Create a datetime object\n",
    "today = datetime(year = 2021, month = 10, day = 28)\n",
    "today.strftime('%A')"
   ]
  },
  {
   "cell_type": "code",
   "execution_count": 4,
   "id": "16fc5acb",
   "metadata": {},
   "outputs": [
    {
     "name": "stdout",
     "output_type": "stream",
     "text": [
      "2023-03-13 19:22:56.909082\n",
      "Mon\n",
      "Monday\n",
      "1\n",
      "13\n",
      "Mar\n",
      "March\n",
      "2023\n"
     ]
    }
   ],
   "source": [
    "# Using the datetime directives.\n",
    "datetime_now = datetime.now()\n",
    "print(datetime_now) # Time at the moment the cell ran.\n",
    "print(datetime_now.strftime('%a')) # Weekday as locale’s abbreviated name.\n",
    "print(datetime_now.strftime('%A')) # Weekday as locale’s full name.\n",
    "print(datetime_now.strftime('%w')) # Weekday as a decimal number, where 0 is Sunday and 6 is Saturday.\n",
    "print(datetime_now.strftime('%d')) # Day of the month as a zero-padded decimal number.\n",
    "print(datetime_now.strftime('%b')) # Month as locale’s abbreviated name.\n",
    "print(datetime_now.strftime('%B')) # Month as locale’s full name.\n",
    "print(datetime_now.strftime('%Y')) # Year with century as a decimal number."
   ]
  },
  {
   "cell_type": "code",
   "execution_count": 5,
   "id": "33d33555",
   "metadata": {},
   "outputs": [
    {
     "data": {
      "text/plain": [
       "'Today is Monday March 13, 2023.'"
      ]
     },
     "execution_count": 5,
     "metadata": {},
     "output_type": "execute_result"
    }
   ],
   "source": [
    "# Strtime works similar to print function.\n",
    "datetime_now.strftime('Today is %A %B %d, %Y.')"
   ]
  },
  {
   "cell_type": "code",
   "execution_count": 6,
   "id": "07df9fff",
   "metadata": {},
   "outputs": [
    {
     "data": {
      "text/plain": [
       "datetime.datetime"
      ]
     },
     "execution_count": 6,
     "metadata": {},
     "output_type": "execute_result"
    }
   ],
   "source": [
    "type(datetime_now)\n",
    "# Note that datetime object/data type."
   ]
  },
  {
   "cell_type": "code",
   "execution_count": 7,
   "id": "bc8879d3",
   "metadata": {},
   "outputs": [
    {
     "data": {
      "text/plain": [
       "datetime.date(2001, 6, 1)"
      ]
     },
     "execution_count": 7,
     "metadata": {},
     "output_type": "execute_result"
    }
   ],
   "source": [
    "# Converts a string to a datetime as specified in the format.\n",
    "string_to_date = datetime.strptime('06-01-2001', '%m-%d-%Y').date() \n",
    "string_to_date"
   ]
  },
  {
   "cell_type": "code",
   "execution_count": 8,
   "id": "604b4b98",
   "metadata": {},
   "outputs": [
    {
     "data": {
      "text/plain": [
       "datetime.datetime(1982, 3, 15, 0, 0)"
      ]
     },
     "execution_count": 8,
     "metadata": {},
     "output_type": "execute_result"
    }
   ],
   "source": [
    "# let's create a datetime object let's say my birthday 03-15-1982\n",
    "my_birthday = datetime(year= 1982, month = 3, day =15)\n",
    "my_birthday"
   ]
  },
  {
   "cell_type": "code",
   "execution_count": 9,
   "id": "3c840175",
   "metadata": {},
   "outputs": [
    {
     "data": {
      "text/plain": [
       "'Monday'"
      ]
     },
     "execution_count": 9,
     "metadata": {},
     "output_type": "execute_result"
    }
   ],
   "source": [
    "# We can check the day of the week\n",
    "my_birthday.strftime('%A')"
   ]
  },
  {
   "cell_type": "code",
   "execution_count": 10,
   "id": "87472d28",
   "metadata": {},
   "outputs": [
    {
     "data": {
      "text/plain": [
       "'(Mon)-15/March--1982'"
      ]
     },
     "execution_count": 10,
     "metadata": {},
     "output_type": "execute_result"
    }
   ],
   "source": [
    "# Note that using .strftime method we can convert the time into any string format.\n",
    "my_birthday.strftime('(%a)-%d/%B--%Y')"
   ]
  },
  {
   "cell_type": "markdown",
   "id": "e84b1ba3",
   "metadata": {},
   "source": [
    "# Numpy \"datetime64\" type\n",
    "[Return to Table of Contents](#Table-of-Contents)\n",
    "\n",
    "Numpy also has a datetime data type which can be used with vectorized operations in arrays. Recall that arrays can only have one data type and process faster than other data collections.\n",
    "\n",
    "Documentation References:\n",
    "- https://numpy.org/doc/stable/reference/arrays.datetime.html\n",
    "- https://numpy.org/doc/stable/reference/arrays.datetime.html#datetime-units"
   ]
  },
  {
   "cell_type": "code",
   "execution_count": 11,
   "id": "19ef3e7f",
   "metadata": {},
   "outputs": [
    {
     "data": {
      "text/plain": [
       "array(['2021-10-28'], dtype='datetime64[D]')"
      ]
     },
     "execution_count": 11,
     "metadata": {},
     "output_type": "execute_result"
    }
   ],
   "source": [
    "# In the case of working with a lot dates and time this is the compact way to store data\n",
    "# Use np.array with dtype argument to create today as np.datetime64 object\n",
    "date = np.array(['2021-10-28'], dtype = 'datetime64')\n",
    "date"
   ]
  },
  {
   "cell_type": "code",
   "execution_count": 12,
   "id": "37bfd381",
   "metadata": {},
   "outputs": [
    {
     "data": {
      "text/plain": [
       "array(['2021-10-28', '2021-10-29', '2021-10-30', '2021-10-31',\n",
       "       '2021-11-01', '2021-11-02', '2021-11-03', '2021-11-04',\n",
       "       '2021-11-05', '2021-11-06'], dtype='datetime64[D]')"
      ]
     },
     "execution_count": 12,
     "metadata": {},
     "output_type": "execute_result"
    }
   ],
   "source": [
    "## Note that we can easily apply vectorized operations.\n",
    "date + np.arange(10) # Np.arrange produces integers from 0 to 9."
   ]
  },
  {
   "cell_type": "code",
   "execution_count": 13,
   "id": "11879416",
   "metadata": {},
   "outputs": [
    {
     "data": {
      "text/plain": [
       "array(['2021', '2022', '2023', '2024', '2025', '2026', '2027', '2028',\n",
       "       '2029', '2030', '2031', '2032'], dtype='datetime64[Y]')"
      ]
     },
     "execution_count": 13,
     "metadata": {},
     "output_type": "execute_result"
    }
   ],
   "source": [
    "## We can select second as the unit and let's see the difference\n",
    "date = np.array(['2021-10-28'], dtype = 'datetime64[Y]')\n",
    "\n",
    "date + np.arange(12)"
   ]
  },
  {
   "cell_type": "markdown",
   "id": "0ca7b3b5",
   "metadata": {},
   "source": [
    "# Pandas Datetime and Timestamp\n",
    "[Return to Table of Contents](#Table-of-Contents)\n",
    "\n",
    "Pandas can work with datetime, timestamp and periods data types.\n",
    "\n",
    "Documentation Reference:\n",
    "- https://pandas.pydata.org/pandas-docs/stable/reference/api/pandas.to_datetime.html\n",
    "- https://pandas.pydata.org/pandas-docs/stable/reference/api/pandas.Timestamp.html\n",
    "- https://pandas.pydata.org/pandas-docs/stable/reference/api/pandas.to_datetime.html"
   ]
  },
  {
   "cell_type": "code",
   "execution_count": 14,
   "id": "c77d5caf",
   "metadata": {},
   "outputs": [
    {
     "data": {
      "text/plain": [
       "Timestamp('2022-11-21 00:00:00')"
      ]
     },
     "execution_count": 14,
     "metadata": {},
     "output_type": "execute_result"
    }
   ],
   "source": [
    "# One data structure used in pandas using is Timestamp\n",
    "today = pd.Timestamp(year= 2022, month = 11, day = 21)\n",
    "today"
   ]
  },
  {
   "cell_type": "code",
   "execution_count": 15,
   "id": "b986ba8a",
   "metadata": {},
   "outputs": [
    {
     "data": {
      "text/plain": [
       "pandas._libs.tslibs.timestamps.Timestamp"
      ]
     },
     "execution_count": 15,
     "metadata": {},
     "output_type": "execute_result"
    }
   ],
   "source": [
    "type(today) # Pandas Timestamp data type."
   ]
  },
  {
   "cell_type": "code",
   "execution_count": 16,
   "id": "ce507ba3",
   "metadata": {},
   "outputs": [
    {
     "data": {
      "text/plain": [
       "Timestamp('1997-05-19 00:00:00')"
      ]
     },
     "execution_count": 16,
     "metadata": {},
     "output_type": "execute_result"
    }
   ],
   "source": [
    "pd.Timestamp(ts_input = 10000, unit='D') # Units D = days. 10,000 days from reference date/time."
   ]
  },
  {
   "cell_type": "code",
   "execution_count": 17,
   "id": "c743ba5f",
   "metadata": {},
   "outputs": [
    {
     "data": {
      "text/plain": [
       "Timestamp('1970-01-01 00:00:00')"
      ]
     },
     "execution_count": 17,
     "metadata": {},
     "output_type": "execute_result"
    }
   ],
   "source": [
    "pd.Timestamp(ts_input = 0, unit='D') # Reference date and time for ts_input is 1970-01-01."
   ]
  },
  {
   "cell_type": "code",
   "execution_count": 18,
   "id": "31185cb1",
   "metadata": {},
   "outputs": [
    {
     "data": {
      "text/plain": [
       "Timestamp('1969-12-31 23:59:59')"
      ]
     },
     "execution_count": 18,
     "metadata": {},
     "output_type": "execute_result"
    }
   ],
   "source": [
    "pd.Timestamp(ts_input = -1, unit='s') # Unit s = seconds. -1 second from reference date/time."
   ]
  },
  {
   "cell_type": "code",
   "execution_count": 19,
   "id": "e16b238f",
   "metadata": {},
   "outputs": [
    {
     "data": {
      "text/plain": [
       "'Monday'"
      ]
     },
     "execution_count": 19,
     "metadata": {},
     "output_type": "execute_result"
    }
   ],
   "source": [
    "today.day_name()"
   ]
  },
  {
   "cell_type": "code",
   "execution_count": 20,
   "id": "50c02dac",
   "metadata": {},
   "outputs": [
    {
     "data": {
      "text/plain": [
       "'Monday'"
      ]
     },
     "execution_count": 20,
     "metadata": {},
     "output_type": "execute_result"
    }
   ],
   "source": [
    "today.strftime('%A')"
   ]
  },
  {
   "cell_type": "code",
   "execution_count": 21,
   "id": "78f0b68d",
   "metadata": {},
   "outputs": [
    {
     "data": {
      "text/plain": [
       "Timestamp('2021-10-28 00:00:00')"
      ]
     },
     "execution_count": 21,
     "metadata": {},
     "output_type": "execute_result"
    }
   ],
   "source": [
    "# We can also use pd.to_datetime to create a timestamp.\n",
    "pd.to_datetime('Oct. 28th 2021')"
   ]
  },
  {
   "cell_type": "code",
   "execution_count": null,
   "id": "c4ca10bd",
   "metadata": {},
   "outputs": [],
   "source": [
    "# Pandas uses both datetime module and numpy.datetime64 data dtype\n",
    "# We can use some of the methods used in these modules. \n",
    "# There are also some additional methods that are very hadny when you analyze data."
   ]
  },
  {
   "cell_type": "markdown",
   "id": "7135f934",
   "metadata": {},
   "source": [
    "# Pandas Datetimes in a Dataframe\n",
    "[Return to Table of Contents](#Table-of-Contents)\n",
    "\n",
    "The following section uses data from [Ethereum](https://ethereum.org/en/eth/) crypto currency dates, prices and trading volume."
   ]
  },
  {
   "cell_type": "code",
   "execution_count": 22,
   "id": "87f07298",
   "metadata": {},
   "outputs": [],
   "source": [
    "## let's consider the following example\n",
    "data_url ='https://raw.githubusercontent.com/fgonzaleumbc/DATA601/main/Lecture05/input_data/ETH-1.csv'\n",
    "# Note that we can load a dataframe directly from a file in a website.\n",
    "df = pd.read_csv(data_url)"
   ]
  },
  {
   "cell_type": "code",
   "execution_count": 23,
   "id": "59fdf9fe",
   "metadata": {},
   "outputs": [
    {
     "data": {
      "text/html": [
       "<div>\n",
       "<style scoped>\n",
       "    .dataframe tbody tr th:only-of-type {\n",
       "        vertical-align: middle;\n",
       "    }\n",
       "\n",
       "    .dataframe tbody tr th {\n",
       "        vertical-align: top;\n",
       "    }\n",
       "\n",
       "    .dataframe thead th {\n",
       "        text-align: right;\n",
       "    }\n",
       "</style>\n",
       "<table border=\"1\" class=\"dataframe\">\n",
       "  <thead>\n",
       "    <tr style=\"text-align: right;\">\n",
       "      <th></th>\n",
       "      <th>Date</th>\n",
       "      <th>Symbol</th>\n",
       "      <th>Open</th>\n",
       "      <th>High</th>\n",
       "      <th>Low</th>\n",
       "      <th>Close</th>\n",
       "      <th>Volume</th>\n",
       "    </tr>\n",
       "  </thead>\n",
       "  <tbody>\n",
       "    <tr>\n",
       "      <th>0</th>\n",
       "      <td>2020-03-13 08-PM</td>\n",
       "      <td>ETHUSD</td>\n",
       "      <td>129.94</td>\n",
       "      <td>131.82</td>\n",
       "      <td>126.87</td>\n",
       "      <td>128.71</td>\n",
       "      <td>1940673.93</td>\n",
       "    </tr>\n",
       "    <tr>\n",
       "      <th>1</th>\n",
       "      <td>2020-03-13 07-PM</td>\n",
       "      <td>ETHUSD</td>\n",
       "      <td>119.51</td>\n",
       "      <td>132.02</td>\n",
       "      <td>117.10</td>\n",
       "      <td>129.94</td>\n",
       "      <td>7579741.09</td>\n",
       "    </tr>\n",
       "    <tr>\n",
       "      <th>2</th>\n",
       "      <td>2020-03-13 06-PM</td>\n",
       "      <td>ETHUSD</td>\n",
       "      <td>124.47</td>\n",
       "      <td>124.85</td>\n",
       "      <td>115.50</td>\n",
       "      <td>119.51</td>\n",
       "      <td>4898735.81</td>\n",
       "    </tr>\n",
       "  </tbody>\n",
       "</table>\n",
       "</div>"
      ],
      "text/plain": [
       "               Date  Symbol    Open    High     Low   Close      Volume\n",
       "0  2020-03-13 08-PM  ETHUSD  129.94  131.82  126.87  128.71  1940673.93\n",
       "1  2020-03-13 07-PM  ETHUSD  119.51  132.02  117.10  129.94  7579741.09\n",
       "2  2020-03-13 06-PM  ETHUSD  124.47  124.85  115.50  119.51  4898735.81"
      ]
     },
     "execution_count": 23,
     "metadata": {},
     "output_type": "execute_result"
    }
   ],
   "source": [
    "df.head(3)"
   ]
  },
  {
   "cell_type": "code",
   "execution_count": 25,
   "id": "1a275ab7",
   "metadata": {},
   "outputs": [],
   "source": [
    "# Run this to see that it fails\n",
    "#pd.to_datetime(df.Date)"
   ]
  },
  {
   "cell_type": "code",
   "execution_count": null,
   "id": "f9a13b48",
   "metadata": {},
   "outputs": [],
   "source": [
    "# Note that in this case it is not straight forward to convert strings to datetime\n",
    "# Let's try pd.to_datetime"
   ]
  },
  {
   "cell_type": "code",
   "execution_count": 26,
   "id": "3eb9f5db",
   "metadata": {},
   "outputs": [
    {
     "data": {
      "text/plain": [
       "'2020-03-13 07-PM'"
      ]
     },
     "execution_count": 26,
     "metadata": {},
     "output_type": "execute_result"
    }
   ],
   "source": [
    "df.Date.iloc[1]"
   ]
  },
  {
   "cell_type": "code",
   "execution_count": 27,
   "id": "ff60e4a6",
   "metadata": {},
   "outputs": [
    {
     "name": "stdout",
     "output_type": "stream",
     "text": [
      "datetime64[ns]\n"
     ]
    },
    {
     "data": {
      "text/html": [
       "<div>\n",
       "<style scoped>\n",
       "    .dataframe tbody tr th:only-of-type {\n",
       "        vertical-align: middle;\n",
       "    }\n",
       "\n",
       "    .dataframe tbody tr th {\n",
       "        vertical-align: top;\n",
       "    }\n",
       "\n",
       "    .dataframe thead th {\n",
       "        text-align: right;\n",
       "    }\n",
       "</style>\n",
       "<table border=\"1\" class=\"dataframe\">\n",
       "  <thead>\n",
       "    <tr style=\"text-align: right;\">\n",
       "      <th></th>\n",
       "      <th>Date</th>\n",
       "      <th>Symbol</th>\n",
       "      <th>Open</th>\n",
       "      <th>High</th>\n",
       "      <th>Low</th>\n",
       "      <th>Close</th>\n",
       "      <th>Volume</th>\n",
       "    </tr>\n",
       "  </thead>\n",
       "  <tbody>\n",
       "    <tr>\n",
       "      <th>0</th>\n",
       "      <td>2020-03-13 19:00:00</td>\n",
       "      <td>ETHUSD</td>\n",
       "      <td>129.94</td>\n",
       "      <td>131.82</td>\n",
       "      <td>126.87</td>\n",
       "      <td>128.71</td>\n",
       "      <td>1940673.93</td>\n",
       "    </tr>\n",
       "    <tr>\n",
       "      <th>1</th>\n",
       "      <td>2020-03-13 19:00:00</td>\n",
       "      <td>ETHUSD</td>\n",
       "      <td>119.51</td>\n",
       "      <td>132.02</td>\n",
       "      <td>117.10</td>\n",
       "      <td>129.94</td>\n",
       "      <td>7579741.09</td>\n",
       "    </tr>\n",
       "    <tr>\n",
       "      <th>2</th>\n",
       "      <td>2020-03-13 19:00:00</td>\n",
       "      <td>ETHUSD</td>\n",
       "      <td>124.47</td>\n",
       "      <td>124.85</td>\n",
       "      <td>115.50</td>\n",
       "      <td>119.51</td>\n",
       "      <td>4898735.81</td>\n",
       "    </tr>\n",
       "  </tbody>\n",
       "</table>\n",
       "</div>"
      ],
      "text/plain": [
       "                 Date  Symbol    Open    High     Low   Close      Volume\n",
       "0 2020-03-13 19:00:00  ETHUSD  129.94  131.82  126.87  128.71  1940673.93\n",
       "1 2020-03-13 19:00:00  ETHUSD  119.51  132.02  117.10  129.94  7579741.09\n",
       "2 2020-03-13 19:00:00  ETHUSD  124.47  124.85  115.50  119.51  4898735.81"
      ]
     },
     "execution_count": 27,
     "metadata": {},
     "output_type": "execute_result"
    }
   ],
   "source": [
    "## We can use the format parameter to give the format of the string use pd.to_datetime together with format argument.\n",
    "df.Date = pd.to_datetime(df.Date, \n",
    "                         format = '%Y-%m-%d %I-%p').iloc[1]\n",
    "print(df['Date'].dtype)\n",
    "df.head(3)"
   ]
  },
  {
   "cell_type": "code",
   "execution_count": 28,
   "id": "d527f2c6",
   "metadata": {},
   "outputs": [
    {
     "name": "stdout",
     "output_type": "stream",
     "text": [
      "object\n"
     ]
    },
    {
     "data": {
      "text/html": [
       "<div>\n",
       "<style scoped>\n",
       "    .dataframe tbody tr th:only-of-type {\n",
       "        vertical-align: middle;\n",
       "    }\n",
       "\n",
       "    .dataframe tbody tr th {\n",
       "        vertical-align: top;\n",
       "    }\n",
       "\n",
       "    .dataframe thead th {\n",
       "        text-align: right;\n",
       "    }\n",
       "</style>\n",
       "<table border=\"1\" class=\"dataframe\">\n",
       "  <thead>\n",
       "    <tr style=\"text-align: right;\">\n",
       "      <th></th>\n",
       "      <th>Date</th>\n",
       "      <th>Symbol</th>\n",
       "      <th>Open</th>\n",
       "      <th>High</th>\n",
       "      <th>Low</th>\n",
       "      <th>Close</th>\n",
       "      <th>Volume</th>\n",
       "    </tr>\n",
       "  </thead>\n",
       "  <tbody>\n",
       "    <tr>\n",
       "      <th>0</th>\n",
       "      <td>2020-03-13 08-PM</td>\n",
       "      <td>ETHUSD</td>\n",
       "      <td>129.94</td>\n",
       "      <td>131.82</td>\n",
       "      <td>126.87</td>\n",
       "      <td>128.71</td>\n",
       "      <td>1940673.93</td>\n",
       "    </tr>\n",
       "    <tr>\n",
       "      <th>1</th>\n",
       "      <td>2020-03-13 07-PM</td>\n",
       "      <td>ETHUSD</td>\n",
       "      <td>119.51</td>\n",
       "      <td>132.02</td>\n",
       "      <td>117.10</td>\n",
       "      <td>129.94</td>\n",
       "      <td>7579741.09</td>\n",
       "    </tr>\n",
       "    <tr>\n",
       "      <th>2</th>\n",
       "      <td>2020-03-13 06-PM</td>\n",
       "      <td>ETHUSD</td>\n",
       "      <td>124.47</td>\n",
       "      <td>124.85</td>\n",
       "      <td>115.50</td>\n",
       "      <td>119.51</td>\n",
       "      <td>4898735.81</td>\n",
       "    </tr>\n",
       "  </tbody>\n",
       "</table>\n",
       "</div>"
      ],
      "text/plain": [
       "               Date  Symbol    Open    High     Low   Close      Volume\n",
       "0  2020-03-13 08-PM  ETHUSD  129.94  131.82  126.87  128.71  1940673.93\n",
       "1  2020-03-13 07-PM  ETHUSD  119.51  132.02  117.10  129.94  7579741.09\n",
       "2  2020-03-13 06-PM  ETHUSD  124.47  124.85  115.50  119.51  4898735.81"
      ]
     },
     "execution_count": 28,
     "metadata": {},
     "output_type": "execute_result"
    }
   ],
   "source": [
    "# We can use parse_dates parameter and infer_datetime_format when pd.read_csv.\n",
    "df1 = pd.read_csv(data_url, \n",
    "                   parse_dates = ['Date'], \n",
    "                   infer_datetime_format= True)\n",
    "print(df1['Date'].dtype) # This approach does not seem to work in this case. Still looks like it is an object.\n",
    "df1.head(3)"
   ]
  },
  {
   "cell_type": "code",
   "execution_count": 29,
   "id": "f07c8492",
   "metadata": {},
   "outputs": [
    {
     "name": "stdout",
     "output_type": "stream",
     "text": [
      "datetime64[ns]\n"
     ]
    },
    {
     "data": {
      "text/html": [
       "<div>\n",
       "<style scoped>\n",
       "    .dataframe tbody tr th:only-of-type {\n",
       "        vertical-align: middle;\n",
       "    }\n",
       "\n",
       "    .dataframe tbody tr th {\n",
       "        vertical-align: top;\n",
       "    }\n",
       "\n",
       "    .dataframe thead th {\n",
       "        text-align: right;\n",
       "    }\n",
       "</style>\n",
       "<table border=\"1\" class=\"dataframe\">\n",
       "  <thead>\n",
       "    <tr style=\"text-align: right;\">\n",
       "      <th></th>\n",
       "      <th>Date</th>\n",
       "      <th>Symbol</th>\n",
       "      <th>Open</th>\n",
       "      <th>High</th>\n",
       "      <th>Low</th>\n",
       "      <th>Close</th>\n",
       "      <th>Volume</th>\n",
       "    </tr>\n",
       "  </thead>\n",
       "  <tbody>\n",
       "    <tr>\n",
       "      <th>0</th>\n",
       "      <td>2020-03-13 20:00:00</td>\n",
       "      <td>ETHUSD</td>\n",
       "      <td>129.94</td>\n",
       "      <td>131.82</td>\n",
       "      <td>126.87</td>\n",
       "      <td>128.71</td>\n",
       "      <td>1940673.93</td>\n",
       "    </tr>\n",
       "    <tr>\n",
       "      <th>1</th>\n",
       "      <td>2020-03-13 19:00:00</td>\n",
       "      <td>ETHUSD</td>\n",
       "      <td>119.51</td>\n",
       "      <td>132.02</td>\n",
       "      <td>117.10</td>\n",
       "      <td>129.94</td>\n",
       "      <td>7579741.09</td>\n",
       "    </tr>\n",
       "    <tr>\n",
       "      <th>2</th>\n",
       "      <td>2020-03-13 18:00:00</td>\n",
       "      <td>ETHUSD</td>\n",
       "      <td>124.47</td>\n",
       "      <td>124.85</td>\n",
       "      <td>115.50</td>\n",
       "      <td>119.51</td>\n",
       "      <td>4898735.81</td>\n",
       "    </tr>\n",
       "  </tbody>\n",
       "</table>\n",
       "</div>"
      ],
      "text/plain": [
       "                 Date  Symbol    Open    High     Low   Close      Volume\n",
       "0 2020-03-13 20:00:00  ETHUSD  129.94  131.82  126.87  128.71  1940673.93\n",
       "1 2020-03-13 19:00:00  ETHUSD  119.51  132.02  117.10  129.94  7579741.09\n",
       "2 2020-03-13 18:00:00  ETHUSD  124.47  124.85  115.50  119.51  4898735.81"
      ]
     },
     "execution_count": 29,
     "metadata": {},
     "output_type": "execute_result"
    }
   ],
   "source": [
    "# Another way we can try is to define a function to define format.\n",
    "# In this case we need to pass a parser to date_parser argument define my_time_parser \n",
    "# This takes a string and return pd.to_datetime \n",
    "def my_time_parser(date):\n",
    "    return pd.to_datetime(date, format = '%Y-%m-%d %I-%p')\n",
    "\n",
    "# Could have also used datetime.strptime mehtod\n",
    "\n",
    "# Read_csv but this time pass my_time_parser to date_parser argument\n",
    "df2 = pd.read_csv(data_url, \n",
    "                  parse_dates= ['Date'], \n",
    "                  date_parser= my_time_parser)\n",
    "\n",
    "print(df2['Date'].dtype) # This approach seems to have worked.\n",
    "df2.head(3)"
   ]
  },
  {
   "cell_type": "code",
   "execution_count": 30,
   "id": "ad38f01f",
   "metadata": {},
   "outputs": [
    {
     "data": {
      "text/plain": [
       "0       2020-03-13 20:00:00\n",
       "1       2020-03-13 19:00:00\n",
       "2       2020-03-13 18:00:00\n",
       "3       2020-03-13 17:00:00\n",
       "4       2020-03-13 16:00:00\n",
       "                ...        \n",
       "23669   2017-07-01 15:00:00\n",
       "23670   2017-07-01 14:00:00\n",
       "23671   2017-07-01 13:00:00\n",
       "23672   2017-07-01 12:00:00\n",
       "23673   2017-07-01 11:00:00\n",
       "Name: Date, Length: 23674, dtype: datetime64[ns]"
      ]
     },
     "execution_count": 30,
     "metadata": {},
     "output_type": "execute_result"
    }
   ],
   "source": [
    "# We could directly pass a lambda function too in datetime.\n",
    "df3 = pd.read_csv('https://raw.githubusercontent.com/fgonzaleumbc/DATA601/main/Lecture05/input_data/ETH-1.csv', \n",
    "                  parse_dates= ['Date'], \n",
    "                  date_parser = lambda date: datetime.strptime(date, '%Y-%m-%d %I-%p'))\n",
    "df3.Date"
   ]
  },
  {
   "cell_type": "code",
   "execution_count": 31,
   "id": "d39f1949",
   "metadata": {},
   "outputs": [
    {
     "data": {
      "text/plain": [
       "11"
      ]
     },
     "execution_count": 31,
     "metadata": {},
     "output_type": "execute_result"
    }
   ],
   "source": [
    "# Note that each entry is an timestamp and can use the timestamp methods.\n",
    "df3.Date.iloc[2].weekofyear # Week of year for date in index 2."
   ]
  },
  {
   "cell_type": "code",
   "execution_count": 32,
   "id": "a445cf3d",
   "metadata": {},
   "outputs": [
    {
     "data": {
      "text/plain": [
       "0          Friday\n",
       "1          Friday\n",
       "2          Friday\n",
       "3          Friday\n",
       "4          Friday\n",
       "           ...   \n",
       "23669    Saturday\n",
       "23670    Saturday\n",
       "23671    Saturday\n",
       "23672    Saturday\n",
       "23673    Saturday\n",
       "Name: Date, Length: 23674, dtype: object"
      ]
     },
     "execution_count": 32,
     "metadata": {},
     "output_type": "execute_result"
    }
   ],
   "source": [
    "## We can use .dt class to be able to access datetime methods.\n",
    "df3.Date.dt.day_name()"
   ]
  },
  {
   "cell_type": "code",
   "execution_count": 33,
   "id": "752f57ec",
   "metadata": {},
   "outputs": [
    {
     "data": {
      "text/plain": [
       "Timestamp('2017-07-01 11:00:00')"
      ]
     },
     "execution_count": 33,
     "metadata": {},
     "output_type": "execute_result"
    }
   ],
   "source": [
    "# Check minimum of date feature\n",
    "df3.Date.min()"
   ]
  },
  {
   "cell_type": "code",
   "execution_count": 34,
   "id": "cfae67ef",
   "metadata": {},
   "outputs": [
    {
     "data": {
      "text/plain": [
       "Timestamp('2020-03-13 20:00:00')"
      ]
     },
     "execution_count": 34,
     "metadata": {},
     "output_type": "execute_result"
    }
   ],
   "source": [
    "# Check maximum of date feature\n",
    "df3.Date.max()"
   ]
  },
  {
   "cell_type": "code",
   "execution_count": 35,
   "id": "aae9bb48",
   "metadata": {},
   "outputs": [
    {
     "data": {
      "text/plain": [
       "Timedelta('986 days 09:00:00')"
      ]
     },
     "execution_count": 35,
     "metadata": {},
     "output_type": "execute_result"
    }
   ],
   "source": [
    "# Note that results of operations are timedelta type\n",
    "df3.Date.max() - df3.Date.min()"
   ]
  },
  {
   "cell_type": "code",
   "execution_count": 36,
   "id": "caa1aef9",
   "metadata": {},
   "outputs": [
    {
     "data": {
      "text/plain": [
       "Timedelta('-987 days +15:00:00')"
      ]
     },
     "execution_count": 36,
     "metadata": {},
     "output_type": "execute_result"
    }
   ],
   "source": [
    "df3.Date.min() - df3.Date.max()"
   ]
  },
  {
   "cell_type": "code",
   "execution_count": 37,
   "id": "242d30e7",
   "metadata": {},
   "outputs": [
    {
     "data": {
      "text/plain": [
       "0       986 days 09:00:00\n",
       "1       986 days 08:00:00\n",
       "2       986 days 07:00:00\n",
       "3       986 days 06:00:00\n",
       "4       986 days 05:00:00\n",
       "               ...       \n",
       "23669     0 days 04:00:00\n",
       "23670     0 days 03:00:00\n",
       "23671     0 days 02:00:00\n",
       "23672     0 days 01:00:00\n",
       "23673     0 days 00:00:00\n",
       "Name: Date, Length: 23674, dtype: timedelta64[ns]"
      ]
     },
     "execution_count": 37,
     "metadata": {},
     "output_type": "execute_result"
    }
   ],
   "source": [
    "# We can perform operations accross a dataframe column.\n",
    "# Note again that we get timedelta objects when we check the difference of two timestamps.\n",
    "df3.Date - df3.Date.min()"
   ]
  },
  {
   "cell_type": "code",
   "execution_count": 38,
   "id": "f0ee2d00",
   "metadata": {},
   "outputs": [
    {
     "data": {
      "text/html": [
       "<div>\n",
       "<style scoped>\n",
       "    .dataframe tbody tr th:only-of-type {\n",
       "        vertical-align: middle;\n",
       "    }\n",
       "\n",
       "    .dataframe tbody tr th {\n",
       "        vertical-align: top;\n",
       "    }\n",
       "\n",
       "    .dataframe thead th {\n",
       "        text-align: right;\n",
       "    }\n",
       "</style>\n",
       "<table border=\"1\" class=\"dataframe\">\n",
       "  <thead>\n",
       "    <tr style=\"text-align: right;\">\n",
       "      <th></th>\n",
       "      <th>Date</th>\n",
       "      <th>Symbol</th>\n",
       "      <th>Open</th>\n",
       "      <th>High</th>\n",
       "      <th>Low</th>\n",
       "      <th>Close</th>\n",
       "      <th>Volume</th>\n",
       "      <th>time_delta</th>\n",
       "    </tr>\n",
       "  </thead>\n",
       "  <tbody>\n",
       "    <tr>\n",
       "      <th>0</th>\n",
       "      <td>2020-03-13 20:00:00</td>\n",
       "      <td>ETHUSD</td>\n",
       "      <td>129.94</td>\n",
       "      <td>131.82</td>\n",
       "      <td>126.87</td>\n",
       "      <td>128.71</td>\n",
       "      <td>1940673.93</td>\n",
       "      <td>986 days 09:00:00</td>\n",
       "    </tr>\n",
       "    <tr>\n",
       "      <th>1</th>\n",
       "      <td>2020-03-13 19:00:00</td>\n",
       "      <td>ETHUSD</td>\n",
       "      <td>119.51</td>\n",
       "      <td>132.02</td>\n",
       "      <td>117.10</td>\n",
       "      <td>129.94</td>\n",
       "      <td>7579741.09</td>\n",
       "      <td>986 days 08:00:00</td>\n",
       "    </tr>\n",
       "    <tr>\n",
       "      <th>2</th>\n",
       "      <td>2020-03-13 18:00:00</td>\n",
       "      <td>ETHUSD</td>\n",
       "      <td>124.47</td>\n",
       "      <td>124.85</td>\n",
       "      <td>115.50</td>\n",
       "      <td>119.51</td>\n",
       "      <td>4898735.81</td>\n",
       "      <td>986 days 07:00:00</td>\n",
       "    </tr>\n",
       "    <tr>\n",
       "      <th>3</th>\n",
       "      <td>2020-03-13 17:00:00</td>\n",
       "      <td>ETHUSD</td>\n",
       "      <td>124.08</td>\n",
       "      <td>127.42</td>\n",
       "      <td>121.63</td>\n",
       "      <td>124.47</td>\n",
       "      <td>2753450.92</td>\n",
       "      <td>986 days 06:00:00</td>\n",
       "    </tr>\n",
       "    <tr>\n",
       "      <th>4</th>\n",
       "      <td>2020-03-13 16:00:00</td>\n",
       "      <td>ETHUSD</td>\n",
       "      <td>124.85</td>\n",
       "      <td>129.51</td>\n",
       "      <td>120.17</td>\n",
       "      <td>124.08</td>\n",
       "      <td>4461424.71</td>\n",
       "      <td>986 days 05:00:00</td>\n",
       "    </tr>\n",
       "  </tbody>\n",
       "</table>\n",
       "</div>"
      ],
      "text/plain": [
       "                 Date  Symbol    Open    High     Low   Close      Volume  \\\n",
       "0 2020-03-13 20:00:00  ETHUSD  129.94  131.82  126.87  128.71  1940673.93   \n",
       "1 2020-03-13 19:00:00  ETHUSD  119.51  132.02  117.10  129.94  7579741.09   \n",
       "2 2020-03-13 18:00:00  ETHUSD  124.47  124.85  115.50  119.51  4898735.81   \n",
       "3 2020-03-13 17:00:00  ETHUSD  124.08  127.42  121.63  124.47  2753450.92   \n",
       "4 2020-03-13 16:00:00  ETHUSD  124.85  129.51  120.17  124.08  4461424.71   \n",
       "\n",
       "         time_delta  \n",
       "0 986 days 09:00:00  \n",
       "1 986 days 08:00:00  \n",
       "2 986 days 07:00:00  \n",
       "3 986 days 06:00:00  \n",
       "4 986 days 05:00:00  "
      ]
     },
     "execution_count": 38,
     "metadata": {},
     "output_type": "execute_result"
    }
   ],
   "source": [
    "# We can create a derived feature with the time_delta\n",
    "df3['time_delta'] = df3.Date - df3.Date.min()\n",
    "df3.head()"
   ]
  },
  {
   "cell_type": "markdown",
   "id": "600732e9",
   "metadata": {},
   "source": [
    "# Indexing by time\n",
    "[Return to Table of Contents](#Table-of-Contents)\n",
    "\n",
    "When you are working with time data it is generally good idea to index your dataframe with the time. Note that to use a column as an index, the column needs to be a unique value for each record."
   ]
  },
  {
   "cell_type": "code",
   "execution_count": 39,
   "id": "639add35",
   "metadata": {},
   "outputs": [],
   "source": [
    "# let's set the index key as 'Date' column\n",
    "df3.set_index(keys = 'Date', inplace= True)"
   ]
  },
  {
   "cell_type": "code",
   "execution_count": 40,
   "id": "177be330",
   "metadata": {},
   "outputs": [],
   "source": [
    "df3.sort_index(inplace = True)"
   ]
  },
  {
   "cell_type": "code",
   "execution_count": 41,
   "id": "b1e8cf7c",
   "metadata": {},
   "outputs": [
    {
     "data": {
      "text/html": [
       "<div>\n",
       "<style scoped>\n",
       "    .dataframe tbody tr th:only-of-type {\n",
       "        vertical-align: middle;\n",
       "    }\n",
       "\n",
       "    .dataframe tbody tr th {\n",
       "        vertical-align: top;\n",
       "    }\n",
       "\n",
       "    .dataframe thead th {\n",
       "        text-align: right;\n",
       "    }\n",
       "</style>\n",
       "<table border=\"1\" class=\"dataframe\">\n",
       "  <thead>\n",
       "    <tr style=\"text-align: right;\">\n",
       "      <th></th>\n",
       "      <th>Symbol</th>\n",
       "      <th>Open</th>\n",
       "      <th>High</th>\n",
       "      <th>Low</th>\n",
       "      <th>Close</th>\n",
       "      <th>Volume</th>\n",
       "      <th>time_delta</th>\n",
       "    </tr>\n",
       "    <tr>\n",
       "      <th>Date</th>\n",
       "      <th></th>\n",
       "      <th></th>\n",
       "      <th></th>\n",
       "      <th></th>\n",
       "      <th></th>\n",
       "      <th></th>\n",
       "      <th></th>\n",
       "    </tr>\n",
       "  </thead>\n",
       "  <tbody>\n",
       "    <tr>\n",
       "      <th>2017-07-01 11:00:00</th>\n",
       "      <td>ETHUSD</td>\n",
       "      <td>279.98</td>\n",
       "      <td>279.99</td>\n",
       "      <td>272.1</td>\n",
       "      <td>275.01</td>\n",
       "      <td>679358.87</td>\n",
       "      <td>0 days 00:00:00</td>\n",
       "    </tr>\n",
       "    <tr>\n",
       "      <th>2017-07-01 12:00:00</th>\n",
       "      <td>ETHUSD</td>\n",
       "      <td>275.01</td>\n",
       "      <td>275.01</td>\n",
       "      <td>271.0</td>\n",
       "      <td>274.83</td>\n",
       "      <td>824362.87</td>\n",
       "      <td>0 days 01:00:00</td>\n",
       "    </tr>\n",
       "    <tr>\n",
       "      <th>2017-07-01 13:00:00</th>\n",
       "      <td>ETHUSD</td>\n",
       "      <td>274.83</td>\n",
       "      <td>274.93</td>\n",
       "      <td>265.0</td>\n",
       "      <td>268.79</td>\n",
       "      <td>3010787.99</td>\n",
       "      <td>0 days 02:00:00</td>\n",
       "    </tr>\n",
       "    <tr>\n",
       "      <th>2017-07-01 14:00:00</th>\n",
       "      <td>ETHUSD</td>\n",
       "      <td>268.79</td>\n",
       "      <td>269.90</td>\n",
       "      <td>265.0</td>\n",
       "      <td>265.74</td>\n",
       "      <td>1702536.85</td>\n",
       "      <td>0 days 03:00:00</td>\n",
       "    </tr>\n",
       "    <tr>\n",
       "      <th>2017-07-01 15:00:00</th>\n",
       "      <td>ETHUSD</td>\n",
       "      <td>265.74</td>\n",
       "      <td>272.74</td>\n",
       "      <td>265.0</td>\n",
       "      <td>272.57</td>\n",
       "      <td>1500282.55</td>\n",
       "      <td>0 days 04:00:00</td>\n",
       "    </tr>\n",
       "  </tbody>\n",
       "</table>\n",
       "</div>"
      ],
      "text/plain": [
       "                     Symbol    Open    High    Low   Close      Volume  \\\n",
       "Date                                                                     \n",
       "2017-07-01 11:00:00  ETHUSD  279.98  279.99  272.1  275.01   679358.87   \n",
       "2017-07-01 12:00:00  ETHUSD  275.01  275.01  271.0  274.83   824362.87   \n",
       "2017-07-01 13:00:00  ETHUSD  274.83  274.93  265.0  268.79  3010787.99   \n",
       "2017-07-01 14:00:00  ETHUSD  268.79  269.90  265.0  265.74  1702536.85   \n",
       "2017-07-01 15:00:00  ETHUSD  265.74  272.74  265.0  272.57  1500282.55   \n",
       "\n",
       "                         time_delta  \n",
       "Date                                 \n",
       "2017-07-01 11:00:00 0 days 00:00:00  \n",
       "2017-07-01 12:00:00 0 days 01:00:00  \n",
       "2017-07-01 13:00:00 0 days 02:00:00  \n",
       "2017-07-01 14:00:00 0 days 03:00:00  \n",
       "2017-07-01 15:00:00 0 days 04:00:00  "
      ]
     },
     "execution_count": 41,
     "metadata": {},
     "output_type": "execute_result"
    }
   ],
   "source": [
    "df3.head()"
   ]
  },
  {
   "cell_type": "code",
   "execution_count": 42,
   "id": "4d2436b6",
   "metadata": {},
   "outputs": [
    {
     "data": {
      "text/html": [
       "<div>\n",
       "<style scoped>\n",
       "    .dataframe tbody tr th:only-of-type {\n",
       "        vertical-align: middle;\n",
       "    }\n",
       "\n",
       "    .dataframe tbody tr th {\n",
       "        vertical-align: top;\n",
       "    }\n",
       "\n",
       "    .dataframe thead th {\n",
       "        text-align: right;\n",
       "    }\n",
       "</style>\n",
       "<table border=\"1\" class=\"dataframe\">\n",
       "  <thead>\n",
       "    <tr style=\"text-align: right;\">\n",
       "      <th></th>\n",
       "      <th>Symbol</th>\n",
       "      <th>Open</th>\n",
       "      <th>High</th>\n",
       "      <th>Low</th>\n",
       "      <th>Close</th>\n",
       "      <th>Volume</th>\n",
       "      <th>time_delta</th>\n",
       "    </tr>\n",
       "    <tr>\n",
       "      <th>Date</th>\n",
       "      <th></th>\n",
       "      <th></th>\n",
       "      <th></th>\n",
       "      <th></th>\n",
       "      <th></th>\n",
       "      <th></th>\n",
       "      <th></th>\n",
       "    </tr>\n",
       "  </thead>\n",
       "  <tbody>\n",
       "    <tr>\n",
       "      <th>2019-01-01 00:00:00</th>\n",
       "      <td>ETHUSD</td>\n",
       "      <td>130.53</td>\n",
       "      <td>131.91</td>\n",
       "      <td>130.48</td>\n",
       "      <td>131.62</td>\n",
       "      <td>1067136.21</td>\n",
       "      <td>548 days 13:00:00</td>\n",
       "    </tr>\n",
       "    <tr>\n",
       "      <th>2019-01-01 01:00:00</th>\n",
       "      <td>ETHUSD</td>\n",
       "      <td>131.62</td>\n",
       "      <td>131.62</td>\n",
       "      <td>130.77</td>\n",
       "      <td>130.79</td>\n",
       "      <td>434917.99</td>\n",
       "      <td>548 days 14:00:00</td>\n",
       "    </tr>\n",
       "    <tr>\n",
       "      <th>2019-01-01 02:00:00</th>\n",
       "      <td>ETHUSD</td>\n",
       "      <td>130.79</td>\n",
       "      <td>130.88</td>\n",
       "      <td>129.55</td>\n",
       "      <td>130.06</td>\n",
       "      <td>838183.43</td>\n",
       "      <td>548 days 15:00:00</td>\n",
       "    </tr>\n",
       "    <tr>\n",
       "      <th>2019-01-01 03:00:00</th>\n",
       "      <td>ETHUSD</td>\n",
       "      <td>130.06</td>\n",
       "      <td>130.79</td>\n",
       "      <td>130.06</td>\n",
       "      <td>130.75</td>\n",
       "      <td>503732.63</td>\n",
       "      <td>548 days 16:00:00</td>\n",
       "    </tr>\n",
       "    <tr>\n",
       "      <th>2019-01-01 04:00:00</th>\n",
       "      <td>ETHUSD</td>\n",
       "      <td>130.75</td>\n",
       "      <td>133.96</td>\n",
       "      <td>130.74</td>\n",
       "      <td>131.96</td>\n",
       "      <td>2791135.37</td>\n",
       "      <td>548 days 17:00:00</td>\n",
       "    </tr>\n",
       "    <tr>\n",
       "      <th>...</th>\n",
       "      <td>...</td>\n",
       "      <td>...</td>\n",
       "      <td>...</td>\n",
       "      <td>...</td>\n",
       "      <td>...</td>\n",
       "      <td>...</td>\n",
       "      <td>...</td>\n",
       "    </tr>\n",
       "    <tr>\n",
       "      <th>2019-02-28 19:00:00</th>\n",
       "      <td>ETHUSD</td>\n",
       "      <td>136.00</td>\n",
       "      <td>137.50</td>\n",
       "      <td>134.17</td>\n",
       "      <td>135.57</td>\n",
       "      <td>1208793.69</td>\n",
       "      <td>607 days 08:00:00</td>\n",
       "    </tr>\n",
       "    <tr>\n",
       "      <th>2019-02-28 20:00:00</th>\n",
       "      <td>ETHUSD</td>\n",
       "      <td>135.57</td>\n",
       "      <td>135.60</td>\n",
       "      <td>134.37</td>\n",
       "      <td>134.99</td>\n",
       "      <td>1023140.26</td>\n",
       "      <td>607 days 09:00:00</td>\n",
       "    </tr>\n",
       "    <tr>\n",
       "      <th>2019-02-28 21:00:00</th>\n",
       "      <td>ETHUSD</td>\n",
       "      <td>134.99</td>\n",
       "      <td>135.37</td>\n",
       "      <td>134.86</td>\n",
       "      <td>135.13</td>\n",
       "      <td>330511.15</td>\n",
       "      <td>607 days 10:00:00</td>\n",
       "    </tr>\n",
       "    <tr>\n",
       "      <th>2019-02-28 22:00:00</th>\n",
       "      <td>ETHUSD</td>\n",
       "      <td>135.13</td>\n",
       "      <td>135.13</td>\n",
       "      <td>134.25</td>\n",
       "      <td>134.68</td>\n",
       "      <td>331870.37</td>\n",
       "      <td>607 days 11:00:00</td>\n",
       "    </tr>\n",
       "    <tr>\n",
       "      <th>2019-02-28 23:00:00</th>\n",
       "      <td>ETHUSD</td>\n",
       "      <td>134.68</td>\n",
       "      <td>135.53</td>\n",
       "      <td>134.40</td>\n",
       "      <td>134.48</td>\n",
       "      <td>350372.86</td>\n",
       "      <td>607 days 12:00:00</td>\n",
       "    </tr>\n",
       "  </tbody>\n",
       "</table>\n",
       "<p>1416 rows × 7 columns</p>\n",
       "</div>"
      ],
      "text/plain": [
       "                     Symbol    Open    High     Low   Close      Volume  \\\n",
       "Date                                                                      \n",
       "2019-01-01 00:00:00  ETHUSD  130.53  131.91  130.48  131.62  1067136.21   \n",
       "2019-01-01 01:00:00  ETHUSD  131.62  131.62  130.77  130.79   434917.99   \n",
       "2019-01-01 02:00:00  ETHUSD  130.79  130.88  129.55  130.06   838183.43   \n",
       "2019-01-01 03:00:00  ETHUSD  130.06  130.79  130.06  130.75   503732.63   \n",
       "2019-01-01 04:00:00  ETHUSD  130.75  133.96  130.74  131.96  2791135.37   \n",
       "...                     ...     ...     ...     ...     ...         ...   \n",
       "2019-02-28 19:00:00  ETHUSD  136.00  137.50  134.17  135.57  1208793.69   \n",
       "2019-02-28 20:00:00  ETHUSD  135.57  135.60  134.37  134.99  1023140.26   \n",
       "2019-02-28 21:00:00  ETHUSD  134.99  135.37  134.86  135.13   330511.15   \n",
       "2019-02-28 22:00:00  ETHUSD  135.13  135.13  134.25  134.68   331870.37   \n",
       "2019-02-28 23:00:00  ETHUSD  134.68  135.53  134.40  134.48   350372.86   \n",
       "\n",
       "                           time_delta  \n",
       "Date                                   \n",
       "2019-01-01 00:00:00 548 days 13:00:00  \n",
       "2019-01-01 01:00:00 548 days 14:00:00  \n",
       "2019-01-01 02:00:00 548 days 15:00:00  \n",
       "2019-01-01 03:00:00 548 days 16:00:00  \n",
       "2019-01-01 04:00:00 548 days 17:00:00  \n",
       "...                               ...  \n",
       "2019-02-28 19:00:00 607 days 08:00:00  \n",
       "2019-02-28 20:00:00 607 days 09:00:00  \n",
       "2019-02-28 21:00:00 607 days 10:00:00  \n",
       "2019-02-28 22:00:00 607 days 11:00:00  \n",
       "2019-02-28 23:00:00 607 days 12:00:00  \n",
       "\n",
       "[1416 rows x 7 columns]"
      ]
     },
     "execution_count": 42,
     "metadata": {},
     "output_type": "execute_result"
    }
   ],
   "source": [
    "## Advantage of working with a dataframe index with DatetimeIndex\n",
    "df3.head()\n",
    "## now we can slice our data very easly\n",
    "## let's get all the rows from 2019-01 to 2019-02 using the index date.\n",
    "df3['2019-01': '2019-02']"
   ]
  },
  {
   "cell_type": "code",
   "execution_count": 43,
   "id": "305cf242",
   "metadata": {},
   "outputs": [
    {
     "data": {
      "text/plain": [
       "2018-11-24     2\n",
       "2019-09-25     3\n",
       "2020-10-21     5\n",
       "2021-10-27     7\n",
       "2021-10-28    11\n",
       "dtype: int64"
      ]
     },
     "execution_count": 43,
     "metadata": {},
     "output_type": "execute_result"
    }
   ],
   "source": [
    "# Another way of indexing a dataframe with DatetimeIndex is when you create the dataframe.\n",
    "index = pd.DatetimeIndex(['2018-11-24', '2019-9-25', '2020-10-21', '2021-10-27', '2021-10-28'])\n",
    "data = pd.Series([2,3,5,7,11], index= index)\n",
    "data"
   ]
  },
  {
   "cell_type": "code",
   "execution_count": 44,
   "id": "1058a3d6",
   "metadata": {},
   "outputs": [
    {
     "data": {
      "text/html": [
       "<div>\n",
       "<style scoped>\n",
       "    .dataframe tbody tr th:only-of-type {\n",
       "        vertical-align: middle;\n",
       "    }\n",
       "\n",
       "    .dataframe tbody tr th {\n",
       "        vertical-align: top;\n",
       "    }\n",
       "\n",
       "    .dataframe thead th {\n",
       "        text-align: right;\n",
       "    }\n",
       "</style>\n",
       "<table border=\"1\" class=\"dataframe\">\n",
       "  <thead>\n",
       "    <tr style=\"text-align: right;\">\n",
       "      <th></th>\n",
       "      <th>0</th>\n",
       "    </tr>\n",
       "  </thead>\n",
       "  <tbody>\n",
       "    <tr>\n",
       "      <th>2018-11-24</th>\n",
       "      <td>2</td>\n",
       "    </tr>\n",
       "    <tr>\n",
       "      <th>2019-09-25</th>\n",
       "      <td>3</td>\n",
       "    </tr>\n",
       "    <tr>\n",
       "      <th>2020-10-21</th>\n",
       "      <td>5</td>\n",
       "    </tr>\n",
       "    <tr>\n",
       "      <th>2021-10-27</th>\n",
       "      <td>7</td>\n",
       "    </tr>\n",
       "    <tr>\n",
       "      <th>2021-10-28</th>\n",
       "      <td>11</td>\n",
       "    </tr>\n",
       "  </tbody>\n",
       "</table>\n",
       "</div>"
      ],
      "text/plain": [
       "             0\n",
       "2018-11-24   2\n",
       "2019-09-25   3\n",
       "2020-10-21   5\n",
       "2021-10-27   7\n",
       "2021-10-28  11"
      ]
     },
     "execution_count": 44,
     "metadata": {},
     "output_type": "execute_result"
    }
   ],
   "source": [
    "pd.DataFrame(data) # We can convert the series data into a dataframe."
   ]
  },
  {
   "cell_type": "markdown",
   "id": "dbcc25e1",
   "metadata": {},
   "source": [
    "# Pandas To Period\n",
    "[Return to Table of Contents](#Table-of-Contents)\n",
    "\n",
    "Pandas allows us to change data to a period such as calendar year, calendar year quarter, calendar year month, fiscal year, fiscal year quarter and other like periods.  Using the to_period is really helpful to filter data on specific periods as needed.\n",
    "\n",
    "This section will utilize the previously loaded data under the object \"df\" which data uses on Ethereum.\n",
    "\n",
    "Documentation Reference\n",
    "- https://pandas.pydata.org/pandas-docs/stable/reference/api/pandas.DataFrame.to_period.html\n",
    "- https://pandas.pydata.org/docs/reference/api/pandas.PeriodIndex.html"
   ]
  },
  {
   "cell_type": "markdown",
   "id": "69bc649a",
   "metadata": {},
   "source": [
    "#### Load the Data"
   ]
  },
  {
   "cell_type": "code",
   "execution_count": 45,
   "id": "0a2944bf",
   "metadata": {},
   "outputs": [],
   "source": [
    "# Let's reload the Ethereum dataset\n",
    "## let's consider the following example\n",
    "data_url ='https://raw.githubusercontent.com/fgonzaleumbc/Data601_fall2022/main/Datasets/ETH-1.csv'\n",
    "df_ethereum = pd.read_csv(data_url)"
   ]
  },
  {
   "cell_type": "code",
   "execution_count": 46,
   "id": "530b45e0",
   "metadata": {},
   "outputs": [
    {
     "data": {
      "text/html": [
       "<div>\n",
       "<style scoped>\n",
       "    .dataframe tbody tr th:only-of-type {\n",
       "        vertical-align: middle;\n",
       "    }\n",
       "\n",
       "    .dataframe tbody tr th {\n",
       "        vertical-align: top;\n",
       "    }\n",
       "\n",
       "    .dataframe thead th {\n",
       "        text-align: right;\n",
       "    }\n",
       "</style>\n",
       "<table border=\"1\" class=\"dataframe\">\n",
       "  <thead>\n",
       "    <tr style=\"text-align: right;\">\n",
       "      <th></th>\n",
       "      <th>Date</th>\n",
       "      <th>Symbol</th>\n",
       "      <th>Open</th>\n",
       "      <th>High</th>\n",
       "      <th>Low</th>\n",
       "      <th>Close</th>\n",
       "      <th>Volume</th>\n",
       "    </tr>\n",
       "  </thead>\n",
       "  <tbody>\n",
       "    <tr>\n",
       "      <th>0</th>\n",
       "      <td>2020-03-13 08-PM</td>\n",
       "      <td>ETHUSD</td>\n",
       "      <td>129.94</td>\n",
       "      <td>131.82</td>\n",
       "      <td>126.87</td>\n",
       "      <td>128.71</td>\n",
       "      <td>1940673.93</td>\n",
       "    </tr>\n",
       "    <tr>\n",
       "      <th>1</th>\n",
       "      <td>2020-03-13 07-PM</td>\n",
       "      <td>ETHUSD</td>\n",
       "      <td>119.51</td>\n",
       "      <td>132.02</td>\n",
       "      <td>117.10</td>\n",
       "      <td>129.94</td>\n",
       "      <td>7579741.09</td>\n",
       "    </tr>\n",
       "    <tr>\n",
       "      <th>2</th>\n",
       "      <td>2020-03-13 06-PM</td>\n",
       "      <td>ETHUSD</td>\n",
       "      <td>124.47</td>\n",
       "      <td>124.85</td>\n",
       "      <td>115.50</td>\n",
       "      <td>119.51</td>\n",
       "      <td>4898735.81</td>\n",
       "    </tr>\n",
       "  </tbody>\n",
       "</table>\n",
       "</div>"
      ],
      "text/plain": [
       "               Date  Symbol    Open    High     Low   Close      Volume\n",
       "0  2020-03-13 08-PM  ETHUSD  129.94  131.82  126.87  128.71  1940673.93\n",
       "1  2020-03-13 07-PM  ETHUSD  119.51  132.02  117.10  129.94  7579741.09\n",
       "2  2020-03-13 06-PM  ETHUSD  124.47  124.85  115.50  119.51  4898735.81"
      ]
     },
     "execution_count": 46,
     "metadata": {},
     "output_type": "execute_result"
    }
   ],
   "source": [
    "df_ethereum.head(3)"
   ]
  },
  {
   "cell_type": "code",
   "execution_count": 47,
   "id": "13b3022d",
   "metadata": {},
   "outputs": [
    {
     "data": {
      "text/html": [
       "<div>\n",
       "<style scoped>\n",
       "    .dataframe tbody tr th:only-of-type {\n",
       "        vertical-align: middle;\n",
       "    }\n",
       "\n",
       "    .dataframe tbody tr th {\n",
       "        vertical-align: top;\n",
       "    }\n",
       "\n",
       "    .dataframe thead th {\n",
       "        text-align: right;\n",
       "    }\n",
       "</style>\n",
       "<table border=\"1\" class=\"dataframe\">\n",
       "  <thead>\n",
       "    <tr style=\"text-align: right;\">\n",
       "      <th></th>\n",
       "      <th>Date</th>\n",
       "      <th>Symbol</th>\n",
       "      <th>Open</th>\n",
       "      <th>High</th>\n",
       "      <th>Low</th>\n",
       "      <th>Close</th>\n",
       "      <th>Volume</th>\n",
       "    </tr>\n",
       "  </thead>\n",
       "  <tbody>\n",
       "    <tr>\n",
       "      <th>23671</th>\n",
       "      <td>2017-07-01 01-PM</td>\n",
       "      <td>ETHUSD</td>\n",
       "      <td>274.83</td>\n",
       "      <td>274.93</td>\n",
       "      <td>265.0</td>\n",
       "      <td>268.79</td>\n",
       "      <td>3010787.99</td>\n",
       "    </tr>\n",
       "    <tr>\n",
       "      <th>23672</th>\n",
       "      <td>2017-07-01 12-PM</td>\n",
       "      <td>ETHUSD</td>\n",
       "      <td>275.01</td>\n",
       "      <td>275.01</td>\n",
       "      <td>271.0</td>\n",
       "      <td>274.83</td>\n",
       "      <td>824362.87</td>\n",
       "    </tr>\n",
       "    <tr>\n",
       "      <th>23673</th>\n",
       "      <td>2017-07-01 11-AM</td>\n",
       "      <td>ETHUSD</td>\n",
       "      <td>279.98</td>\n",
       "      <td>279.99</td>\n",
       "      <td>272.1</td>\n",
       "      <td>275.01</td>\n",
       "      <td>679358.87</td>\n",
       "    </tr>\n",
       "  </tbody>\n",
       "</table>\n",
       "</div>"
      ],
      "text/plain": [
       "                   Date  Symbol    Open    High    Low   Close      Volume\n",
       "23671  2017-07-01 01-PM  ETHUSD  274.83  274.93  265.0  268.79  3010787.99\n",
       "23672  2017-07-01 12-PM  ETHUSD  275.01  275.01  271.0  274.83   824362.87\n",
       "23673  2017-07-01 11-AM  ETHUSD  279.98  279.99  272.1  275.01   679358.87"
      ]
     },
     "execution_count": 47,
     "metadata": {},
     "output_type": "execute_result"
    }
   ],
   "source": [
    "df_ethereum.tail(3)"
   ]
  },
  {
   "cell_type": "code",
   "execution_count": 48,
   "id": "6c617c62",
   "metadata": {},
   "outputs": [
    {
     "name": "stdout",
     "output_type": "stream",
     "text": [
      "2017-07-01 01-PM\n",
      "2020-03-13 12-PM\n"
     ]
    }
   ],
   "source": [
    "# Min and Max values in the date column.\n",
    "# Note that because this is a object the outputs may not be correct.\n",
    "print(df_ethereum['Date'].min())\n",
    "print(df_ethereum['Date'].max())\n",
    "# The actual Time minimum is '2017-07-01 11:00:00'"
   ]
  },
  {
   "cell_type": "code",
   "execution_count": 49,
   "id": "850abe1b",
   "metadata": {},
   "outputs": [
    {
     "data": {
      "text/plain": [
       "dtype('O')"
      ]
     },
     "execution_count": 49,
     "metadata": {},
     "output_type": "execute_result"
    }
   ],
   "source": [
    "# In order to work with to_period function we need to make sure that the date column is in datetime data type.\n",
    "df_ethereum['Date'].dtype \n",
    "# We can see that it is an object.\n",
    "# We need to convert from string to datetime."
   ]
  },
  {
   "cell_type": "code",
   "execution_count": 50,
   "id": "f7297bef",
   "metadata": {},
   "outputs": [
    {
     "name": "stdout",
     "output_type": "stream",
     "text": [
      "<class 'pandas.core.series.Series'>\n",
      "RangeIndex: 23674 entries, 0 to 23673\n",
      "Series name: Date\n",
      "Non-Null Count  Dtype \n",
      "--------------  ----- \n",
      "23674 non-null  object\n",
      "dtypes: object(1)\n",
      "memory usage: 185.1+ KB\n"
     ]
    }
   ],
   "source": [
    "# Another way to check is with the .info().\n",
    "df_ethereum['Date'].info() # .info() also provides more information."
   ]
  },
  {
   "cell_type": "code",
   "execution_count": 54,
   "id": "9b6e8e23",
   "metadata": {},
   "outputs": [],
   "source": [
    "# We previously discussed why converting the date column to a datetime fails.\n",
    "#df['Date'] = pd.to_datetime(df['Date']) \n",
    "# Trying to convert at this stage will give an error because the Date column string has non-recognizable dates.\n",
    "# The Date column has format of \"YYYY-MM-DD HH-XM\" and the part of HH-XM which is the hour and meridian is not in the right format.\n",
    "# We can extract the \"YYYY-MM-DD\" and the to_datetime function should work. \n",
    "# The other approaches discussed above focus on parsing dates while loading the data (i.e., using the read_csv function)."
   ]
  },
  {
   "cell_type": "code",
   "execution_count": 51,
   "id": "f104550a",
   "metadata": {},
   "outputs": [
    {
     "data": {
      "text/html": [
       "<div>\n",
       "<style scoped>\n",
       "    .dataframe tbody tr th:only-of-type {\n",
       "        vertical-align: middle;\n",
       "    }\n",
       "\n",
       "    .dataframe tbody tr th {\n",
       "        vertical-align: top;\n",
       "    }\n",
       "\n",
       "    .dataframe thead th {\n",
       "        text-align: right;\n",
       "    }\n",
       "</style>\n",
       "<table border=\"1\" class=\"dataframe\">\n",
       "  <thead>\n",
       "    <tr style=\"text-align: right;\">\n",
       "      <th></th>\n",
       "      <th>Date</th>\n",
       "      <th>Symbol</th>\n",
       "      <th>Open</th>\n",
       "      <th>High</th>\n",
       "      <th>Low</th>\n",
       "      <th>Close</th>\n",
       "      <th>Volume</th>\n",
       "    </tr>\n",
       "  </thead>\n",
       "  <tbody>\n",
       "    <tr>\n",
       "      <th>0</th>\n",
       "      <td>2020-03-13</td>\n",
       "      <td>ETHUSD</td>\n",
       "      <td>129.94</td>\n",
       "      <td>131.82</td>\n",
       "      <td>126.87</td>\n",
       "      <td>128.71</td>\n",
       "      <td>1940673.93</td>\n",
       "    </tr>\n",
       "    <tr>\n",
       "      <th>1</th>\n",
       "      <td>2020-03-13</td>\n",
       "      <td>ETHUSD</td>\n",
       "      <td>119.51</td>\n",
       "      <td>132.02</td>\n",
       "      <td>117.10</td>\n",
       "      <td>129.94</td>\n",
       "      <td>7579741.09</td>\n",
       "    </tr>\n",
       "    <tr>\n",
       "      <th>2</th>\n",
       "      <td>2020-03-13</td>\n",
       "      <td>ETHUSD</td>\n",
       "      <td>124.47</td>\n",
       "      <td>124.85</td>\n",
       "      <td>115.50</td>\n",
       "      <td>119.51</td>\n",
       "      <td>4898735.81</td>\n",
       "    </tr>\n",
       "  </tbody>\n",
       "</table>\n",
       "</div>"
      ],
      "text/plain": [
       "         Date  Symbol    Open    High     Low   Close      Volume\n",
       "0  2020-03-13  ETHUSD  129.94  131.82  126.87  128.71  1940673.93\n",
       "1  2020-03-13  ETHUSD  119.51  132.02  117.10  129.94  7579741.09\n",
       "2  2020-03-13  ETHUSD  124.47  124.85  115.50  119.51  4898735.81"
      ]
     },
     "execution_count": 51,
     "metadata": {},
     "output_type": "execute_result"
    }
   ],
   "source": [
    "# There are a few ways to do this. \n",
    "# Here is another approach that can be used and alternative to those discussed in the previous sections.\n",
    "df_ethereum['Date'] = df_ethereum['Date'].str[:10]\n",
    "df_ethereum.head(3)"
   ]
  },
  {
   "cell_type": "code",
   "execution_count": 52,
   "id": "1c64a081",
   "metadata": {},
   "outputs": [
    {
     "data": {
      "text/html": [
       "<div>\n",
       "<style scoped>\n",
       "    .dataframe tbody tr th:only-of-type {\n",
       "        vertical-align: middle;\n",
       "    }\n",
       "\n",
       "    .dataframe tbody tr th {\n",
       "        vertical-align: top;\n",
       "    }\n",
       "\n",
       "    .dataframe thead th {\n",
       "        text-align: right;\n",
       "    }\n",
       "</style>\n",
       "<table border=\"1\" class=\"dataframe\">\n",
       "  <thead>\n",
       "    <tr style=\"text-align: right;\">\n",
       "      <th></th>\n",
       "      <th>Date</th>\n",
       "      <th>Symbol</th>\n",
       "      <th>Open</th>\n",
       "      <th>High</th>\n",
       "      <th>Low</th>\n",
       "      <th>Close</th>\n",
       "      <th>Volume</th>\n",
       "    </tr>\n",
       "  </thead>\n",
       "  <tbody>\n",
       "    <tr>\n",
       "      <th>0</th>\n",
       "      <td>2020-03-13</td>\n",
       "      <td>ETHUSD</td>\n",
       "      <td>129.94</td>\n",
       "      <td>131.82</td>\n",
       "      <td>126.87</td>\n",
       "      <td>128.71</td>\n",
       "      <td>1940673.93</td>\n",
       "    </tr>\n",
       "    <tr>\n",
       "      <th>1</th>\n",
       "      <td>2020-03-13</td>\n",
       "      <td>ETHUSD</td>\n",
       "      <td>119.51</td>\n",
       "      <td>132.02</td>\n",
       "      <td>117.10</td>\n",
       "      <td>129.94</td>\n",
       "      <td>7579741.09</td>\n",
       "    </tr>\n",
       "    <tr>\n",
       "      <th>2</th>\n",
       "      <td>2020-03-13</td>\n",
       "      <td>ETHUSD</td>\n",
       "      <td>124.47</td>\n",
       "      <td>124.85</td>\n",
       "      <td>115.50</td>\n",
       "      <td>119.51</td>\n",
       "      <td>4898735.81</td>\n",
       "    </tr>\n",
       "  </tbody>\n",
       "</table>\n",
       "</div>"
      ],
      "text/plain": [
       "        Date  Symbol    Open    High     Low   Close      Volume\n",
       "0 2020-03-13  ETHUSD  129.94  131.82  126.87  128.71  1940673.93\n",
       "1 2020-03-13  ETHUSD  119.51  132.02  117.10  129.94  7579741.09\n",
       "2 2020-03-13  ETHUSD  124.47  124.85  115.50  119.51  4898735.81"
      ]
     },
     "execution_count": 52,
     "metadata": {},
     "output_type": "execute_result"
    }
   ],
   "source": [
    "df_ethereum['Date'] = pd.to_datetime(df_ethereum['Date']) \n",
    "df_ethereum.head(3) # After conversion the Date looks the same but let's check the dtype."
   ]
  },
  {
   "cell_type": "code",
   "execution_count": 53,
   "id": "7fce33d2",
   "metadata": {},
   "outputs": [
    {
     "name": "stdout",
     "output_type": "stream",
     "text": [
      "<class 'pandas.core.series.Series'>\n",
      "RangeIndex: 23674 entries, 0 to 23673\n",
      "Series name: Date\n",
      "Non-Null Count  Dtype         \n",
      "--------------  -----         \n",
      "23674 non-null  datetime64[ns]\n",
      "dtypes: datetime64[ns](1)\n",
      "memory usage: 185.1 KB\n"
     ]
    }
   ],
   "source": [
    "df_ethereum['Date'].info() # OBserve that the date column data is now a datetime dtype.\n",
    "# We can now proceed to use the to_period."
   ]
  },
  {
   "cell_type": "markdown",
   "id": "7bff21b7",
   "metadata": {},
   "source": [
    "#### Period Data"
   ]
  },
  {
   "cell_type": "code",
   "execution_count": 55,
   "id": "21fd69bc",
   "metadata": {},
   "outputs": [
    {
     "data": {
      "text/plain": [
       "0        2020\n",
       "1        2020\n",
       "2        2020\n",
       "3        2020\n",
       "4        2020\n",
       "         ... \n",
       "23669    2017\n",
       "23670    2017\n",
       "23671    2017\n",
       "23672    2017\n",
       "23673    2017\n",
       "Name: Date, Length: 23674, dtype: period[A-DEC]"
      ]
     },
     "execution_count": 55,
     "metadata": {},
     "output_type": "execute_result"
    }
   ],
   "source": [
    "df_ethereum['Date'].dt.to_period(freq = 'Y') # Y is calendar year."
   ]
  },
  {
   "cell_type": "code",
   "execution_count": 56,
   "id": "d9b60376",
   "metadata": {},
   "outputs": [
    {
     "data": {
      "text/plain": [
       "0        2020Q1\n",
       "1        2020Q1\n",
       "2        2020Q1\n",
       "3        2020Q1\n",
       "4        2020Q1\n",
       "          ...  \n",
       "23669    2017Q3\n",
       "23670    2017Q3\n",
       "23671    2017Q3\n",
       "23672    2017Q3\n",
       "23673    2017Q3\n",
       "Name: Date, Length: 23674, dtype: period[Q-DEC]"
      ]
     },
     "execution_count": 56,
     "metadata": {},
     "output_type": "execute_result"
    }
   ],
   "source": [
    "df_ethereum['Date'].dt.to_period(freq = 'Q') # Q is calendar year quarter."
   ]
  },
  {
   "cell_type": "code",
   "execution_count": 57,
   "id": "08a8dad7",
   "metadata": {},
   "outputs": [
    {
     "data": {
      "text/plain": [
       "0        2020-03\n",
       "1        2020-03\n",
       "2        2020-03\n",
       "3        2020-03\n",
       "4        2020-03\n",
       "          ...   \n",
       "23669    2017-07\n",
       "23670    2017-07\n",
       "23671    2017-07\n",
       "23672    2017-07\n",
       "23673    2017-07\n",
       "Name: Date, Length: 23674, dtype: period[M]"
      ]
     },
     "execution_count": 57,
     "metadata": {},
     "output_type": "execute_result"
    }
   ],
   "source": [
    "df_ethereum['Date'].dt.to_period(freq = 'M') # M is calendar year month."
   ]
  },
  {
   "cell_type": "code",
   "execution_count": 58,
   "id": "a21c40aa",
   "metadata": {},
   "outputs": [
    {
     "data": {
      "text/plain": [
       "0        2020\n",
       "1        2020\n",
       "2        2020\n",
       "3        2020\n",
       "4        2020\n",
       "         ... \n",
       "23669    2017\n",
       "23670    2017\n",
       "23671    2017\n",
       "23672    2017\n",
       "23673    2017\n",
       "Name: Date, Length: 23674, dtype: period[A-SEP]"
      ]
     },
     "execution_count": 58,
     "metadata": {},
     "output_type": "execute_result"
    }
   ],
   "source": [
    "df_ethereum['Date'].dt.to_period(freq = 'A-SEP') # A-SEP is fiscal year with september the starting month of the fiscal year."
   ]
  },
  {
   "cell_type": "code",
   "execution_count": 59,
   "id": "973db1fd",
   "metadata": {},
   "outputs": [
    {
     "data": {
      "text/plain": [
       "0        2020Q2\n",
       "1        2020Q2\n",
       "2        2020Q2\n",
       "3        2020Q2\n",
       "4        2020Q2\n",
       "          ...  \n",
       "23669    2017Q4\n",
       "23670    2017Q4\n",
       "23671    2017Q4\n",
       "23672    2017Q4\n",
       "23673    2017Q4\n",
       "Name: Date, Length: 23674, dtype: period[Q-SEP]"
      ]
     },
     "execution_count": 59,
     "metadata": {},
     "output_type": "execute_result"
    }
   ],
   "source": [
    "df_ethereum['Date'].dt.to_period(freq = 'Q-SEP') # Q-SEP is fiscal year quarter with september the starting month of the fiscal year."
   ]
  },
  {
   "cell_type": "code",
   "execution_count": 60,
   "id": "e304b54e",
   "metadata": {},
   "outputs": [
    {
     "data": {
      "text/html": [
       "<div>\n",
       "<style scoped>\n",
       "    .dataframe tbody tr th:only-of-type {\n",
       "        vertical-align: middle;\n",
       "    }\n",
       "\n",
       "    .dataframe tbody tr th {\n",
       "        vertical-align: top;\n",
       "    }\n",
       "\n",
       "    .dataframe thead th {\n",
       "        text-align: right;\n",
       "    }\n",
       "</style>\n",
       "<table border=\"1\" class=\"dataframe\">\n",
       "  <thead>\n",
       "    <tr style=\"text-align: right;\">\n",
       "      <th></th>\n",
       "      <th>Date</th>\n",
       "      <th>Symbol</th>\n",
       "      <th>Open</th>\n",
       "      <th>High</th>\n",
       "      <th>Low</th>\n",
       "      <th>Close</th>\n",
       "      <th>Volume</th>\n",
       "      <th>CY-Quarter</th>\n",
       "    </tr>\n",
       "  </thead>\n",
       "  <tbody>\n",
       "    <tr>\n",
       "      <th>0</th>\n",
       "      <td>2020-03-13</td>\n",
       "      <td>ETHUSD</td>\n",
       "      <td>129.94</td>\n",
       "      <td>131.82</td>\n",
       "      <td>126.87</td>\n",
       "      <td>128.71</td>\n",
       "      <td>1940673.93</td>\n",
       "      <td>2020Q1</td>\n",
       "    </tr>\n",
       "    <tr>\n",
       "      <th>1</th>\n",
       "      <td>2020-03-13</td>\n",
       "      <td>ETHUSD</td>\n",
       "      <td>119.51</td>\n",
       "      <td>132.02</td>\n",
       "      <td>117.10</td>\n",
       "      <td>129.94</td>\n",
       "      <td>7579741.09</td>\n",
       "      <td>2020Q1</td>\n",
       "    </tr>\n",
       "    <tr>\n",
       "      <th>2</th>\n",
       "      <td>2020-03-13</td>\n",
       "      <td>ETHUSD</td>\n",
       "      <td>124.47</td>\n",
       "      <td>124.85</td>\n",
       "      <td>115.50</td>\n",
       "      <td>119.51</td>\n",
       "      <td>4898735.81</td>\n",
       "      <td>2020Q1</td>\n",
       "    </tr>\n",
       "  </tbody>\n",
       "</table>\n",
       "</div>"
      ],
      "text/plain": [
       "        Date  Symbol    Open    High     Low   Close      Volume CY-Quarter\n",
       "0 2020-03-13  ETHUSD  129.94  131.82  126.87  128.71  1940673.93     2020Q1\n",
       "1 2020-03-13  ETHUSD  119.51  132.02  117.10  129.94  7579741.09     2020Q1\n",
       "2 2020-03-13  ETHUSD  124.47  124.85  115.50  119.51  4898735.81     2020Q1"
      ]
     },
     "execution_count": 60,
     "metadata": {},
     "output_type": "execute_result"
    }
   ],
   "source": [
    "# We can define a new column.\n",
    "df_ethereum['CY-Quarter'] = df_ethereum['Date'].dt.to_period(freq = 'Q')\n",
    "df_ethereum.head(3)"
   ]
  },
  {
   "cell_type": "code",
   "execution_count": 61,
   "id": "5396d1eb",
   "metadata": {},
   "outputs": [
    {
     "data": {
      "text/html": [
       "<div>\n",
       "<style scoped>\n",
       "    .dataframe tbody tr th:only-of-type {\n",
       "        vertical-align: middle;\n",
       "    }\n",
       "\n",
       "    .dataframe tbody tr th {\n",
       "        vertical-align: top;\n",
       "    }\n",
       "\n",
       "    .dataframe thead th {\n",
       "        text-align: right;\n",
       "    }\n",
       "</style>\n",
       "<table border=\"1\" class=\"dataframe\">\n",
       "  <thead>\n",
       "    <tr style=\"text-align: right;\">\n",
       "      <th></th>\n",
       "      <th>Date</th>\n",
       "      <th>Symbol</th>\n",
       "      <th>Open</th>\n",
       "      <th>High</th>\n",
       "      <th>Low</th>\n",
       "      <th>Close</th>\n",
       "      <th>Volume</th>\n",
       "      <th>CY-Quarter</th>\n",
       "    </tr>\n",
       "  </thead>\n",
       "  <tbody>\n",
       "    <tr>\n",
       "      <th>23671</th>\n",
       "      <td>2017-07-01</td>\n",
       "      <td>ETHUSD</td>\n",
       "      <td>274.83</td>\n",
       "      <td>274.93</td>\n",
       "      <td>265.0</td>\n",
       "      <td>268.79</td>\n",
       "      <td>3010787.99</td>\n",
       "      <td>2017Q3</td>\n",
       "    </tr>\n",
       "    <tr>\n",
       "      <th>23672</th>\n",
       "      <td>2017-07-01</td>\n",
       "      <td>ETHUSD</td>\n",
       "      <td>275.01</td>\n",
       "      <td>275.01</td>\n",
       "      <td>271.0</td>\n",
       "      <td>274.83</td>\n",
       "      <td>824362.87</td>\n",
       "      <td>2017Q3</td>\n",
       "    </tr>\n",
       "    <tr>\n",
       "      <th>23673</th>\n",
       "      <td>2017-07-01</td>\n",
       "      <td>ETHUSD</td>\n",
       "      <td>279.98</td>\n",
       "      <td>279.99</td>\n",
       "      <td>272.1</td>\n",
       "      <td>275.01</td>\n",
       "      <td>679358.87</td>\n",
       "      <td>2017Q3</td>\n",
       "    </tr>\n",
       "  </tbody>\n",
       "</table>\n",
       "</div>"
      ],
      "text/plain": [
       "            Date  Symbol    Open    High    Low   Close      Volume CY-Quarter\n",
       "23671 2017-07-01  ETHUSD  274.83  274.93  265.0  268.79  3010787.99     2017Q3\n",
       "23672 2017-07-01  ETHUSD  275.01  275.01  271.0  274.83   824362.87     2017Q3\n",
       "23673 2017-07-01  ETHUSD  279.98  279.99  272.1  275.01   679358.87     2017Q3"
      ]
     },
     "execution_count": 61,
     "metadata": {},
     "output_type": "execute_result"
    }
   ],
   "source": [
    "df_ethereum.tail(3)"
   ]
  },
  {
   "cell_type": "code",
   "execution_count": 62,
   "id": "b8e4a6dd",
   "metadata": {},
   "outputs": [
    {
     "data": {
      "text/plain": [
       "PeriodIndex(['2020Q1', '2020Q1', '2020Q1', '2020Q1', '2020Q1', '2020Q1',\n",
       "             '2020Q1', '2020Q1', '2020Q1', '2020Q1',\n",
       "             ...\n",
       "             '2017Q3', '2017Q3', '2017Q3', '2017Q3', '2017Q3', '2017Q3',\n",
       "             '2017Q3', '2017Q3', '2017Q3', '2017Q3'],\n",
       "            dtype='period[Q-DEC]', name='Date', length=23674)"
      ]
     },
     "execution_count": 62,
     "metadata": {},
     "output_type": "execute_result"
    }
   ],
   "source": [
    "# Similarly we can use the PeriodIndex function. However, note that this returns an index vs. a Series in the to_period\n",
    "pd.PeriodIndex(df_ethereum['Date'], freq = 'Q') # Q is calendar year quarter"
   ]
  },
  {
   "cell_type": "code",
   "execution_count": 63,
   "id": "f9b17c15",
   "metadata": {},
   "outputs": [
    {
     "data": {
      "text/plain": [
       "PeriodIndex(['2020Q2', '2020Q2', '2020Q2', '2020Q2', '2020Q2', '2020Q2',\n",
       "             '2020Q2', '2020Q2', '2020Q2', '2020Q2',\n",
       "             ...\n",
       "             '2017Q4', '2017Q4', '2017Q4', '2017Q4', '2017Q4', '2017Q4',\n",
       "             '2017Q4', '2017Q4', '2017Q4', '2017Q4'],\n",
       "            dtype='period[Q-SEP]', name='Date', length=23674)"
      ]
     },
     "execution_count": 63,
     "metadata": {},
     "output_type": "execute_result"
    }
   ],
   "source": [
    "# Similarly we can use the PeriodIndex function. However, not that this returns an index vs. a Series in the to_period\n",
    "pd.PeriodIndex(df_ethereum['Date'], freq = 'Q-SEP') # Q-SEP is fiscal year quarter."
   ]
  },
  {
   "cell_type": "code",
   "execution_count": 64,
   "id": "7fff38d1",
   "metadata": {},
   "outputs": [
    {
     "data": {
      "text/html": [
       "<div>\n",
       "<style scoped>\n",
       "    .dataframe tbody tr th:only-of-type {\n",
       "        vertical-align: middle;\n",
       "    }\n",
       "\n",
       "    .dataframe tbody tr th {\n",
       "        vertical-align: top;\n",
       "    }\n",
       "\n",
       "    .dataframe thead th {\n",
       "        text-align: right;\n",
       "    }\n",
       "</style>\n",
       "<table border=\"1\" class=\"dataframe\">\n",
       "  <thead>\n",
       "    <tr style=\"text-align: right;\">\n",
       "      <th></th>\n",
       "      <th>Date</th>\n",
       "      <th>Symbol</th>\n",
       "      <th>Open</th>\n",
       "      <th>High</th>\n",
       "      <th>Low</th>\n",
       "      <th>Close</th>\n",
       "      <th>Volume</th>\n",
       "      <th>CY-Quarter</th>\n",
       "      <th>FY-Quarter</th>\n",
       "    </tr>\n",
       "  </thead>\n",
       "  <tbody>\n",
       "    <tr>\n",
       "      <th>0</th>\n",
       "      <td>2020-03-13</td>\n",
       "      <td>ETHUSD</td>\n",
       "      <td>129.94</td>\n",
       "      <td>131.82</td>\n",
       "      <td>126.87</td>\n",
       "      <td>128.71</td>\n",
       "      <td>1940673.93</td>\n",
       "      <td>2020Q1</td>\n",
       "      <td>2020Q2</td>\n",
       "    </tr>\n",
       "    <tr>\n",
       "      <th>1</th>\n",
       "      <td>2020-03-13</td>\n",
       "      <td>ETHUSD</td>\n",
       "      <td>119.51</td>\n",
       "      <td>132.02</td>\n",
       "      <td>117.10</td>\n",
       "      <td>129.94</td>\n",
       "      <td>7579741.09</td>\n",
       "      <td>2020Q1</td>\n",
       "      <td>2020Q2</td>\n",
       "    </tr>\n",
       "    <tr>\n",
       "      <th>2</th>\n",
       "      <td>2020-03-13</td>\n",
       "      <td>ETHUSD</td>\n",
       "      <td>124.47</td>\n",
       "      <td>124.85</td>\n",
       "      <td>115.50</td>\n",
       "      <td>119.51</td>\n",
       "      <td>4898735.81</td>\n",
       "      <td>2020Q1</td>\n",
       "      <td>2020Q2</td>\n",
       "    </tr>\n",
       "  </tbody>\n",
       "</table>\n",
       "</div>"
      ],
      "text/plain": [
       "        Date  Symbol    Open    High     Low   Close      Volume CY-Quarter  \\\n",
       "0 2020-03-13  ETHUSD  129.94  131.82  126.87  128.71  1940673.93     2020Q1   \n",
       "1 2020-03-13  ETHUSD  119.51  132.02  117.10  129.94  7579741.09     2020Q1   \n",
       "2 2020-03-13  ETHUSD  124.47  124.85  115.50  119.51  4898735.81     2020Q1   \n",
       "\n",
       "  FY-Quarter  \n",
       "0     2020Q2  \n",
       "1     2020Q2  \n",
       "2     2020Q2  "
      ]
     },
     "execution_count": 64,
     "metadata": {},
     "output_type": "execute_result"
    }
   ],
   "source": [
    "# We can define a new column with the PeriodIndex output.\n",
    "df_ethereum['FY-Quarter'] = pd.PeriodIndex(df_ethereum['Date'], freq = 'Q-SEP')\n",
    "df_ethereum.head(3)"
   ]
  },
  {
   "cell_type": "code",
   "execution_count": 65,
   "id": "5605a68d",
   "metadata": {},
   "outputs": [
    {
     "data": {
      "text/html": [
       "<div>\n",
       "<style scoped>\n",
       "    .dataframe tbody tr th:only-of-type {\n",
       "        vertical-align: middle;\n",
       "    }\n",
       "\n",
       "    .dataframe tbody tr th {\n",
       "        vertical-align: top;\n",
       "    }\n",
       "\n",
       "    .dataframe thead th {\n",
       "        text-align: right;\n",
       "    }\n",
       "</style>\n",
       "<table border=\"1\" class=\"dataframe\">\n",
       "  <thead>\n",
       "    <tr style=\"text-align: right;\">\n",
       "      <th></th>\n",
       "      <th>Date</th>\n",
       "      <th>Symbol</th>\n",
       "      <th>Open</th>\n",
       "      <th>High</th>\n",
       "      <th>Low</th>\n",
       "      <th>Close</th>\n",
       "      <th>Volume</th>\n",
       "      <th>CY-Quarter</th>\n",
       "      <th>FY-Quarter</th>\n",
       "    </tr>\n",
       "  </thead>\n",
       "  <tbody>\n",
       "    <tr>\n",
       "      <th>23671</th>\n",
       "      <td>2017-07-01</td>\n",
       "      <td>ETHUSD</td>\n",
       "      <td>274.83</td>\n",
       "      <td>274.93</td>\n",
       "      <td>265.0</td>\n",
       "      <td>268.79</td>\n",
       "      <td>3010787.99</td>\n",
       "      <td>2017Q3</td>\n",
       "      <td>2017Q4</td>\n",
       "    </tr>\n",
       "    <tr>\n",
       "      <th>23672</th>\n",
       "      <td>2017-07-01</td>\n",
       "      <td>ETHUSD</td>\n",
       "      <td>275.01</td>\n",
       "      <td>275.01</td>\n",
       "      <td>271.0</td>\n",
       "      <td>274.83</td>\n",
       "      <td>824362.87</td>\n",
       "      <td>2017Q3</td>\n",
       "      <td>2017Q4</td>\n",
       "    </tr>\n",
       "    <tr>\n",
       "      <th>23673</th>\n",
       "      <td>2017-07-01</td>\n",
       "      <td>ETHUSD</td>\n",
       "      <td>279.98</td>\n",
       "      <td>279.99</td>\n",
       "      <td>272.1</td>\n",
       "      <td>275.01</td>\n",
       "      <td>679358.87</td>\n",
       "      <td>2017Q3</td>\n",
       "      <td>2017Q4</td>\n",
       "    </tr>\n",
       "  </tbody>\n",
       "</table>\n",
       "</div>"
      ],
      "text/plain": [
       "            Date  Symbol    Open    High    Low   Close      Volume  \\\n",
       "23671 2017-07-01  ETHUSD  274.83  274.93  265.0  268.79  3010787.99   \n",
       "23672 2017-07-01  ETHUSD  275.01  275.01  271.0  274.83   824362.87   \n",
       "23673 2017-07-01  ETHUSD  279.98  279.99  272.1  275.01   679358.87   \n",
       "\n",
       "      CY-Quarter FY-Quarter  \n",
       "23671     2017Q3     2017Q4  \n",
       "23672     2017Q3     2017Q4  \n",
       "23673     2017Q3     2017Q4  "
      ]
     },
     "execution_count": 65,
     "metadata": {},
     "output_type": "execute_result"
    }
   ],
   "source": [
    "df_ethereum.tail(3)"
   ]
  },
  {
   "cell_type": "markdown",
   "id": "84f8c338",
   "metadata": {},
   "source": [
    "# Timestamp and Periods to Datetime\n",
    "[Return to Table of Contents](#Table-of-Contents)"
   ]
  },
  {
   "cell_type": "markdown",
   "id": "ef7fd5f3",
   "metadata": {},
   "source": [
    "#### Pandas Timestamp to Datetime"
   ]
  },
  {
   "cell_type": "code",
   "execution_count": 66,
   "id": "399952e7",
   "metadata": {},
   "outputs": [
    {
     "name": "stdout",
     "output_type": "stream",
     "text": [
      "<class 'pandas._libs.tslibs.timestamps.Timestamp'>\n"
     ]
    },
    {
     "data": {
      "text/plain": [
       "datetime.datetime(2017, 1, 1, 0, 0)"
      ]
     },
     "execution_count": 66,
     "metadata": {},
     "output_type": "execute_result"
    }
   ],
   "source": [
    "pandas_timestamp = pd.Timestamp('2017-01-01') # String date to Pandas Timestamp\n",
    "print(type(pandas_timestamp)) # Checking that the Pandas timestamp is a timestamp Dtype.\n",
    "datetime.strptime(datetime.strftime(pandas_timestamp.to_pydatetime(), \n",
    "                                    '%Y-%m-%d'), '%Y-%m-%d') # This is now a datetime dtype."
   ]
  },
  {
   "cell_type": "markdown",
   "id": "61461a49",
   "metadata": {},
   "source": [
    "#### Year Integer to Datetime"
   ]
  },
  {
   "cell_type": "code",
   "execution_count": 67,
   "id": "1975086a",
   "metadata": {},
   "outputs": [
    {
     "name": "stdout",
     "output_type": "stream",
     "text": [
      "<class 'int'>\n"
     ]
    },
    {
     "data": {
      "text/plain": [
       "datetime.datetime(2004, 1, 1, 0, 0)"
      ]
     },
     "execution_count": 67,
     "metadata": {},
     "output_type": "execute_result"
    }
   ],
   "source": [
    "calendar_year_start_int = 2004 # Year as an Integer\n",
    "print(type(calendar_year_start_int)) # Checking that this is an integer dtype.\n",
    "datetime.strptime(str(calendar_year_start_int), '%Y') # Converts an integer to datetime."
   ]
  },
  {
   "cell_type": "code",
   "execution_count": 68,
   "id": "040008a2",
   "metadata": {},
   "outputs": [
    {
     "name": "stdout",
     "output_type": "stream",
     "text": [
      "<class 'int'>\n"
     ]
    },
    {
     "data": {
      "text/plain": [
       "datetime.datetime(2004, 12, 31, 23, 59, 59)"
      ]
     },
     "execution_count": 68,
     "metadata": {},
     "output_type": "execute_result"
    }
   ],
   "source": [
    "# If we wanted the last day of that year we can use the relativedelta.\n",
    "calendar_year_end_int = 2004 # Year as an Integer\n",
    "print(type(calendar_year_end_int)) # Checking that this is an integer dtype.\n",
    "# Converts an Year integer to datetime and adjust to the end of the CY.\n",
    "datetime.strptime(str(calendar_year_end_int), \n",
    "                  '%Y') + relativedelta(years= 1) - relativedelta(seconds = 1) "
   ]
  },
  {
   "cell_type": "markdown",
   "id": "f9395651",
   "metadata": {},
   "source": [
    "#### Calendar Year-Quarter String to Datetime"
   ]
  },
  {
   "cell_type": "code",
   "execution_count": 69,
   "id": "28eaf62d",
   "metadata": {},
   "outputs": [
    {
     "name": "stdout",
     "output_type": "stream",
     "text": [
      "<class 'str'>\n"
     ]
    },
    {
     "data": {
      "text/plain": [
       "datetime.datetime(2004, 1, 1, 0, 0)"
      ]
     },
     "execution_count": 69,
     "metadata": {},
     "output_type": "execute_result"
    }
   ],
   "source": [
    "cy_quarter_start_str = '2004Q1' # Calendar Year Quarter as a string.\n",
    "print(type(cy_quarter_start_str)) # Checks that this is a string.\n",
    "# Converts the CY-Quarter to datetime.\n",
    "datetime.strptime(datetime.strftime(pd.to_datetime(cy_quarter_start_str), '%Y-%m-%d'), '%Y-%m-%d')"
   ]
  },
  {
   "cell_type": "code",
   "execution_count": null,
   "id": "fedef000",
   "metadata": {},
   "outputs": [],
   "source": [
    "# If we wanted the last day of that quarter we can use relativedelta.\n",
    "cy_quarter_end_str = '2004Q1' # Calndar year-Quarter as a string.\n",
    "print(type(cy_quarter_end_str)) # Checks that this is a string.\n",
    "# Converts Quarter string to datetime and adjust to date at end of the quarter.\n",
    "datetime.strptime(datetime.strftime(pd.to_datetime(cy_quarter_end_str), '%Y-%m-%d'),\n",
    "                  '%Y-%m-%d') + relativedelta(months= 3) - relativedelta(seconds= 1) "
   ]
  },
  {
   "cell_type": "markdown",
   "id": "132c4368",
   "metadata": {},
   "source": [
    "#### Calendar Year-Month String to Datetime"
   ]
  },
  {
   "cell_type": "code",
   "execution_count": 70,
   "id": "e3f105b3",
   "metadata": {},
   "outputs": [
    {
     "name": "stdout",
     "output_type": "stream",
     "text": [
      "<class 'str'>\n"
     ]
    },
    {
     "data": {
      "text/plain": [
       "datetime.datetime(2004, 10, 1, 0, 0)"
      ]
     },
     "execution_count": 70,
     "metadata": {},
     "output_type": "execute_result"
    }
   ],
   "source": [
    "cy_month_start_str = '2004-10' # Calendar Year-Month as a string.\n",
    "print(type(cy_month_start_str)) # Checks that this is a string.\n",
    "# Converts st Calendar Year-Month to datetime\n",
    "datetime.strptime(datetime.strftime(pd.to_datetime(cy_month_start_str), '%Y-%m-%d'), '%Y-%m-%d') "
   ]
  },
  {
   "cell_type": "code",
   "execution_count": 71,
   "id": "c07ab2cc",
   "metadata": {},
   "outputs": [
    {
     "name": "stdout",
     "output_type": "stream",
     "text": [
      "<class 'str'>\n"
     ]
    },
    {
     "data": {
      "text/plain": [
       "datetime.datetime(2004, 10, 31, 23, 59, 59)"
      ]
     },
     "execution_count": 71,
     "metadata": {},
     "output_type": "execute_result"
    }
   ],
   "source": [
    "# If we wanted the last day of that CY-Month we can use relativedelta\n",
    "cy_month_end_str = '2004-10' # Calendar year-month as a string.\n",
    "print(type(cy_month_end_str)) # Checks that this is a string.\n",
    "# Conversts Month string to datetime and adjust to date at end of month.\n",
    "datetime.strptime(datetime.strftime(pd.to_datetime(cy_month_end_str), \n",
    "                                    '%Y-%m-%d'), '%Y-%m-%d') + relativedelta(months= 1) - relativedelta(seconds = 1) "
   ]
  },
  {
   "cell_type": "markdown",
   "id": "cfd9a4b3",
   "metadata": {},
   "source": [
    "#### Fiscal Year to Datetime\n",
    "Fiscal Year starts in October 1 and Ends in September 30. For example FY2004 starts in September 30, 2003 and ends in October 1, 2004."
   ]
  },
  {
   "cell_type": "code",
   "execution_count": 72,
   "id": "563504a7",
   "metadata": {},
   "outputs": [
    {
     "name": "stdout",
     "output_type": "stream",
     "text": [
      "<class 'int'>\n"
     ]
    },
    {
     "data": {
      "text/plain": [
       "datetime.datetime(2003, 10, 1, 0, 0)"
      ]
     },
     "execution_count": 72,
     "metadata": {},
     "output_type": "execute_result"
    }
   ],
   "source": [
    "fiscal_year_int_start = 2004 # Fiscal year as an integer.\n",
    "print(type(fiscal_year_int_start)) # Checking that this is an integer dtype.\n",
    "# Using the relativedelta, calculate the date of the start of the fiscal year.\n",
    "datetime.strptime(str(fiscal_year_int_start), '%Y') - relativedelta(months= 3)"
   ]
  },
  {
   "cell_type": "code",
   "execution_count": 73,
   "id": "2c1025fb",
   "metadata": {},
   "outputs": [
    {
     "name": "stdout",
     "output_type": "stream",
     "text": [
      "<class 'int'>\n"
     ]
    },
    {
     "data": {
      "text/plain": [
       "datetime.datetime(2004, 9, 30, 23, 59, 59)"
      ]
     },
     "execution_count": 73,
     "metadata": {},
     "output_type": "execute_result"
    }
   ],
   "source": [
    "fiscal_year_int_end = 2004 # Fiscal year as an integer.\n",
    "print(type(fiscal_year_int_end)) # Checking that this is an integer dtype.\n",
    "# Using the relativedelta, calculate the date of the end of the fiscal year.\n",
    "datetime.strptime(str(fiscal_year_int_end), '%Y') + relativedelta(months= 9) - relativedelta(seconds = 1)"
   ]
  },
  {
   "cell_type": "markdown",
   "id": "318507b5",
   "metadata": {},
   "source": [
    "#### Fiscal Year-Quarter to Datetime"
   ]
  },
  {
   "cell_type": "code",
   "execution_count": 74,
   "id": "e179c980",
   "metadata": {},
   "outputs": [
    {
     "name": "stdout",
     "output_type": "stream",
     "text": [
      "<class 'str'>\n"
     ]
    },
    {
     "data": {
      "text/plain": [
       "datetime.datetime(2004, 1, 1, 0, 0)"
      ]
     },
     "execution_count": 74,
     "metadata": {},
     "output_type": "execute_result"
    }
   ],
   "source": [
    "fy_quarter_start_str = '2004Q2' # Fiscal Year-Quarter as a string.\n",
    "print(type(fy_quarter_start_str)) # Checks that this is a string.\n",
    "# Using the relativedelta, calculates the date at the start of the fiscal year-quarter.\n",
    "datetime.strptime(datetime.strftime(pd.to_datetime(fy_quarter_start_str), '%Y-%m-%d'),\n",
    "                  '%Y-%m-%d') - relativedelta(months= 3)"
   ]
  },
  {
   "cell_type": "code",
   "execution_count": 75,
   "id": "0dc5f0b8",
   "metadata": {},
   "outputs": [
    {
     "name": "stdout",
     "output_type": "stream",
     "text": [
      "<class 'str'>\n"
     ]
    },
    {
     "data": {
      "text/plain": [
       "datetime.datetime(2004, 3, 31, 23, 59, 59)"
      ]
     },
     "execution_count": 75,
     "metadata": {},
     "output_type": "execute_result"
    }
   ],
   "source": [
    "fy_quarter_end_str = '2004Q2' # Fiscal Year-Quarter as a string\n",
    "print(type(fy_quarter_end_str)) # Checks that this is a string.\n",
    "# Using the relativedelta, calculates the date at the end of the fiscal year-quarter.\n",
    "datetime.strptime(datetime.strftime(pd.to_datetime(fy_quarter_end_str), '%Y-%m-%d'),\n",
    "                  '%Y-%m-%d') - relativedelta(seconds = 1)"
   ]
  },
  {
   "cell_type": "markdown",
   "id": "878bfe52",
   "metadata": {},
   "source": [
    "# Pandas Dates and Period Filtering\n",
    "[Return to Table of Contents](#Table-of-Contents)\n",
    "\n",
    "In many cases we need to work with perids and we want to filter data based on specific datetime periods such as calendar year, calendar year month, calendar year quarter and so on. We can use previously discussed methods for filtering data. They key is to make sure the comparison data are both in the same format. For example, when filtering a date column we need to make sure that both the column data and the input data we want to filter from are in the same format (e.g., datetime or datetime period)."
   ]
  },
  {
   "cell_type": "code",
   "execution_count": 76,
   "id": "143059e5",
   "metadata": {},
   "outputs": [
    {
     "data": {
      "text/html": [
       "<div>\n",
       "<style scoped>\n",
       "    .dataframe tbody tr th:only-of-type {\n",
       "        vertical-align: middle;\n",
       "    }\n",
       "\n",
       "    .dataframe tbody tr th {\n",
       "        vertical-align: top;\n",
       "    }\n",
       "\n",
       "    .dataframe thead th {\n",
       "        text-align: right;\n",
       "    }\n",
       "</style>\n",
       "<table border=\"1\" class=\"dataframe\">\n",
       "  <thead>\n",
       "    <tr style=\"text-align: right;\">\n",
       "      <th></th>\n",
       "      <th>Date</th>\n",
       "      <th>Symbol</th>\n",
       "      <th>Open</th>\n",
       "      <th>High</th>\n",
       "      <th>Low</th>\n",
       "      <th>Close</th>\n",
       "      <th>Volume</th>\n",
       "      <th>CY-Quarter</th>\n",
       "      <th>FY-Quarter</th>\n",
       "    </tr>\n",
       "  </thead>\n",
       "  <tbody>\n",
       "    <tr>\n",
       "      <th>0</th>\n",
       "      <td>2020-03-13</td>\n",
       "      <td>ETHUSD</td>\n",
       "      <td>129.94</td>\n",
       "      <td>131.82</td>\n",
       "      <td>126.87</td>\n",
       "      <td>128.71</td>\n",
       "      <td>1940673.93</td>\n",
       "      <td>2020Q1</td>\n",
       "      <td>2020Q2</td>\n",
       "    </tr>\n",
       "    <tr>\n",
       "      <th>1</th>\n",
       "      <td>2020-03-13</td>\n",
       "      <td>ETHUSD</td>\n",
       "      <td>119.51</td>\n",
       "      <td>132.02</td>\n",
       "      <td>117.10</td>\n",
       "      <td>129.94</td>\n",
       "      <td>7579741.09</td>\n",
       "      <td>2020Q1</td>\n",
       "      <td>2020Q2</td>\n",
       "    </tr>\n",
       "    <tr>\n",
       "      <th>2</th>\n",
       "      <td>2020-03-13</td>\n",
       "      <td>ETHUSD</td>\n",
       "      <td>124.47</td>\n",
       "      <td>124.85</td>\n",
       "      <td>115.50</td>\n",
       "      <td>119.51</td>\n",
       "      <td>4898735.81</td>\n",
       "      <td>2020Q1</td>\n",
       "      <td>2020Q2</td>\n",
       "    </tr>\n",
       "    <tr>\n",
       "      <th>3</th>\n",
       "      <td>2020-03-13</td>\n",
       "      <td>ETHUSD</td>\n",
       "      <td>124.08</td>\n",
       "      <td>127.42</td>\n",
       "      <td>121.63</td>\n",
       "      <td>124.47</td>\n",
       "      <td>2753450.92</td>\n",
       "      <td>2020Q1</td>\n",
       "      <td>2020Q2</td>\n",
       "    </tr>\n",
       "    <tr>\n",
       "      <th>4</th>\n",
       "      <td>2020-03-13</td>\n",
       "      <td>ETHUSD</td>\n",
       "      <td>124.85</td>\n",
       "      <td>129.51</td>\n",
       "      <td>120.17</td>\n",
       "      <td>124.08</td>\n",
       "      <td>4461424.71</td>\n",
       "      <td>2020Q1</td>\n",
       "      <td>2020Q2</td>\n",
       "    </tr>\n",
       "    <tr>\n",
       "      <th>...</th>\n",
       "      <td>...</td>\n",
       "      <td>...</td>\n",
       "      <td>...</td>\n",
       "      <td>...</td>\n",
       "      <td>...</td>\n",
       "      <td>...</td>\n",
       "      <td>...</td>\n",
       "      <td>...</td>\n",
       "      <td>...</td>\n",
       "    </tr>\n",
       "    <tr>\n",
       "      <th>3952</th>\n",
       "      <td>2019-10-01</td>\n",
       "      <td>ETHUSD</td>\n",
       "      <td>182.76</td>\n",
       "      <td>184.05</td>\n",
       "      <td>182.52</td>\n",
       "      <td>183.02</td>\n",
       "      <td>504689.64</td>\n",
       "      <td>2019Q4</td>\n",
       "      <td>2020Q1</td>\n",
       "    </tr>\n",
       "    <tr>\n",
       "      <th>3953</th>\n",
       "      <td>2019-10-01</td>\n",
       "      <td>ETHUSD</td>\n",
       "      <td>184.06</td>\n",
       "      <td>185.89</td>\n",
       "      <td>182.21</td>\n",
       "      <td>182.76</td>\n",
       "      <td>2569460.17</td>\n",
       "      <td>2019Q4</td>\n",
       "      <td>2020Q1</td>\n",
       "    </tr>\n",
       "    <tr>\n",
       "      <th>3954</th>\n",
       "      <td>2019-10-01</td>\n",
       "      <td>ETHUSD</td>\n",
       "      <td>181.82</td>\n",
       "      <td>184.75</td>\n",
       "      <td>181.82</td>\n",
       "      <td>184.06</td>\n",
       "      <td>1385165.07</td>\n",
       "      <td>2019Q4</td>\n",
       "      <td>2020Q1</td>\n",
       "    </tr>\n",
       "    <tr>\n",
       "      <th>3955</th>\n",
       "      <td>2019-10-01</td>\n",
       "      <td>ETHUSD</td>\n",
       "      <td>179.14</td>\n",
       "      <td>182.70</td>\n",
       "      <td>178.40</td>\n",
       "      <td>181.82</td>\n",
       "      <td>1351833.57</td>\n",
       "      <td>2019Q4</td>\n",
       "      <td>2020Q1</td>\n",
       "    </tr>\n",
       "    <tr>\n",
       "      <th>3956</th>\n",
       "      <td>2019-10-01</td>\n",
       "      <td>ETHUSD</td>\n",
       "      <td>181.17</td>\n",
       "      <td>181.80</td>\n",
       "      <td>178.72</td>\n",
       "      <td>179.14</td>\n",
       "      <td>710407.18</td>\n",
       "      <td>2019Q4</td>\n",
       "      <td>2020Q1</td>\n",
       "    </tr>\n",
       "  </tbody>\n",
       "</table>\n",
       "<p>3957 rows × 9 columns</p>\n",
       "</div>"
      ],
      "text/plain": [
       "           Date  Symbol    Open    High     Low   Close      Volume  \\\n",
       "0    2020-03-13  ETHUSD  129.94  131.82  126.87  128.71  1940673.93   \n",
       "1    2020-03-13  ETHUSD  119.51  132.02  117.10  129.94  7579741.09   \n",
       "2    2020-03-13  ETHUSD  124.47  124.85  115.50  119.51  4898735.81   \n",
       "3    2020-03-13  ETHUSD  124.08  127.42  121.63  124.47  2753450.92   \n",
       "4    2020-03-13  ETHUSD  124.85  129.51  120.17  124.08  4461424.71   \n",
       "...         ...     ...     ...     ...     ...     ...         ...   \n",
       "3952 2019-10-01  ETHUSD  182.76  184.05  182.52  183.02   504689.64   \n",
       "3953 2019-10-01  ETHUSD  184.06  185.89  182.21  182.76  2569460.17   \n",
       "3954 2019-10-01  ETHUSD  181.82  184.75  181.82  184.06  1385165.07   \n",
       "3955 2019-10-01  ETHUSD  179.14  182.70  178.40  181.82  1351833.57   \n",
       "3956 2019-10-01  ETHUSD  181.17  181.80  178.72  179.14   710407.18   \n",
       "\n",
       "     CY-Quarter FY-Quarter  \n",
       "0        2020Q1     2020Q2  \n",
       "1        2020Q1     2020Q2  \n",
       "2        2020Q1     2020Q2  \n",
       "3        2020Q1     2020Q2  \n",
       "4        2020Q1     2020Q2  \n",
       "...         ...        ...  \n",
       "3952     2019Q4     2020Q1  \n",
       "3953     2019Q4     2020Q1  \n",
       "3954     2019Q4     2020Q1  \n",
       "3955     2019Q4     2020Q1  \n",
       "3956     2019Q4     2020Q1  \n",
       "\n",
       "[3957 rows x 9 columns]"
      ]
     },
     "execution_count": 76,
     "metadata": {},
     "output_type": "execute_result"
    }
   ],
   "source": [
    "# We have a date but we want to filter on the CY-Month.\n",
    "# Note that we first convert the df dates to_period('M').\n",
    "# Then the string input date convert to datetime and then to_period. \n",
    "df_ethereum.loc[(df_ethereum['Date'].dt.to_period('Q') >= pd.to_datetime('2019-12-01').to_period('Q'))]"
   ]
  },
  {
   "cell_type": "code",
   "execution_count": 77,
   "id": "4fe9e038",
   "metadata": {},
   "outputs": [
    {
     "data": {
      "text/html": [
       "<div>\n",
       "<style scoped>\n",
       "    .dataframe tbody tr th:only-of-type {\n",
       "        vertical-align: middle;\n",
       "    }\n",
       "\n",
       "    .dataframe tbody tr th {\n",
       "        vertical-align: top;\n",
       "    }\n",
       "\n",
       "    .dataframe thead th {\n",
       "        text-align: right;\n",
       "    }\n",
       "</style>\n",
       "<table border=\"1\" class=\"dataframe\">\n",
       "  <thead>\n",
       "    <tr style=\"text-align: right;\">\n",
       "      <th></th>\n",
       "      <th>Date</th>\n",
       "      <th>Symbol</th>\n",
       "      <th>Open</th>\n",
       "      <th>High</th>\n",
       "      <th>Low</th>\n",
       "      <th>Close</th>\n",
       "      <th>Volume</th>\n",
       "      <th>CY-Quarter</th>\n",
       "      <th>FY-Quarter</th>\n",
       "    </tr>\n",
       "  </thead>\n",
       "  <tbody>\n",
       "    <tr>\n",
       "      <th>19269</th>\n",
       "      <td>2017-12-31</td>\n",
       "      <td>ETHUSD</td>\n",
       "      <td>743.01</td>\n",
       "      <td>743.01</td>\n",
       "      <td>740.33</td>\n",
       "      <td>741.27</td>\n",
       "      <td>2671091.87</td>\n",
       "      <td>2017Q4</td>\n",
       "      <td>2018Q1</td>\n",
       "    </tr>\n",
       "    <tr>\n",
       "      <th>19270</th>\n",
       "      <td>2017-12-31</td>\n",
       "      <td>ETHUSD</td>\n",
       "      <td>746.08</td>\n",
       "      <td>747.79</td>\n",
       "      <td>743.00</td>\n",
       "      <td>743.01</td>\n",
       "      <td>2514400.23</td>\n",
       "      <td>2017Q4</td>\n",
       "      <td>2018Q1</td>\n",
       "    </tr>\n",
       "    <tr>\n",
       "      <th>19271</th>\n",
       "      <td>2017-12-31</td>\n",
       "      <td>ETHUSD</td>\n",
       "      <td>750.11</td>\n",
       "      <td>751.00</td>\n",
       "      <td>743.96</td>\n",
       "      <td>746.08</td>\n",
       "      <td>2908764.02</td>\n",
       "      <td>2017Q4</td>\n",
       "      <td>2018Q1</td>\n",
       "    </tr>\n",
       "    <tr>\n",
       "      <th>19272</th>\n",
       "      <td>2017-12-31</td>\n",
       "      <td>ETHUSD</td>\n",
       "      <td>743.42</td>\n",
       "      <td>750.11</td>\n",
       "      <td>743.41</td>\n",
       "      <td>750.11</td>\n",
       "      <td>3330359.12</td>\n",
       "      <td>2017Q4</td>\n",
       "      <td>2018Q1</td>\n",
       "    </tr>\n",
       "    <tr>\n",
       "      <th>19273</th>\n",
       "      <td>2017-12-31</td>\n",
       "      <td>ETHUSD</td>\n",
       "      <td>739.89</td>\n",
       "      <td>743.75</td>\n",
       "      <td>739.88</td>\n",
       "      <td>743.42</td>\n",
       "      <td>2363924.30</td>\n",
       "      <td>2017Q4</td>\n",
       "      <td>2018Q1</td>\n",
       "    </tr>\n",
       "    <tr>\n",
       "      <th>...</th>\n",
       "      <td>...</td>\n",
       "      <td>...</td>\n",
       "      <td>...</td>\n",
       "      <td>...</td>\n",
       "      <td>...</td>\n",
       "      <td>...</td>\n",
       "      <td>...</td>\n",
       "      <td>...</td>\n",
       "      <td>...</td>\n",
       "    </tr>\n",
       "    <tr>\n",
       "      <th>23669</th>\n",
       "      <td>2017-07-01</td>\n",
       "      <td>ETHUSD</td>\n",
       "      <td>265.74</td>\n",
       "      <td>272.74</td>\n",
       "      <td>265.00</td>\n",
       "      <td>272.57</td>\n",
       "      <td>1500282.55</td>\n",
       "      <td>2017Q3</td>\n",
       "      <td>2017Q4</td>\n",
       "    </tr>\n",
       "    <tr>\n",
       "      <th>23670</th>\n",
       "      <td>2017-07-01</td>\n",
       "      <td>ETHUSD</td>\n",
       "      <td>268.79</td>\n",
       "      <td>269.90</td>\n",
       "      <td>265.00</td>\n",
       "      <td>265.74</td>\n",
       "      <td>1702536.85</td>\n",
       "      <td>2017Q3</td>\n",
       "      <td>2017Q4</td>\n",
       "    </tr>\n",
       "    <tr>\n",
       "      <th>23671</th>\n",
       "      <td>2017-07-01</td>\n",
       "      <td>ETHUSD</td>\n",
       "      <td>274.83</td>\n",
       "      <td>274.93</td>\n",
       "      <td>265.00</td>\n",
       "      <td>268.79</td>\n",
       "      <td>3010787.99</td>\n",
       "      <td>2017Q3</td>\n",
       "      <td>2017Q4</td>\n",
       "    </tr>\n",
       "    <tr>\n",
       "      <th>23672</th>\n",
       "      <td>2017-07-01</td>\n",
       "      <td>ETHUSD</td>\n",
       "      <td>275.01</td>\n",
       "      <td>275.01</td>\n",
       "      <td>271.00</td>\n",
       "      <td>274.83</td>\n",
       "      <td>824362.87</td>\n",
       "      <td>2017Q3</td>\n",
       "      <td>2017Q4</td>\n",
       "    </tr>\n",
       "    <tr>\n",
       "      <th>23673</th>\n",
       "      <td>2017-07-01</td>\n",
       "      <td>ETHUSD</td>\n",
       "      <td>279.98</td>\n",
       "      <td>279.99</td>\n",
       "      <td>272.10</td>\n",
       "      <td>275.01</td>\n",
       "      <td>679358.87</td>\n",
       "      <td>2017Q3</td>\n",
       "      <td>2017Q4</td>\n",
       "    </tr>\n",
       "  </tbody>\n",
       "</table>\n",
       "<p>4405 rows × 9 columns</p>\n",
       "</div>"
      ],
      "text/plain": [
       "            Date  Symbol    Open    High     Low   Close      Volume  \\\n",
       "19269 2017-12-31  ETHUSD  743.01  743.01  740.33  741.27  2671091.87   \n",
       "19270 2017-12-31  ETHUSD  746.08  747.79  743.00  743.01  2514400.23   \n",
       "19271 2017-12-31  ETHUSD  750.11  751.00  743.96  746.08  2908764.02   \n",
       "19272 2017-12-31  ETHUSD  743.42  750.11  743.41  750.11  3330359.12   \n",
       "19273 2017-12-31  ETHUSD  739.89  743.75  739.88  743.42  2363924.30   \n",
       "...          ...     ...     ...     ...     ...     ...         ...   \n",
       "23669 2017-07-01  ETHUSD  265.74  272.74  265.00  272.57  1500282.55   \n",
       "23670 2017-07-01  ETHUSD  268.79  269.90  265.00  265.74  1702536.85   \n",
       "23671 2017-07-01  ETHUSD  274.83  274.93  265.00  268.79  3010787.99   \n",
       "23672 2017-07-01  ETHUSD  275.01  275.01  271.00  274.83   824362.87   \n",
       "23673 2017-07-01  ETHUSD  279.98  279.99  272.10  275.01   679358.87   \n",
       "\n",
       "      CY-Quarter FY-Quarter  \n",
       "19269     2017Q4     2018Q1  \n",
       "19270     2017Q4     2018Q1  \n",
       "19271     2017Q4     2018Q1  \n",
       "19272     2017Q4     2018Q1  \n",
       "19273     2017Q4     2018Q1  \n",
       "...          ...        ...  \n",
       "23669     2017Q3     2017Q4  \n",
       "23670     2017Q3     2017Q4  \n",
       "23671     2017Q3     2017Q4  \n",
       "23672     2017Q3     2017Q4  \n",
       "23673     2017Q3     2017Q4  \n",
       "\n",
       "[4405 rows x 9 columns]"
      ]
     },
     "execution_count": 77,
     "metadata": {},
     "output_type": "execute_result"
    }
   ],
   "source": [
    "# We have a date but we want to filter on the CY-Quarter and we want to filter by quarter.\n",
    "# Same as above we first convert the df dates to the period.\n",
    "# The string input converts to datetime and then to period.\n",
    "df_ethereum.loc[(df_ethereum['Date'].dt.to_period('M') < pd.to_datetime('2018-01').to_period('M'))]"
   ]
  },
  {
   "cell_type": "markdown",
   "id": "4548f189",
   "metadata": {},
   "source": [
    "# Rolling Windows\n",
    "[Return to Table of Contents](#Table-of-Contents)\n",
    "\n",
    "Rolling windows calculatios are used to shift the date of a column of data. For example, a moving average (e.g., per year) can be calculated and the year moving average is shifted to overimpose the mean over the actual data points. This allows for visualization of the realtime against its rolling mean.\n",
    "\n",
    "- Rolling, https://pandas.pydata.org/pandas-docs/stable/reference/api/pandas.DataFrame.rolling.html\n",
    "- Moving avarege, https://towardsdatascience.com/dont-miss-out-on-rolling-window-functions-in-pandas-850b817131db"
   ]
  },
  {
   "cell_type": "code",
   "execution_count": 78,
   "id": "bff1e67c",
   "metadata": {},
   "outputs": [
    {
     "data": {
      "text/html": [
       "<div>\n",
       "<style scoped>\n",
       "    .dataframe tbody tr th:only-of-type {\n",
       "        vertical-align: middle;\n",
       "    }\n",
       "\n",
       "    .dataframe tbody tr th {\n",
       "        vertical-align: top;\n",
       "    }\n",
       "\n",
       "    .dataframe thead th {\n",
       "        text-align: right;\n",
       "    }\n",
       "</style>\n",
       "<table border=\"1\" class=\"dataframe\">\n",
       "  <thead>\n",
       "    <tr style=\"text-align: right;\">\n",
       "      <th></th>\n",
       "      <th>Date</th>\n",
       "      <th>Symbol</th>\n",
       "      <th>Open</th>\n",
       "      <th>High</th>\n",
       "      <th>Low</th>\n",
       "      <th>Close</th>\n",
       "      <th>Volume</th>\n",
       "    </tr>\n",
       "  </thead>\n",
       "  <tbody>\n",
       "    <tr>\n",
       "      <th>0</th>\n",
       "      <td>2020-03-13 08-PM</td>\n",
       "      <td>ETHUSD</td>\n",
       "      <td>129.94</td>\n",
       "      <td>131.82</td>\n",
       "      <td>126.87</td>\n",
       "      <td>128.71</td>\n",
       "      <td>1940673.93</td>\n",
       "    </tr>\n",
       "    <tr>\n",
       "      <th>1</th>\n",
       "      <td>2020-03-13 07-PM</td>\n",
       "      <td>ETHUSD</td>\n",
       "      <td>119.51</td>\n",
       "      <td>132.02</td>\n",
       "      <td>117.10</td>\n",
       "      <td>129.94</td>\n",
       "      <td>7579741.09</td>\n",
       "    </tr>\n",
       "    <tr>\n",
       "      <th>2</th>\n",
       "      <td>2020-03-13 06-PM</td>\n",
       "      <td>ETHUSD</td>\n",
       "      <td>124.47</td>\n",
       "      <td>124.85</td>\n",
       "      <td>115.50</td>\n",
       "      <td>119.51</td>\n",
       "      <td>4898735.81</td>\n",
       "    </tr>\n",
       "    <tr>\n",
       "      <th>3</th>\n",
       "      <td>2020-03-13 05-PM</td>\n",
       "      <td>ETHUSD</td>\n",
       "      <td>124.08</td>\n",
       "      <td>127.42</td>\n",
       "      <td>121.63</td>\n",
       "      <td>124.47</td>\n",
       "      <td>2753450.92</td>\n",
       "    </tr>\n",
       "    <tr>\n",
       "      <th>4</th>\n",
       "      <td>2020-03-13 04-PM</td>\n",
       "      <td>ETHUSD</td>\n",
       "      <td>124.85</td>\n",
       "      <td>129.51</td>\n",
       "      <td>120.17</td>\n",
       "      <td>124.08</td>\n",
       "      <td>4461424.71</td>\n",
       "    </tr>\n",
       "  </tbody>\n",
       "</table>\n",
       "</div>"
      ],
      "text/plain": [
       "               Date  Symbol    Open    High     Low   Close      Volume\n",
       "0  2020-03-13 08-PM  ETHUSD  129.94  131.82  126.87  128.71  1940673.93\n",
       "1  2020-03-13 07-PM  ETHUSD  119.51  132.02  117.10  129.94  7579741.09\n",
       "2  2020-03-13 06-PM  ETHUSD  124.47  124.85  115.50  119.51  4898735.81\n",
       "3  2020-03-13 05-PM  ETHUSD  124.08  127.42  121.63  124.47  2753450.92\n",
       "4  2020-03-13 04-PM  ETHUSD  124.85  129.51  120.17  124.08  4461424.71"
      ]
     },
     "execution_count": 78,
     "metadata": {},
     "output_type": "execute_result"
    }
   ],
   "source": [
    "# Recall df1\n",
    "df1.head()"
   ]
  },
  {
   "cell_type": "code",
   "execution_count": 79,
   "id": "755d82d3",
   "metadata": {},
   "outputs": [
    {
     "data": {
      "text/plain": [
       "0        129.94\n",
       "1        119.51\n",
       "2        124.47\n",
       "3        124.08\n",
       "4        124.85\n",
       "          ...  \n",
       "23669    265.74\n",
       "23670    268.79\n",
       "23671    274.83\n",
       "23672    275.01\n",
       "23673    279.98\n",
       "Name: Open, Length: 23674, dtype: float64"
      ]
     },
     "execution_count": 79,
     "metadata": {},
     "output_type": "execute_result"
    }
   ],
   "source": [
    "# First make sure that you sort your index \n",
    "# Let's create a variable price_open for the opening values of the Ethereum\n",
    "price_open = df1.Open\n",
    "price_open\n",
    "# Be careful, 'open' is also a function within python and should not be used as variable."
   ]
  },
  {
   "cell_type": "code",
   "execution_count": 80,
   "id": "865a8f9c",
   "metadata": {},
   "outputs": [
    {
     "data": {
      "image/png": "[encoded data removed]",
      "text/plain": [
       "<Figure size 1500x700 with 1 Axes>"
      ]
     },
     "metadata": {},
     "output_type": "display_data"
    }
   ],
   "source": [
    "rolling = price_open.rolling(365, center =True)\n",
    "\n",
    "data = pd.DataFrame({'input': price_open,\n",
    "                     'one-year rolling_mean': rolling.mean(),\n",
    "                     'one-year rolling_std': rolling.std()})\n",
    "ax = data.plot(style=['-', '--', ':'], figsize = (15,7))\n",
    "ax.lines[0].set_alpha(0.3)"
   ]
  },
  {
   "cell_type": "code",
   "execution_count": 81,
   "id": "ff173cca",
   "metadata": {},
   "outputs": [
    {
     "data": {
      "text/plain": [
       "0        129.94\n",
       "1        119.51\n",
       "2        124.47\n",
       "3        124.08\n",
       "4        124.85\n",
       "          ...  \n",
       "23669    265.74\n",
       "23670    268.79\n",
       "23671    274.83\n",
       "23672    275.01\n",
       "23673    279.98\n",
       "Name: Open, Length: 23674, dtype: float64"
      ]
     },
     "execution_count": 81,
     "metadata": {},
     "output_type": "execute_result"
    }
   ],
   "source": [
    "price_open"
   ]
  },
  {
   "cell_type": "code",
   "execution_count": 82,
   "id": "fbc72ba7",
   "metadata": {},
   "outputs": [
    {
     "data": {
      "text/plain": [
       "0        119.51\n",
       "1        124.47\n",
       "2        124.08\n",
       "3        124.85\n",
       "4        128.39\n",
       "          ...  \n",
       "23669    268.79\n",
       "23670    274.83\n",
       "23671    275.01\n",
       "23672    279.98\n",
       "23673       NaN\n",
       "Name: Open, Length: 23674, dtype: float64"
      ]
     },
     "execution_count": 82,
     "metadata": {},
     "output_type": "execute_result"
    }
   ],
   "source": [
    "# Shift the price at open by -1 day. Note the index 0 above gets removed and last date creates a NaN.\n",
    "one_day_shift = price_open.shift(-1)\n",
    "one_day_shift"
   ]
  },
  {
   "cell_type": "code",
   "execution_count": 84,
   "id": "aa115950",
   "metadata": {},
   "outputs": [
    {
     "data": {
      "text/plain": [
       "0           NaN\n",
       "1           NaN\n",
       "2        129.94\n",
       "3        119.51\n",
       "4        124.47\n",
       "          ...  \n",
       "23669    268.00\n",
       "23670    272.57\n",
       "23671    265.74\n",
       "23672    268.79\n",
       "23673    274.83\n",
       "Name: Open, Length: 23674, dtype: float64"
      ]
     },
     "execution_count": 84,
     "metadata": {},
     "output_type": "execute_result"
    }
   ],
   "source": [
    "two_days_shift = price_open.shift(2)\n",
    "two_days_shift"
   ]
  },
  {
   "cell_type": "markdown",
   "id": "f4d0b9f2",
   "metadata": {},
   "source": [
    "# NOTEBOOK END"
   ]
  },
  {
   "cell_type": "code",
   "execution_count": null,
   "id": "f1f206c1",
   "metadata": {},
   "outputs": [],
   "source": []
  },
  {
   "cell_type": "code",
   "execution_count": null,
   "id": "5c47c3ea",
   "metadata": {},
   "outputs": [],
   "source": []
  },
  {
   "cell_type": "code",
   "execution_count": null,
   "id": "216f363c",
   "metadata": {},
   "outputs": [],
   "source": []
  }
 ],
 "metadata": {
  "kernelspec": {
   "display_name": "Python 3 (ipykernel)",
   "language": "python",
   "name": "python3"
  },
  "language_info": {
   "codemirror_mode": {
    "name": "ipython",
    "version": 3
   },
   "file_extension": ".py",
   "mimetype": "text/x-python",
   "name": "python",
   "nbconvert_exporter": "python",
   "pygments_lexer": "ipython3",
   "version": "3.9.13"
  }
 },
 "nbformat": 4,
 "nbformat_minor": 5
}
