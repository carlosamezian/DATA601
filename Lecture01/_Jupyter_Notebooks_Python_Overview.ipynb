{
 "cells": [
  {
   "cell_type": "markdown",
   "id": "43a50f95",
   "metadata": {},
   "source": [
    "<div class=\"alert alert-block alert-info\">\n",
    "Author:<br>Felix Gonzalez, P.E. <br> Adjunct Instructor, <br> Division of Professional Studies <br> Computer Science and Electrical Engineering <br> University of Maryland Baltimore County <br> fgonzale@umbc.edu\n",
    "</div>"
   ]
  },
  {
   "attachments": {},
   "cell_type": "markdown",
   "id": "67cf5ec0",
   "metadata": {},
   "source": [
    "This notebook provides an overview of some basic concepts in Python Programming Language. Python is an object-oriented, high-level programming language with integrated dynamic semantics primarily for web and app development. Is relatively simple, it's easy to learn since it requires a unique syntax that focuses on readability. Supports the use of modules and packages, programs can be designed in a modular style and code can be reused across a variety of projects. Other characteristics include:\n",
    "\n",
    "- Open source/free: no need to worry about licences,\n",
    "- Cross-platform: Can be used with Windows/Macs OS/Linux – even Android and iOS!\n",
    "- Full-featured Packages: If there’s something you want to do, there’s probably a package out there to help you\n",
    "- Code Portability: With most code, it can run unaltered on a plethora of computers so long as all the required modules are supplied\n",
    "- Large and Growing Community: People from all fields from Data Science to Physics are coding in Python, creating a diverse and rich community of experts all over."
   ]
  },
  {
   "cell_type": "markdown",
   "id": "c7a0dfbd",
   "metadata": {},
   "source": [
    "# Table of Contents\n",
    "[Tips and Shortcuts](#Tips-and-Shortcuts)\n",
    "\n",
    "[Objects](#Objects)\n",
    "\n",
    "[Variables](#Variables)\n",
    "\n",
    "[Variable Naming Conventions and Naming Styles](#Variable-Naming-Conventions-and-Naming-Styles)\n",
    "\n",
    "[Operations with Variables](#Operations-with-Variables)\n",
    "\n",
    "[CASTING: Specifying Data Type](#CASTING:-Specifying-Data-Type)\n",
    "\n",
    "[Working With Strings](#Working-With-Strings)\n",
    "\n",
    "[Command-line String Input() Function](#Command-line-String-Input()-Function)\n",
    "\n",
    "[Python Operators](#Python-Operators)\n",
    "\n",
    "[Conditions, Logical Operators, If statements and Loops](#Conditions,-Logical-Operators,-If-statements-and-Loops)\n",
    "\n",
    "[Modules, Packages, and Libraries](#Modules,-Packages,-and-Libraries)"
   ]
  },
  {
   "cell_type": "markdown",
   "id": "058cc812",
   "metadata": {},
   "source": [
    "# Tips and Shortcuts\n",
    "[Return to Table of Contents](#Table-of-Contents)"
   ]
  },
  {
   "cell_type": "markdown",
   "id": "9b0de722",
   "metadata": {},
   "source": [
    "#### Important Tips:\n",
    "- There are various types of Cells in Jupyter Notebooks:\n",
    "- \"Markdown\" cell you can put text with explanations\n",
    "- \"Code\" cell allows you to write Python code and run it.\n",
    "- To edit a Jupyter Notebook cell double click.\n",
    "- Be careful with quotes especially when handling Text and Strings. In Python dobule quotes \"\" or single quotes ' ' can be used in various functions. However, they need to be alternated when they are used within a function that requires them. More on this later. \n",
    "- <b>DOCUMENTATION</b> of a module/library/packages will be extremely important. During the class we will be using various Python libraries and accessing the documentation to learn about the included functions and parameters.\n",
    "\n",
    "\n",
    "#### Shortcuts\n",
    "- Shift+enter: Runs a cell.\n",
    "- Shift+Tab: Access <b>documentation</b> of a function. \n",
    "\n",
    "####  Commenting\n",
    "Allows you to add a comment within a Code cell. The comment does not run code and is used for documentation purposes."
   ]
  },
  {
   "cell_type": "code",
   "execution_count": 1,
   "id": "f4f09a84",
   "metadata": {},
   "outputs": [],
   "source": [
    "# In a cell, when you put the \"#\" character, the rest is accepted as comment\n",
    "# This is a comment\n",
    "# This is another comment. "
   ]
  },
  {
   "cell_type": "code",
   "execution_count": 2,
   "id": "170541e3",
   "metadata": {},
   "outputs": [
    {
     "data": {
      "text/plain": [
       "'\\nThis text is in a comment\\nSo is this text\\nText text text text\\nComment comment comment\\n'"
      ]
     },
     "execution_count": 2,
     "metadata": {},
     "output_type": "execute_result"
    }
   ],
   "source": [
    "# If you are going to write a long comment, you don't have to put # in the beginning of each line\n",
    "# you can use the following option (called \"docstring\")\n",
    "# which is also very useful if you are going to copy and paste\n",
    "# some long text\n",
    "'''\n",
    "This text is in a comment\n",
    "So is this text\n",
    "Text text text text\n",
    "Comment comment comment\n",
    "'''"
   ]
  },
  {
   "cell_type": "markdown",
   "id": "7e14ed48",
   "metadata": {},
   "source": [
    "# Objects\n",
    "[Return to Table of Contents](#Table-of-Contents)\n",
    "\n",
    "Objects are chunks of code that are wrapped up in a particular way. One thing this format enables is the attaching of labels to them to create variables. Objects can have their own functions and variables, so you can have variables inside other variables. Objects generally do some particular job. \n",
    "\n",
    "We’ll talk about them more later."
   ]
  },
  {
   "cell_type": "markdown",
   "id": "b3641a7e",
   "metadata": {},
   "source": [
    "# Variables\n",
    "[Return to Table of Contents](#Table-of-Contents)\n",
    "\n",
    "The following overview is for Base Python functions. List of Python built-in functions can be found at: https://docs.python.org/3/library/functions.html.\n",
    "\n",
    "Unlike other programming languages, Python has no command for declaring a variable. Variables are the combination of an identifying label and a value, often a literal like 2 or \"hello world\". The label/identifier is attached to the value. A variable is created the moment you first assign a value to it. \n",
    "\n",
    "Variables are generally used to hold the result of calculations and user inputs. These are things we can't predict before the code is run. \n",
    "\n",
    "There is no need to declare any variable type before setting it. Python will detect the type (e.g., integer, float, string). They are called variables because you can change the value. Anything can be a variable in Python: \n",
    "- numbers, \n",
    "- strings, \n",
    "- functions,\n",
    "- modules, \n",
    "- chunks of code, \n",
    "- etcetera. "
   ]
  },
  {
   "cell_type": "code",
   "execution_count": 3,
   "id": "933b91ec",
   "metadata": {},
   "outputs": [],
   "source": [
    "x = 1\n",
    "y = 3.4\n",
    "z = 'UMBC'\n",
    "show = \"Game of Thrones\"\n",
    "Answer1 = True\n",
    "Answer2 = False"
   ]
  },
  {
   "cell_type": "code",
   "execution_count": 4,
   "id": "39c7f3a1",
   "metadata": {},
   "outputs": [
    {
     "name": "stdout",
     "output_type": "stream",
     "text": [
      "1\n"
     ]
    }
   ],
   "source": [
    "# I can access the variable with the print function.\n",
    "print(x) # With the cursor in the parenthesis Try \"shift+tab\" to access the print function documentation."
   ]
  },
  {
   "cell_type": "code",
   "execution_count": 5,
   "id": "04e9d303",
   "metadata": {},
   "outputs": [
    {
     "data": {
      "text/plain": [
       "1"
      ]
     },
     "execution_count": 5,
     "metadata": {},
     "output_type": "execute_result"
    }
   ],
   "source": [
    "# I can access the \"x\" value by putting:\n",
    "x # We will later note that the output of the print function is a Nonetype Object vs. in this case is an integer."
   ]
  },
  {
   "cell_type": "code",
   "execution_count": 6,
   "id": "e03e5845",
   "metadata": {},
   "outputs": [
    {
     "name": "stdout",
     "output_type": "stream",
     "text": [
      "3.4\n"
     ]
    },
    {
     "data": {
      "text/plain": [
       "NoneType"
      ]
     },
     "execution_count": 6,
     "metadata": {},
     "output_type": "execute_result"
    }
   ],
   "source": [
    "type(print(y))"
   ]
  },
  {
   "cell_type": "code",
   "execution_count": 7,
   "id": "9624b63d",
   "metadata": {},
   "outputs": [
    {
     "name": "stdout",
     "output_type": "stream",
     "text": [
      "UMBC\n"
     ]
    }
   ],
   "source": [
    "print(z)"
   ]
  },
  {
   "cell_type": "code",
   "execution_count": 8,
   "id": "f9c74d13",
   "metadata": {},
   "outputs": [
    {
     "data": {
      "text/plain": [
       "'UMBC'"
      ]
     },
     "execution_count": 8,
     "metadata": {},
     "output_type": "execute_result"
    }
   ],
   "source": [
    "z"
   ]
  },
  {
   "cell_type": "code",
   "execution_count": 9,
   "id": "3eec59c7",
   "metadata": {},
   "outputs": [
    {
     "name": "stdout",
     "output_type": "stream",
     "text": [
      "Game of Thrones\n"
     ]
    }
   ],
   "source": [
    "print(show)"
   ]
  },
  {
   "cell_type": "code",
   "execution_count": 10,
   "id": "0d19987a",
   "metadata": {},
   "outputs": [
    {
     "name": "stdout",
     "output_type": "stream",
     "text": [
      "True\n"
     ]
    }
   ],
   "source": [
    "print(Answer1)"
   ]
  },
  {
   "cell_type": "code",
   "execution_count": 11,
   "id": "6d924ac6",
   "metadata": {},
   "outputs": [
    {
     "name": "stdout",
     "output_type": "stream",
     "text": [
      "False\n"
     ]
    }
   ],
   "source": [
    "print(Answer2)"
   ]
  },
  {
   "cell_type": "markdown",
   "id": "5a0d54c4",
   "metadata": {},
   "source": [
    "Note that x is an integer, y is a float, z and show are strings, and Answer1 and Answer2 are Booleans. To check we can use the type() function."
   ]
  },
  {
   "cell_type": "code",
   "execution_count": 12,
   "id": "a7ccb513",
   "metadata": {},
   "outputs": [
    {
     "name": "stdout",
     "output_type": "stream",
     "text": [
      "1\n"
     ]
    },
    {
     "data": {
      "text/plain": [
       "NoneType"
      ]
     },
     "execution_count": 12,
     "metadata": {},
     "output_type": "execute_result"
    }
   ],
   "source": [
    "type(print(x))"
   ]
  },
  {
   "cell_type": "code",
   "execution_count": 13,
   "id": "524424e5",
   "metadata": {},
   "outputs": [
    {
     "data": {
      "text/plain": [
       "int"
      ]
     },
     "execution_count": 13,
     "metadata": {},
     "output_type": "execute_result"
    }
   ],
   "source": [
    "type(x)"
   ]
  },
  {
   "cell_type": "code",
   "execution_count": 14,
   "id": "7a899338",
   "metadata": {},
   "outputs": [
    {
     "data": {
      "text/plain": [
       "float"
      ]
     },
     "execution_count": 14,
     "metadata": {},
     "output_type": "execute_result"
    }
   ],
   "source": [
    "type(y)"
   ]
  },
  {
   "cell_type": "code",
   "execution_count": 15,
   "id": "411ae4f8",
   "metadata": {},
   "outputs": [
    {
     "data": {
      "text/plain": [
       "str"
      ]
     },
     "execution_count": 15,
     "metadata": {},
     "output_type": "execute_result"
    }
   ],
   "source": [
    "type(z)"
   ]
  },
  {
   "cell_type": "code",
   "execution_count": 16,
   "id": "c6e44dac",
   "metadata": {},
   "outputs": [
    {
     "data": {
      "text/plain": [
       "bool"
      ]
     },
     "execution_count": 16,
     "metadata": {},
     "output_type": "execute_result"
    }
   ],
   "source": [
    "type(Answer1)"
   ]
  },
  {
   "cell_type": "code",
   "execution_count": 17,
   "id": "090fdb1a",
   "metadata": {},
   "outputs": [
    {
     "name": "stdout",
     "output_type": "stream",
     "text": [
      "Note that x is an <class 'int'>, y is a <class 'float'>, z is a <class 'str'> and Answer1 is <class 'bool'>\n",
      "Note that x is an  <class 'int'>  , y is a  <class 'float'>  z is a  <class 'str'>  and Answer1 is  <class 'bool'> \n",
      "\n",
      "Note that x is an {type(x)}, y is a {type(y)}, z is a {type(z)} and Answer1 is {type(Answer1)}\n"
     ]
    }
   ],
   "source": [
    "# We can get pretty creative with the print function and also do various functions within a cell:\n",
    "print(f'Note that x is an {type(x)}, y is a {type(y)}, z is a {type(z)} and Answer1 is {type(Answer1)}')\n",
    "# \"f\" above is a Formatted String Line.\n",
    "# Alternatively the print above can also be:\n",
    "print('Note that x is an ', type(x), ' , y is a ', type(y),' z is a ',type(z),' and Answer1 is ', type(Answer1), '\\n')\n",
    "# \"\\n\" returns a new line.\n",
    "\n",
    "# 'Not using the \"f\" treats it as a string:\n",
    "print('Note that x is an {type(x)}, y is a {type(y)}, z is a {type(z)} and Answer1 is {type(Answer1)}')"
   ]
  },
  {
   "cell_type": "code",
   "execution_count": 18,
   "id": "720c92ca",
   "metadata": {},
   "outputs": [
    {
     "name": "stdout",
     "output_type": "stream",
     "text": [
      "Data Science\n"
     ]
    }
   ],
   "source": [
    "# Variables do not need to be declared with any particular type and can even change type after they have been set.\n",
    "x = 1\n",
    "x = 3.4125415\n",
    "x = \"Data Science\"\n",
    "print(x)"
   ]
  },
  {
   "cell_type": "code",
   "execution_count": 19,
   "id": "5be87c3d",
   "metadata": {},
   "outputs": [
    {
     "name": "stdout",
     "output_type": "stream",
     "text": [
      "That is my car.\n",
      "That is my car.\n",
      "That's my car.\n"
     ]
    }
   ],
   "source": [
    "# Note on double quotes and single quotes. The first three examples will work but the last will result in an error.\n",
    "print(\"That is my car.\")\n",
    "print('That is my car.')\n",
    "print(\"That's my car.\")"
   ]
  },
  {
   "cell_type": "code",
   "execution_count": 20,
   "id": "5392dcb5",
   "metadata": {},
   "outputs": [],
   "source": [
    "# This example will result in a syntax error. Uncomment and run to see.\n",
    "#print('That's my car.')"
   ]
  },
  {
   "cell_type": "markdown",
   "id": "53ecd5f2",
   "metadata": {},
   "source": [
    "# Variable Naming Conventions and Naming Styles\n",
    "[Return to Table of Contents](#Table-of-Contents)\n",
    "\n",
    "A variable can have a short name (like x and y) or a more descriptive name (age, carname, total_volume). \n",
    "\n",
    "Rules for Python variables naming:<br>\n",
    "[1] A variable name must start with a letter or the underscore character;<br>\n",
    "[2] A variable name cannot start with a number;<br>\n",
    "[3] A variable name can only contain alpha-numeric characters and underscores (A-z, 0-9, and _ ); and<br>\n",
    "[4] Variable names are case-sensitive (age, Age and AGE are three different variables)\n",
    "\n",
    "There is no relationship between a variable's value or use and its name. In the last simple examples, a and b were fine, but generally you should name variables so you can tell what they are used for. In general, the more meaningful your names, the easier it will be to understand the code, when you come back to it, and the less likely you are to use the wrong variable.\n",
    "\n",
    "Style conventions aren't syntax, but allow all coders to recognise what an element is. There's a styleguide for Python at:\n",
    "https://www.python.org/dev/peps/pep-0008/ But it goes out of its way to avoid talking about variable names. \n",
    "\n",
    "The community preference seems to be for lowercase words to be joined with underscores: <b>snake_case</b>: perimeter_of_a_square\n",
    "\n",
    "Though, where Python is working with C or other code, the more conventional <b>camelCase</b> is sometimes used:\n",
    "perimeterOfASquare.\n",
    "\n",
    "Either way, start with a lowercase letter, as other things start uppercase."
   ]
  },
  {
   "cell_type": "code",
   "execution_count": 21,
   "id": "281c974b",
   "metadata": {},
   "outputs": [
    {
     "name": "stdout",
     "output_type": "stream",
     "text": [
      "hello world\n"
     ]
    }
   ],
   "source": [
    "# Example of passing a function within a variable.\n",
    "# In Python (but not all other languages), functions themselves are objects that can be given labels:\n",
    "a = print\n",
    "a(\"hello world\")"
   ]
  },
  {
   "cell_type": "code",
   "execution_count": 22,
   "id": "7e1b0028",
   "metadata": {},
   "outputs": [
    {
     "data": {
      "text/plain": [
       "['__call__',\n",
       " '__class__',\n",
       " '__delattr__',\n",
       " '__dir__',\n",
       " '__doc__',\n",
       " '__eq__',\n",
       " '__format__',\n",
       " '__ge__',\n",
       " '__getattribute__',\n",
       " '__gt__',\n",
       " '__hash__',\n",
       " '__init__',\n",
       " '__init_subclass__',\n",
       " '__le__',\n",
       " '__lt__',\n",
       " '__module__',\n",
       " '__name__',\n",
       " '__ne__',\n",
       " '__new__',\n",
       " '__qualname__',\n",
       " '__reduce__',\n",
       " '__reduce_ex__',\n",
       " '__repr__',\n",
       " '__self__',\n",
       " '__setattr__',\n",
       " '__sizeof__',\n",
       " '__str__',\n",
       " '__subclasshook__',\n",
       " '__text_signature__']"
      ]
     },
     "execution_count": 22,
     "metadata": {},
     "output_type": "execute_result"
    }
   ],
   "source": [
    "# This makes it incredibly powerful: for example, we can pass one function into another (the core of functional programming).\n",
    "# The function dir() return the list of names in the current local scope. \n",
    "# With an argument, attempt to return a list of valid attributes for that object.\n",
    "dir(a)"
   ]
  },
  {
   "cell_type": "markdown",
   "id": "994fc2c3",
   "metadata": {},
   "source": [
    "# Operations with Variables\n",
    "[Return to Table of Contents](#Table-of-Contents)"
   ]
  },
  {
   "cell_type": "code",
   "execution_count": 23,
   "id": "bea319a1",
   "metadata": {},
   "outputs": [
    {
     "name": "stdout",
     "output_type": "stream",
     "text": [
      "100\n",
      "200.124\n",
      "Maryland\n"
     ]
    }
   ],
   "source": [
    "# you can define multiple variables at once\n",
    "y, z, asd = 100, 200.124, \"Maryland\"\n",
    "print(y)\n",
    "print(z)\n",
    "print(asd)"
   ]
  },
  {
   "cell_type": "code",
   "execution_count": 24,
   "id": "164d1d2f",
   "metadata": {},
   "outputs": [],
   "source": [
    "var1 = 'This is a String'"
   ]
  },
  {
   "cell_type": "code",
   "execution_count": 25,
   "id": "cc97cfe7",
   "metadata": {},
   "outputs": [],
   "source": [
    "var2 = \"This is also a String\"  # Did you see the difference between this command and previouse one?"
   ]
  },
  {
   "cell_type": "code",
   "execution_count": 26,
   "id": "622bd5ed",
   "metadata": {},
   "outputs": [
    {
     "data": {
      "text/plain": [
       "'This is a StringThis is also a String'"
      ]
     },
     "execution_count": 26,
     "metadata": {},
     "output_type": "execute_result"
    }
   ],
   "source": [
    "# what happens if we add them?\n",
    "var1+var2"
   ]
  },
  {
   "cell_type": "code",
   "execution_count": 27,
   "id": "3db53618",
   "metadata": {},
   "outputs": [
    {
     "name": "stdout",
     "output_type": "stream",
     "text": [
      "This is a String . This is also a String\n"
     ]
    }
   ],
   "source": [
    "# what happens if we try this:\n",
    "print(var1,'.',var2)"
   ]
  },
  {
   "cell_type": "code",
   "execution_count": 28,
   "id": "3bc1947c",
   "metadata": {},
   "outputs": [],
   "source": [
    "var1, var2 = 1, 2"
   ]
  },
  {
   "cell_type": "code",
   "execution_count": 29,
   "id": "1150fd53",
   "metadata": {},
   "outputs": [
    {
     "data": {
      "text/plain": [
       "0.5"
      ]
     },
     "execution_count": 29,
     "metadata": {},
     "output_type": "execute_result"
    }
   ],
   "source": [
    "var1 / var2   # Regular division"
   ]
  },
  {
   "cell_type": "code",
   "execution_count": 30,
   "id": "82b2b955",
   "metadata": {},
   "outputs": [
    {
     "data": {
      "text/plain": [
       "0"
      ]
     },
     "execution_count": 30,
     "metadata": {},
     "output_type": "execute_result"
    }
   ],
   "source": [
    "var1 // var2  # Integer division – drop fraction"
   ]
  },
  {
   "cell_type": "code",
   "execution_count": 31,
   "id": "e8f42514",
   "metadata": {},
   "outputs": [
    {
     "name": "stdout",
     "output_type": "stream",
     "text": [
      "10000\n"
     ]
    }
   ],
   "source": [
    "y = 100\n",
    "x=y**2 # exponent \n",
    "print(x)"
   ]
  },
  {
   "cell_type": "code",
   "execution_count": 32,
   "id": "fccfcbfa",
   "metadata": {},
   "outputs": [
    {
     "name": "stdout",
     "output_type": "stream",
     "text": [
      "10000.0\n"
     ]
    }
   ],
   "source": [
    "y = 100.0\n",
    "x=y**2 # exponent \n",
    "print(x)"
   ]
  },
  {
   "cell_type": "code",
   "execution_count": 33,
   "id": "f4c605b8",
   "metadata": {},
   "outputs": [],
   "source": [
    "# Do you see the difference between the previous two lines?"
   ]
  },
  {
   "cell_type": "code",
   "execution_count": 34,
   "id": "ac723da5",
   "metadata": {},
   "outputs": [
    {
     "data": {
      "text/plain": [
       "0.5"
      ]
     },
     "execution_count": 34,
     "metadata": {},
     "output_type": "execute_result"
    }
   ],
   "source": [
    "# int and float results in float\n",
    "1/2.0   "
   ]
  },
  {
   "cell_type": "code",
   "execution_count": 35,
   "id": "0435e5e9",
   "metadata": {},
   "outputs": [
    {
     "name": "stdout",
     "output_type": "stream",
     "text": [
      "<class 'complex'>\n"
     ]
    }
   ],
   "source": [
    "#  Python can handle complex numbers as well\n",
    "w = 3+4j\n",
    "print(type(w))"
   ]
  },
  {
   "cell_type": "code",
   "execution_count": 36,
   "id": "b25f6c43",
   "metadata": {},
   "outputs": [
    {
     "name": "stdout",
     "output_type": "stream",
     "text": [
      "1100.0\n"
     ]
    }
   ],
   "source": [
    "# Float can also be scientific numbers with an \"e\" to indicate the power of 10.\n",
    "x = 1.1e3\n",
    "print(x)"
   ]
  },
  {
   "cell_type": "code",
   "execution_count": 37,
   "id": "7b115c33",
   "metadata": {},
   "outputs": [
    {
     "name": "stdout",
     "output_type": "stream",
     "text": [
      "<class 'complex'>\n"
     ]
    }
   ],
   "source": [
    "# Python can handle Complex Numbers.\n",
    "w = 3+4j\n",
    "print(type(w))"
   ]
  },
  {
   "cell_type": "code",
   "execution_count": 38,
   "id": "72c7e90f",
   "metadata": {},
   "outputs": [
    {
     "name": "stdout",
     "output_type": "stream",
     "text": [
      "1100.0\n"
     ]
    }
   ],
   "source": [
    "# Floats can also be scientify numbers with an \"e\" to indicate the power of 10.\n",
    "x= 1.1e3\n",
    "print(x)"
   ]
  },
  {
   "cell_type": "markdown",
   "id": "1fd85792",
   "metadata": {},
   "source": [
    "# CASTING: Specifying Data Type\n",
    "[Return to Table of Contents](#Table-of-Contents)\n",
    "\n",
    "There may be times when you want to specify a type on to a variable. This can be done with casting.\n",
    "\n",
    "The function int() constructs an integer number from an integer literal, a float() literal (by rounding down to the previous whole number), or a string literal (providing the string represents a whole number)."
   ]
  },
  {
   "cell_type": "code",
   "execution_count": 39,
   "id": "79e1b81e",
   "metadata": {},
   "outputs": [
    {
     "name": "stdout",
     "output_type": "stream",
     "text": [
      "1 2 3\n"
     ]
    }
   ],
   "source": [
    "x = int(1)   \n",
    "y = int(2.8) \n",
    "z = int(\"3\") \n",
    "print(x,y,z)"
   ]
  },
  {
   "cell_type": "markdown",
   "id": "acebad4f",
   "metadata": {},
   "source": [
    "The function float() constructs a float number from an integer literal, a float literal or a string literal (providing the string represents a float or an integer)"
   ]
  },
  {
   "cell_type": "code",
   "execution_count": 40,
   "id": "f1977006",
   "metadata": {},
   "outputs": [
    {
     "name": "stdout",
     "output_type": "stream",
     "text": [
      "1.0 2.8 3.0 4.2\n"
     ]
    }
   ],
   "source": [
    "x = float(1)    \n",
    "y = float(2.8)   \n",
    "z = float(\"3\")   \n",
    "w = float(\"4.2\")\n",
    "print(x,y,z,w)"
   ]
  },
  {
   "cell_type": "markdown",
   "id": "4d913ae9",
   "metadata": {},
   "source": [
    "The Function str() constructs a string from a wide variety of data types, including strings, integer literals and float literals"
   ]
  },
  {
   "cell_type": "code",
   "execution_count": 41,
   "id": "eb31ce72",
   "metadata": {},
   "outputs": [
    {
     "name": "stdout",
     "output_type": "stream",
     "text": [
      "s1 2 3.0 Python Rocks\n"
     ]
    }
   ],
   "source": [
    "x = str(\"s1\") \n",
    "y = str(2)    \n",
    "z = str(3.0)\n",
    "w = str('Python Rocks')\n",
    "print(x,y,z,w)"
   ]
  },
  {
   "cell_type": "markdown",
   "id": "547f2ce8",
   "metadata": {},
   "source": [
    "# Working With Strings\n",
    "[Return to Table of Contents](#Table-of-Contents)\n",
    "\n",
    "Note that Python stores strings as arrays of bytes representing unicode characters."
   ]
  },
  {
   "cell_type": "code",
   "execution_count": 42,
   "id": "44df6d94",
   "metadata": {},
   "outputs": [
    {
     "data": {
      "text/plain": [
       "12"
      ]
     },
     "execution_count": 42,
     "metadata": {},
     "output_type": "execute_result"
    }
   ],
   "source": [
    "# Let's look at \"w\" more carefully, \n",
    "len(w)"
   ]
  },
  {
   "cell_type": "code",
   "execution_count": 43,
   "id": "f91e871b",
   "metadata": {},
   "outputs": [
    {
     "name": "stdout",
     "output_type": "stream",
     "text": [
      "P\n"
     ]
    }
   ],
   "source": [
    "print(w[0]) # Python is a zero index code. First position starts at 0 not 1."
   ]
  },
  {
   "cell_type": "code",
   "execution_count": 44,
   "id": "e5e40a73",
   "metadata": {},
   "outputs": [
    {
     "name": "stdout",
     "output_type": "stream",
     "text": [
      "y\n"
     ]
    }
   ],
   "source": [
    "print(w[1])"
   ]
  },
  {
   "cell_type": "code",
   "execution_count": 45,
   "id": "a182284c",
   "metadata": {},
   "outputs": [
    {
     "data": {
      "text/plain": [
       "'s'"
      ]
     },
     "execution_count": 45,
     "metadata": {},
     "output_type": "execute_result"
    }
   ],
   "source": [
    "# You don't have to use the print function. However, note the difference, not using it returns a string.\n",
    "w[-1]"
   ]
  },
  {
   "cell_type": "code",
   "execution_count": 46,
   "id": "655bdaad",
   "metadata": {},
   "outputs": [
    {
     "data": {
      "text/plain": [
       "'on Rocks'"
      ]
     },
     "execution_count": 46,
     "metadata": {},
     "output_type": "execute_result"
    }
   ],
   "source": [
    "w[4:]"
   ]
  },
  {
   "cell_type": "code",
   "execution_count": 47,
   "id": "11013363",
   "metadata": {},
   "outputs": [
    {
     "data": {
      "text/plain": [
       "'Pytho'"
      ]
     },
     "execution_count": 47,
     "metadata": {},
     "output_type": "execute_result"
    }
   ],
   "source": [
    "w[:5]"
   ]
  },
  {
   "cell_type": "code",
   "execution_count": 48,
   "id": "22e2fd3c",
   "metadata": {},
   "outputs": [
    {
     "name": "stdout",
     "output_type": "stream",
     "text": [
      " \n"
     ]
    }
   ],
   "source": [
    "print(w[6])"
   ]
  },
  {
   "cell_type": "code",
   "execution_count": 49,
   "id": "0500775e",
   "metadata": {},
   "outputs": [
    {
     "name": "stdout",
     "output_type": "stream",
     "text": [
      "Albert Einstein\n",
      "Albert Einstein\n",
      "Albert Einstein\n"
     ]
    }
   ],
   "source": [
    "# There are so many great string functions in Python, which will be so useful for EDA.\n",
    "# For example: strip(), removes any whitespace from the beginning or the end.\n",
    "Name1 = \"Albert Einstein\"\n",
    "Name2 = \" Albert Einstein\"\n",
    "Name3 = \"  Albert Einstein   \"\n",
    "print(Name1.strip())\n",
    "print(Name2.strip())\n",
    "print(Name3.strip())"
   ]
  },
  {
   "cell_type": "code",
   "execution_count": 50,
   "id": "18c20862",
   "metadata": {},
   "outputs": [
    {
     "name": "stdout",
     "output_type": "stream",
     "text": [
      "albert einstein\n"
     ]
    }
   ],
   "source": [
    "# The lower() method returns the string in lower case:\n",
    "Name1 = \"Albert Einstein\"\n",
    "print(Name1.lower())"
   ]
  },
  {
   "cell_type": "code",
   "execution_count": 51,
   "id": "0daad8ba",
   "metadata": {},
   "outputs": [
    {
     "name": "stdout",
     "output_type": "stream",
     "text": [
      "ALBERT EINSTEIN\n"
     ]
    }
   ],
   "source": [
    "# The upper() method returns the string in upper case:\n",
    "Name1 = \"Albert Einstein\"\n",
    "print(Name1.upper())"
   ]
  },
  {
   "cell_type": "code",
   "execution_count": 52,
   "id": "04110dfe",
   "metadata": {},
   "outputs": [
    {
     "name": "stdout",
     "output_type": "stream",
     "text": [
      "€100, €200, €87, €500\n"
     ]
    }
   ],
   "source": [
    "# Another very useful method is replace()\n",
    "# The replace() method replaces a string with another string:\n",
    "prices = \"$100, $200, $87, $500\"\n",
    "print(prices.replace(\"$\", \"€\"))"
   ]
  },
  {
   "cell_type": "code",
   "execution_count": 53,
   "id": "d0c01ecb",
   "metadata": {},
   "outputs": [
    {
     "name": "stdout",
     "output_type": "stream",
     "text": [
      "100, 200, 87, 500\n"
     ]
    }
   ],
   "source": [
    "prices = \"$100, $200, $87, $500\"\n",
    "print(prices.replace(\"$\", \"\"))"
   ]
  },
  {
   "cell_type": "code",
   "execution_count": 54,
   "id": "0423f285",
   "metadata": {},
   "outputs": [
    {
     "name": "stdout",
     "output_type": "stream",
     "text": [
      "['$100', ' $200', ' $87', ' $500']\n"
     ]
    }
   ],
   "source": [
    "# Another super powerful method is split\n",
    "# split() method splits the string into substrings if it finds instances of the separator.\n",
    "prices = \"$100, $200, $87, $500\"\n",
    "print(prices.split(\",\"))\n",
    "# Note the output here is new. Is a list of strings. We will be discussing about lists later on."
   ]
  },
  {
   "cell_type": "code",
   "execution_count": 55,
   "id": "533c8769",
   "metadata": {},
   "outputs": [
    {
     "name": "stdout",
     "output_type": "stream",
     "text": [
      "['I', 'will', 'go', 'shopping', 'today']\n"
     ]
    }
   ],
   "source": [
    "A_sentence = \"I will go shopping today\"\n",
    "print(A_sentence.split(\" \"))"
   ]
  },
  {
   "cell_type": "code",
   "execution_count": 56,
   "id": "1566fd84",
   "metadata": {},
   "outputs": [
    {
     "name": "stdout",
     "output_type": "stream",
     "text": [
      "Baltimore is 74 degrees Fahrenheit today.\n"
     ]
    }
   ],
   "source": [
    "# If you try to combine a string and a number, Python will give you an error:\n",
    "# If you need to combine a string and a number, then you'll need to convert numbers into strings\n",
    "temperature = 74\n",
    "z = \"Baltimore\"\n",
    "print(z, 'is', str(temperature), \"degrees Fahrenheit today.\")"
   ]
  },
  {
   "cell_type": "markdown",
   "id": "6ef4b28c",
   "metadata": {},
   "source": [
    "# Command-line String Input() Function\n",
    "[Return to Table of Contents](#Table-of-Contents)"
   ]
  },
  {
   "cell_type": "code",
   "execution_count": 57,
   "id": "a6dd5895",
   "metadata": {},
   "outputs": [
    {
     "name": "stdout",
     "output_type": "stream",
     "text": [
      "Enter your name: Felix\n"
     ]
    }
   ],
   "source": [
    "# Python allows for command line input. That means we are able to ask the user for input.\n",
    "# What we need is the input() method\n",
    "x = input(prompt = 'Enter your name: ')"
   ]
  },
  {
   "cell_type": "code",
   "execution_count": 58,
   "id": "ed7f587d",
   "metadata": {},
   "outputs": [
    {
     "name": "stdout",
     "output_type": "stream",
     "text": [
      "Hello Felix\n"
     ]
    }
   ],
   "source": [
    "print(\"Hello\", x)"
   ]
  },
  {
   "cell_type": "markdown",
   "id": "f101107a",
   "metadata": {},
   "source": [
    "# Python Operators\n",
    "[Return to Table of Contents](#Table-of-Contents)\n",
    "\n",
    "Python has many operators. This include those used for arithmetic operations."
   ]
  },
  {
   "cell_type": "code",
   "execution_count": 59,
   "id": "340f8776",
   "metadata": {},
   "outputs": [
    {
     "name": "stdout",
     "output_type": "stream",
     "text": [
      "14.0 10.0 24.0 144.0 6.2 6.0 1 1.0\n"
     ]
    }
   ],
   "source": [
    "x = 12.0\n",
    "y = 2\n",
    "addition = x+y\n",
    "subtraction = x-y\n",
    "multiplication = x*y\n",
    "exponentitation = x**y\n",
    "division = 12.4/y\n",
    "floor_division = 12.4//y\n",
    "modulus = 10%3\n",
    "modulus2 = 10%3.0\n",
    "print(addition, subtraction, multiplication, exponentitation, division, floor_division, modulus, modulus2)\n",
    "# Note the difference between division and floor division!"
   ]
  },
  {
   "cell_type": "code",
   "execution_count": 60,
   "id": "8dfb914f",
   "metadata": {},
   "outputs": [],
   "source": [
    "# Augmented Assignment Operators are very useful operators for counting, indexing, etc."
   ]
  },
  {
   "cell_type": "code",
   "execution_count": 61,
   "id": "1a5ca683",
   "metadata": {},
   "outputs": [
    {
     "data": {
      "text/plain": [
       "13.0"
      ]
     },
     "execution_count": 61,
     "metadata": {},
     "output_type": "execute_result"
    }
   ],
   "source": [
    "x += 1 # Same as: x = x + 1 \n",
    "x"
   ]
  },
  {
   "cell_type": "code",
   "execution_count": 62,
   "id": "2a9fbc5c",
   "metadata": {},
   "outputs": [
    {
     "data": {
      "text/plain": [
       "12.0"
      ]
     },
     "execution_count": 62,
     "metadata": {},
     "output_type": "execute_result"
    }
   ],
   "source": [
    "x -= 1 # same as: x = x – 1\n",
    "x"
   ]
  },
  {
   "cell_type": "code",
   "execution_count": 63,
   "id": "bb60420c",
   "metadata": {},
   "outputs": [
    {
     "data": {
      "text/plain": [
       "36.0"
      ]
     },
     "execution_count": 63,
     "metadata": {},
     "output_type": "execute_result"
    }
   ],
   "source": [
    "x *= 3 # same as: x = x * 3\n",
    "x"
   ]
  },
  {
   "cell_type": "code",
   "execution_count": 64,
   "id": "50c8ec86",
   "metadata": {},
   "outputs": [
    {
     "data": {
      "text/plain": [
       "12.0"
      ]
     },
     "execution_count": 64,
     "metadata": {},
     "output_type": "execute_result"
    }
   ],
   "source": [
    "x /= 3 # same as: x = x / 3\n",
    "x"
   ]
  },
  {
   "cell_type": "code",
   "execution_count": 65,
   "id": "9b480ac2",
   "metadata": {},
   "outputs": [
    {
     "data": {
      "text/plain": [
       "4.0"
      ]
     },
     "execution_count": 65,
     "metadata": {},
     "output_type": "execute_result"
    }
   ],
   "source": [
    "x //= 3 # same as: x = x // 3\n",
    "x"
   ]
  },
  {
   "cell_type": "code",
   "execution_count": 66,
   "id": "abbac8e6",
   "metadata": {},
   "outputs": [
    {
     "data": {
      "text/plain": [
       "1.0"
      ]
     },
     "execution_count": 66,
     "metadata": {},
     "output_type": "execute_result"
    }
   ],
   "source": [
    "x %= 3 # same as: x = x % 3\n",
    "x"
   ]
  },
  {
   "cell_type": "markdown",
   "id": "e77cd6b7",
   "metadata": {},
   "source": [
    "# Conditions, Logical Operators, If statements and Loops\n",
    "[Return to Table of Contents](#Table-of-Contents)\n",
    "\n",
    "Python supports the usual logical conditions from mathematics.\n",
    "\n",
    "## Logical Operators\n",
    "\n",
    "Python has various logical operators that allow to compare variables, numbers, classes. These include but is not limited toAND (&), OR (|), NOT (using ~), ==, <, >, =<, =>, !=, among many others."
   ]
  },
  {
   "cell_type": "code",
   "execution_count": 67,
   "id": "762a6cab",
   "metadata": {},
   "outputs": [
    {
     "data": {
      "text/plain": [
       "False"
      ]
     },
     "execution_count": 67,
     "metadata": {},
     "output_type": "execute_result"
    }
   ],
   "source": [
    "# For example:\n",
    "x == y"
   ]
  },
  {
   "cell_type": "code",
   "execution_count": 68,
   "id": "c3798359",
   "metadata": {},
   "outputs": [
    {
     "data": {
      "text/plain": [
       "True"
      ]
     },
     "execution_count": 68,
     "metadata": {},
     "output_type": "execute_result"
    }
   ],
   "source": [
    "x != y"
   ]
  },
  {
   "cell_type": "code",
   "execution_count": 69,
   "id": "8c4c6e93",
   "metadata": {},
   "outputs": [
    {
     "data": {
      "text/plain": [
       "False"
      ]
     },
     "execution_count": 69,
     "metadata": {},
     "output_type": "execute_result"
    }
   ],
   "source": [
    "1 > 4"
   ]
  },
  {
   "cell_type": "markdown",
   "id": "e2c7e825",
   "metadata": {},
   "source": [
    "## Basics of a Script: Indentation\n",
    "Python uses indents to indicate blocks of code – no brackets. See Sections on \"If Statements\" and \"Loops\" for examples."
   ]
  },
  {
   "cell_type": "markdown",
   "id": "b66b0c06",
   "metadata": {},
   "source": [
    "## If Statements\n",
    "If statements are used for handling decisions in comparisons, defined conditions or actions."
   ]
  },
  {
   "cell_type": "code",
   "execution_count": 70,
   "id": "050b9093",
   "metadata": {},
   "outputs": [],
   "source": [
    "if x > y:\n",
    "    print(\"x is greater than y.\")\n",
    "# Note nothing is returned."
   ]
  },
  {
   "cell_type": "code",
   "execution_count": 71,
   "id": "4a79c218",
   "metadata": {},
   "outputs": [
    {
     "name": "stdout",
     "output_type": "stream",
     "text": [
      "The statement is true.\n"
     ]
    }
   ],
   "source": [
    "if 4 < 6:\n",
    "    print(\"The statement is true.\")"
   ]
  },
  {
   "cell_type": "code",
   "execution_count": 72,
   "id": "6500618e",
   "metadata": {},
   "outputs": [
    {
     "name": "stdout",
     "output_type": "stream",
     "text": [
      "x is NOT greater than y.\n"
     ]
    }
   ],
   "source": [
    "if x > y:\n",
    "    print(\"x is greater than y.\")\n",
    "else:\n",
    "    print(\"x is NOT greater than y.\")"
   ]
  },
  {
   "cell_type": "markdown",
   "id": "bee690cd",
   "metadata": {},
   "source": [
    "## Loops\n",
    "There are two main types of loops:\n",
    "- For loops: iterate thru a known number of iterable items.\n",
    "- While loops: iterates until certain condition is met.\n",
    "\n",
    "When defining loops we tend to use i, j, and k for counters because in the first third generation language, FORTRAN, letters had to be used for certain variables, and certain types of number could only be assigned to certain letters. Integer values (whole numbers) could only be assigned to the letters from i (for integer) onwards. For this reason, people still use i, j, k for counting things (but not lowercase \"L\" -- it looks too much like a one)."
   ]
  },
  {
   "cell_type": "code",
   "execution_count": 73,
   "id": "08955b40",
   "metadata": {},
   "outputs": [
    {
     "name": "stdout",
     "output_type": "stream",
     "text": [
      "2 3\n",
      "4 5\n",
      "7 8\n",
      "All done.\n"
     ]
    }
   ],
   "source": [
    "# Indentation example\n",
    "x = 1\n",
    "y = 2\n",
    "for i in (1, 2, 3):\n",
    "    x = x + i\n",
    "    y = y + i\n",
    "    if x > y:\n",
    "        print('Something is wrong!')\n",
    "    print(x, y)\n",
    "print('All done.')"
   ]
  },
  {
   "cell_type": "markdown",
   "id": "ff58c282",
   "metadata": {},
   "source": [
    "# Modules, Packages, and Libraries\n",
    "[Return to Table of Contents](#Table-of-Contents)\n",
    "\n",
    "Note that Anaconda Distribution already included installation of many Python modules, packages and libraries. The full list can be found at https://docs.anaconda.com/anaconda/packages/pkg-docs/. Note that it varies per version of Anaconda Distribution.\n",
    "\n",
    "Functions most of the time are loaded at the beginning of a Jupyter Notebook. We will talk about this more later."
   ]
  },
  {
   "cell_type": "code",
   "execution_count": 74,
   "id": "616b518f",
   "metadata": {},
   "outputs": [],
   "source": [
    "# Can also import specific functions from a library.\n",
    "from numpy import zeros # This imports the zeros function only."
   ]
  },
  {
   "cell_type": "code",
   "execution_count": 75,
   "id": "527e55f4",
   "metadata": {},
   "outputs": [
    {
     "data": {
      "text/plain": [
       "array([0., 0., 0., 0., 0.])"
      ]
     },
     "execution_count": 75,
     "metadata": {},
     "output_type": "execute_result"
    }
   ],
   "source": [
    "zeros(5)"
   ]
  },
  {
   "cell_type": "code",
   "execution_count": 76,
   "id": "591a957f",
   "metadata": {},
   "outputs": [],
   "source": [
    "# To import and load a package you do the following.\n",
    "import numpy as np # Note that many packages are defined as the abbreviation in this case np.\n",
    "# The abbreviation can help save time in calling the library."
   ]
  },
  {
   "cell_type": "code",
   "execution_count": 77,
   "id": "7c57e8b0",
   "metadata": {},
   "outputs": [
    {
     "data": {
      "text/plain": [
       "array([0., 0., 0., 0., 0.])"
      ]
     },
     "execution_count": 77,
     "metadata": {},
     "output_type": "execute_result"
    }
   ],
   "source": [
    "np.zeros(5)"
   ]
  },
  {
   "cell_type": "code",
   "execution_count": 78,
   "id": "21102c9e",
   "metadata": {},
   "outputs": [],
   "source": [
    "# Some places may show the following when importing a module:\n",
    "#from numpy import * \n",
    "# This imports all functions from in a module and can be dangereous and can affext the namespaces."
   ]
  },
  {
   "cell_type": "code",
   "execution_count": 79,
   "id": "7d54f21a",
   "metadata": {},
   "outputs": [
    {
     "name": "stdout",
     "output_type": "stream",
     "text": [
      "1.21.5\n"
     ]
    }
   ],
   "source": [
    "print(np.__version__) # This prints the version of the np library."
   ]
  },
  {
   "cell_type": "markdown",
   "id": "90591423",
   "metadata": {},
   "source": [
    "Python also makes installing packages easy in general using conda on the command line. To open the command line do a search on the application \"Anaconda Prompt\" (i.e., command line). You can use the following line to install a package: \n",
    "- \"$conda install name_of_package\"\n",
    "    \n",
    "Another method is to use Pythons PIP package manager. To install a pakcage using pip can be done from the Jupyter Notebook code cell using the following line of code:\n",
    "- \"pip install name_of_package\"\n",
    "\n",
    "PIP can also be used in the Anaconda Prompt command line. Conda access the Python index at Anaconda while the PIP access the index in the Python index site. We will talk about this more later."
   ]
  },
  {
   "cell_type": "markdown",
   "id": "8407cdda",
   "metadata": {},
   "source": [
    "# Alwasy remember to save your notebook!\n",
    "In this class we will discuss how to use many libraries and their functions for each of the workflows in datascience."
   ]
  },
  {
   "cell_type": "markdown",
   "id": "361c42e2",
   "metadata": {},
   "source": [
    "[Return to Table of Contents](#Table-of-Contents)\n",
    "# NOTEBOOK END"
   ]
  },
  {
   "cell_type": "code",
   "execution_count": null,
   "id": "a82b998b",
   "metadata": {},
   "outputs": [],
   "source": []
  },
  {
   "cell_type": "code",
   "execution_count": null,
   "id": "c0eae9eb",
   "metadata": {},
   "outputs": [],
   "source": []
  },
  {
   "cell_type": "code",
   "execution_count": null,
   "id": "5a44d274",
   "metadata": {},
   "outputs": [],
   "source": []
  }
 ],
 "metadata": {
  "kernelspec": {
   "display_name": "Python 3 (ipykernel)",
   "language": "python",
   "name": "python3"
  },
  "language_info": {
   "codemirror_mode": {
    "name": "ipython",
    "version": 3
   },
   "file_extension": ".py",
   "mimetype": "text/x-python",
   "name": "python",
   "nbconvert_exporter": "python",
   "pygments_lexer": "ipython3",
   "version": "3.9.13"
  }
 },
 "nbformat": 4,
 "nbformat_minor": 5
}
