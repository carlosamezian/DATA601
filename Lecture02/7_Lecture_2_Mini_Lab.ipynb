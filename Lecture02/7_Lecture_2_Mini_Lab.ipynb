{
 "cells": [
  {
   "cell_type": "markdown",
   "id": "1d9388a3",
   "metadata": {},
   "source": [
    "# Mini Lab\n",
    "In the mini-lab the excercise provide instruction on what to do. Feel free to add as many cells as you need. The excercises here are minimum reproducible examples. They are short but once the script is developed, if developed correctly will work with any sentence regardless of how long it is or with any number of elements in a list. "
   ]
  },
  {
   "cell_type": "markdown",
   "id": "cc1e227a",
   "metadata": {},
   "source": [
    "#### Excercise 1:\n",
    "Define a variable for the following sentence: 'This_is_a_sentence_for_the_mini-lab'"
   ]
  },
  {
   "cell_type": "markdown",
   "id": "12a46ddd",
   "metadata": {},
   "source": [
    "#### Excercise 2:\n",
    "Given the sentence in the variable above, calculate how many characters the sentence has using the len() function."
   ]
  },
  {
   "cell_type": "markdown",
   "id": "bdb4205e",
   "metadata": {},
   "source": [
    "#### Excercise 3:\n",
    "Create a a new list from the sentence above were each word is a separate element in the list. There may be few ways to do this.\n",
    "- The replace function can be used to replace the undersore and then use the split function with default parameters\n",
    "- Use the split function but modifying the separator parameter in the split funciton."
   ]
  },
  {
   "cell_type": "markdown",
   "id": "d7cf9363",
   "metadata": {},
   "source": [
    "#### Excercise 4:\n",
    "Count how many words the sentence has. Could use the len() on the new list of the words. Alternatively one could also count  count how many from the original sentence underscores and correct for + 1. "
   ]
  },
  {
   "cell_type": "markdown",
   "id": "bd3dc915",
   "metadata": {},
   "source": [
    "#### Excercise 5:\n",
    "Define a names list of the following names: 'Liam', 'Olivia', 'Emma', 'Noah', 'Elijah', 'Amelia'.  Create a new list that only has the names of the elements in the odd index.\n",
    "- If using a for loop you can use the range() function to tell the loop where to start.\n",
    "- If using a while loop you can adjust the counter accordingly.\n",
    "- There may be other alternatives using some of the discussed functions in lists.\n",
    "\n",
    "New list should be ['Olivia', 'Noah', 'Amelia']."
   ]
  },
  {
   "cell_type": "markdown",
   "id": "915d1d5c",
   "metadata": {},
   "source": [
    "# NOTEBOOK END."
   ]
  },
  {
   "cell_type": "code",
   "execution_count": null,
   "id": "1e00273d",
   "metadata": {},
   "outputs": [],
   "source": []
  },
  {
   "cell_type": "code",
   "execution_count": null,
   "id": "e73bf03d",
   "metadata": {},
   "outputs": [],
   "source": []
  },
  {
   "cell_type": "code",
   "execution_count": null,
   "id": "ecc6110e",
   "metadata": {},
   "outputs": [],
   "source": []
  }
 ],
 "metadata": {
  "kernelspec": {
   "display_name": "Python 3 (ipykernel)",
   "language": "python",
   "name": "python3"
  },
  "language_info": {
   "codemirror_mode": {
    "name": "ipython",
    "version": 3
   },
   "file_extension": ".py",
   "mimetype": "text/x-python",
   "name": "python",
   "nbconvert_exporter": "python",
   "pygments_lexer": "ipython3",
   "version": "3.9.13"
  }
 },
 "nbformat": 4,
 "nbformat_minor": 5
}
